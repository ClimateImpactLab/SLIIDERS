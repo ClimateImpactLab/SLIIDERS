{
 "cells": [
  {
   "cell_type": "markdown",
   "id": "27ec19f6-fb7a-4366-8b19-87aa34abbe5b",
   "metadata": {},
   "source": [
    "## Combine protected areas for global processing\n",
    "- US National Levee Database (NLDB)\n",
    "- Netherlands"
   ]
  },
  {
   "cell_type": "code",
   "execution_count": 1,
   "id": "3d31c8d2-c230-4f1a-ad8d-141bcd397272",
   "metadata": {},
   "outputs": [],
   "source": [
    "%load_ext autoreload\n",
    "%autoreload 2"
   ]
  },
  {
   "cell_type": "code",
   "execution_count": 2,
   "id": "1642f3da-283c-4bd1-a6c0-454e44e64e8a",
   "metadata": {},
   "outputs": [],
   "source": [
    "import geopandas as gpd\n",
    "import pandas as pd\n",
    "from sliiders import settings as sset\n",
    "from sliiders.io import save_geoparquet"
   ]
  },
  {
   "cell_type": "code",
   "execution_count": 3,
   "id": "096695b4-03d3-4f61-9f00-1bdba2c8db0b",
   "metadata": {},
   "outputs": [],
   "source": [
    "nldb = gpd.read_parquet(sset.PATH_NLDB)"
   ]
  },
  {
   "cell_type": "markdown",
   "id": "fda0cdf8-c491-4efd-a97c-0503f0956517",
   "metadata": {},
   "source": [
    "Netherlands (assume all of the European Netherlands is protected)"
   ]
  },
  {
   "cell_type": "code",
   "execution_count": 4,
   "id": "044b423d-9634-4fee-8639-a82bc0691055",
   "metadata": {},
   "outputs": [],
   "source": [
    "vor_shapes = gpd.read_parquet(sset.PATH_GADM_ADM0_VORONOI).geometry\n",
    "protected_areas_nld = vor_shapes[[\"NLD\"]].rename_axis(\"name\").reset_index()\n",
    "protected_areas_nld.index = pd.Index([1], name=\"id\")"
   ]
  },
  {
   "cell_type": "markdown",
   "id": "2400915b-2180-4c04-93a2-33907ee6c3f1",
   "metadata": {},
   "source": [
    "Combine"
   ]
  },
  {
   "cell_type": "code",
   "execution_count": 5,
   "id": "568c0b55-51f0-4776-bc57-e05d82e25188",
   "metadata": {},
   "outputs": [],
   "source": [
    "protected_areas = pd.concat((nldb, protected_areas_nld)).rename_axis(\n",
    "    \"protection_zone_id\"\n",
    ")"
   ]
  },
  {
   "cell_type": "code",
   "execution_count": 33,
   "id": "5b796e0e-614f-4ff1-b29f-0c825b50d443",
   "metadata": {},
   "outputs": [
    {
     "data": {
      "text/plain": [
       "<AxesSubplot:>"
      ]
     },
     "execution_count": 33,
     "metadata": {},
     "output_type": "execute_result"
    },
    {
     "data": {
      "image/png": "[encoded data removed]",
      "text/plain": [
       "<Figure size 432x288 with 1 Axes>"
      ]
     },
     "metadata": {
      "needs_background": "light"
     },
     "output_type": "display_data"
    }
   ],
   "source": [
    "# plot-checking the protected areas\n",
    "protected_areas.head().plot()"
   ]
  },
  {
   "cell_type": "markdown",
   "id": "f51062a6-3991-4d02-b7c6-4d0d03f94331",
   "metadata": {},
   "source": [
    "# Save combined areas"
   ]
  },
  {
   "cell_type": "code",
   "execution_count": 38,
   "id": "d6b299af-af5a-40d0-a650-4fed516e095b",
   "metadata": {},
   "outputs": [],
   "source": [
    "save_geoparquet(protected_areas, sset.PATH_COMBINED_PROTECTED_AREAS)"
   ]
  }
 ],
 "metadata": {
  "kernelspec": {
   "display_name": "Python 3 (ipykernel)",
   "language": "python",
   "name": "python3"
  },
  "language_info": {
   "codemirror_mode": {
    "name": "ipython",
    "version": 3
   },
   "file_extension": ".py",
   "mimetype": "text/x-python",
   "name": "python",
   "nbconvert_exporter": "python",
   "pygments_lexer": "ipython3",
   "version": "3.9.10"
  },
  "widgets": {
   "application/vnd.jupyter.widget-state+json": {
    "state": {},
    "version_major": 2,
    "version_minor": 0
   }
  }
 },
 "nbformat": 4,
 "nbformat_minor": 5
}
