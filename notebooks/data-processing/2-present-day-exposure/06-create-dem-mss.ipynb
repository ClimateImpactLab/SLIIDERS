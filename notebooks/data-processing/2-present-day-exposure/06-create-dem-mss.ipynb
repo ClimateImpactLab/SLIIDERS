{
 "cells": [
  {
   "cell_type": "markdown",
   "id": "7e932cf8-3f20-4e6b-b12a-633a162da8c6",
   "metadata": {},
   "source": [
    "# Create MSS coastal DEM"
   ]
  },
  {
   "cell_type": "code",
   "execution_count": 1,
   "id": "2e9859d5-3948-4bd6-b3d0-9eaa7df3dfa1",
   "metadata": {},
   "outputs": [],
   "source": [
    "%load_ext autoreload\n",
    "%autoreload 2"
   ]
  },
  {
   "cell_type": "code",
   "execution_count": 2,
   "id": "f7c00785-c628-446b-bf33-c3fede918bef",
   "metadata": {},
   "outputs": [
    {
     "name": "stderr",
     "output_type": "stream",
     "text": [
      "/srv/conda/envs/notebook/lib/python3.9/site-packages/dask_gateway/client.py:21: FutureWarning: format_bytes is deprecated and will be removed in a future release. Please use dask.utils.format_bytes instead.\n",
      "  from distributed.utils import LoopRunner, format_bytes\n"
     ]
    }
   ],
   "source": [
    "import dask.array as da\n",
    "import geopandas as gpd\n",
    "import numpy as np\n",
    "import pandas as pd\n",
    "import pyinterp.backends.xarray as pbx\n",
    "import regionmask\n",
    "import rioxarray\n",
    "import xarray as xr\n",
    "from dask_gateway import GatewayCluster\n",
    "from shapely.geometry import box\n",
    "from sliiders import settings as sset\n",
    "from sliiders import spatial\n",
    "from sliiders.dask import upload_sliiders\n",
    "from sliiders.io import open_dataarray, open_zarr, save"
   ]
  },
  {
   "cell_type": "code",
   "execution_count": 3,
   "id": "6df4d9ca-dc87-43b3-9565-c39a9f27db76",
   "metadata": {},
   "outputs": [],
   "source": [
    "N_WORKERS = 500\n",
    "N_PIXELS_PER_TILE = 3601\n",
    "\n",
    "AUTHOR = \"Ian Bolliger\"\n",
    "CONTACT = \"ian.bolliger@blackrock.com\"\n",
    "DESCRIPTION = (\n",
    "    \"Blended DEM for coastal regions, relative to a Mean Sea Level DEM (1993-2012)\"\n",
    ")\n",
    "METHOD = \"CoastalDEM2.1 is the primary data source. Areas marked as missing or as water in CoastalDEM are infilled with SRTM15+ v2.4. AVISO MDT+ is used to convert from the orthometric datum to a MSL datum. Note: CoastalDEM uses 1/3601 degrees rather than 1/3600 (1 arc-second).\"\n",
    "HISTORY = \"\"\"version 2.1: Associated with CoastalDEM 2.1 and SRTM15+ v2.4\n",
    "version 2.1.1: Updated pixel source data to define SRTM15+ ocean vs. inland pixels. Dropped datum transformation from EGM96 to XGM2019_e b/c unsure of whether there is some smoothing done to SRTM specific to EGM that, upon transformation, would result in some spatial noise. Updated list of tiles to drop tiles that will wind up having elevations too high to matter for coastal regions and to include potentially-inland CoastalDEM tiles b/c we now will filter these later based on hydraulic connectivity. Added int_res field to denote pixels that had integer resolution (i.e. from SRTM15+) such that later on we can smooth the exposure in these pixels over a 1m distribution.\"\"\"\n",
    "\n",
    "OUT_ATTRS = {\n",
    "    \"z\": {\"units\": \"m\", \"long_name\": \"elevation relative to MSL 1993-2012\"},\n",
    "    \"source\": {\n",
    "        \"long_name\": \"data source\",\n",
    "        \"description\": \"\"\"0: CoastalDEM\n",
    "1: CoastalDEM water pixels replaced with SRTM15+\n",
    "2: CoastalDEM missing or out-of-range pixels infilled with SRTM15+\n",
    "3: Non-CoastalDEM tile (SRTM15+) ocean pixel\n",
    "4: Non-CoastalDEM tile (SRTM15+) inland pixel\"\"\",\n",
    "    },\n",
    "    \"int_res\": {\n",
    "        \"long_name\": \"Integer resolution flag\",\n",
    "        \"description\": \"True for pixels that have integer elevation resolution.\",\n",
    "    },\n",
    "}"
   ]
  },
  {
   "cell_type": "code",
   "execution_count": 4,
   "id": "0eb46554-f4c5-4711-8be1-06e491288e4d",
   "metadata": {},
   "outputs": [
    {
     "data": {
      "application/vnd.jupyter.widget-view+json": {
       "model_id": "d66d821727a5422caea9a50efe95943a",
       "version_major": 2,
       "version_minor": 0
      },
      "text/plain": [
       "VBox(children=(HTML(value='<h2>GatewayCluster</h2>'), HBox(children=(HTML(value='\\n<div>\\n<style scoped>\\n    …"
      ]
     },
     "metadata": {},
     "output_type": "display_data"
    }
   ],
   "source": [
    "cluster = GatewayCluster(profile=\"micro\", idle_timeout=1800)\n",
    "client = cluster.get_client()\n",
    "upload_sliiders(client)\n",
    "cluster.adapt(minimum=7, maximum=N_WORKERS)\n",
    "cluster"
   ]
  },
  {
   "cell_type": "markdown",
   "id": "ce069aa2-f411-42b6-8010-99478f80c520",
   "metadata": {},
   "source": [
    "Define elevation-processing functions"
   ]
  },
  {
   "cell_type": "code",
   "execution_count": 5,
   "id": "8abeba61-153e-4aa0-b7b1-dccb49256384",
   "metadata": {},
   "outputs": [],
   "source": [
    "def get_grid_at_tile(da, grid_in):\n",
    "    \"\"\"\n",
    "    Get interpolated datum tile in the same shape as `da` using `pbx.Grid2D`\n",
    "    \"\"\"\n",
    "    buffer = 0.2\n",
    "\n",
    "    grid = grid_in.copy()\n",
    "\n",
    "    # Ensure tiles along the 180 meridian have coordinates defined contiguously\n",
    "    if da.x[-1].item() > 179:\n",
    "        new_lons = grid.lon.values\n",
    "        new_lons[new_lons < -179] = new_lons[new_lons < -179] + 360\n",
    "        grid = grid.assign_coords({\"lon\": new_lons})\n",
    "    elif da.x[0].item() < -179:\n",
    "        new_lons = grid.lon.values\n",
    "        new_lons[new_lons > 179] = new_lons[new_lons > 179] - 360\n",
    "        grid = grid.assign_coords({\"lon\": new_lons})\n",
    "\n",
    "    grid = grid.isel(\n",
    "        lon=(grid.lon >= da.x.min().item() - buffer)\n",
    "        & (grid.lon <= da.x.max().item() + buffer),\n",
    "        lat=(grid.lat >= da.y.min().item() - buffer)\n",
    "        & (grid.lat <= da.y.max().item() + buffer),\n",
    "    ).load()\n",
    "\n",
    "    grid = grid.sortby(\"lon\")\n",
    "\n",
    "    grid.lon.attrs[\"units\"] = \"degrees_east\"\n",
    "    grid.lat.attrs[\"units\"] = \"degrees_north\"\n",
    "\n",
    "    interpolator = pbx.Grid2D(grid, geodetic=True)\n",
    "\n",
    "    mx, my = np.meshgrid(da.x.values, da.y.values, indexing=\"ij\")\n",
    "\n",
    "    out = interpolator.bicubic(dict(lon=mx.flatten(), lat=my.flatten()))\n",
    "\n",
    "    out = out.reshape(mx.shape)\n",
    "    out = xr.DataArray(out).rename({\"dim_0\": \"x\", \"dim_1\": \"y\"})\n",
    "    out[\"x\"] = da.x.values\n",
    "    out[\"y\"] = da.y.values\n",
    "\n",
    "    return out\n",
    "\n",
    "\n",
    "def get_tile_path(tile, fuse=False):\n",
    "    \"\"\"Get raw CoastalDEM tile path\"\"\"\n",
    "    out = sset.DIR_COASTALDEM / f\"{tile}.tif\"\n",
    "    if fuse:\n",
    "        out = str(out).replace(\"gs:/\", \"/gcs\")\n",
    "    return out\n",
    "\n",
    "\n",
    "def get_lonlat_range(lon_min, lat_min, lon_max, lat_max):\n",
    "    return np.arange(\n",
    "        lon_min + 0.5 / N_PIXELS_PER_TILE, lon_max, 1 / N_PIXELS_PER_TILE\n",
    "    ), np.arange(lat_min + 0.5 / N_PIXELS_PER_TILE, lat_max, 1 / N_PIXELS_PER_TILE)\n",
    "\n",
    "\n",
    "def get_elev_tile(\n",
    "    tile_name,\n",
    "    llon,\n",
    "    llat,\n",
    "    ulon,\n",
    "    ulat,\n",
    "    use_coastal_dem=True,\n",
    "    egm96_xgm2019e=None,\n",
    "    ocean_geom=None,\n",
    "    mdt=None,\n",
    "    cap=None,\n",
    "):\n",
    "    \"\"\"\n",
    "    Get 1-arcsec elevation tile relative to MSS.\n",
    "    Use CoastalDEM where available, replacing null areas with SRTM15+.\n",
    "    Get elevations relative to MSS datum using EGM96 -> XGM2019e and Mean Dynamic\n",
    "        Topography (MDT) datum transformations.\n",
    "    \"\"\"\n",
    "    if use_coastal_dem:\n",
    "        # load tile\n",
    "        tile_path = get_tile_path(tile_name, fuse=True)\n",
    "        elev_tile = (\n",
    "            rioxarray.open_rasterio(\n",
    "                tile_path,\n",
    "                mask_and_scale=True,\n",
    "            )\n",
    "            .squeeze(drop=True)\n",
    "            .load()\n",
    "        )\n",
    "\n",
    "        # handle tiles with inaccurately bottom-left .1-degree metadata\n",
    "        # (this was an issue with v1.1 for some tiles, I don't think it is for v2.1)\n",
    "        if elev_tile[\"y\"].values.max() - elev_tile[\"y\"].values.min() < 0.9:\n",
    "            elev_tile[\"y\"] = (\n",
    "                elev_tile[\"y\"].values.min()\n",
    "                + (elev_tile[\"y\"].values - elev_tile[\"y\"].values.min()) * 10\n",
    "            )\n",
    "            elev_tile[\"x\"] = (\n",
    "                elev_tile[\"x\"].values.min()\n",
    "                + (elev_tile[\"x\"].values - elev_tile[\"x\"].values.min()) * 10\n",
    "            )\n",
    "\n",
    "    # open our \"main DEM\" (to fill in missing pixels in CoastalDEM)\n",
    "    with open_dataarray(sset.PATH_SRTM15_PLUS) as srtm:\n",
    "\n",
    "        srtm_buffer = 0.01\n",
    "\n",
    "        # Ensure tiles along the 180 meridian have coordinates defined contiguously\n",
    "        if llon == 179:\n",
    "            new_lons = srtm.lon.values\n",
    "            new_lons[new_lons < -179] = new_lons[new_lons < -179] + 360\n",
    "            srtm = srtm.assign_coords({\"lon\": new_lons})\n",
    "        elif ulon == -179:\n",
    "            new_lons = srtm.lon.values\n",
    "            new_lons[new_lons > 179] = new_lons[new_lons > 179] - 360\n",
    "            srtm = srtm.assign_coords({\"lon\": new_lons})\n",
    "\n",
    "        # fill NaNs with SRTM\n",
    "        this_srtm = (\n",
    "            srtm.isel(\n",
    "                lon=(srtm.lon >= llon - srtm_buffer) & (srtm.lon <= ulon + srtm_buffer),\n",
    "                lat=(srtm.lat >= llat - srtm_buffer) & (srtm.lat <= ulat + srtm_buffer),\n",
    "            )\n",
    "            .sortby(\"lon\")\n",
    "            .load()\n",
    "        )\n",
    "\n",
    "        if use_coastal_dem:\n",
    "            srtm_interp = this_srtm.rename({\"lon\": \"x\", \"lat\": \"y\"}).interp_like(\n",
    "                elev_tile, method=\"linear\", assume_sorted=True\n",
    "            )\n",
    "            # -32767 means SRTM input to coastalDEM was missing (we have previously filled this in\n",
    "            # our master DEM)\n",
    "            # -9999 means outside of a particular spatial domain for coastalDEM\n",
    "            pixel_src = xr.zeros_like(elev_tile, dtype=\"uint8\")\n",
    "\n",
    "            mask = elev_tile.notnull() & ~elev_tile.isin([-32767, -9999])\n",
    "\n",
    "            pixel_src = pixel_src.where(mask, 2)\n",
    "            elev_tile = elev_tile.where(mask, srtm_interp)\n",
    "\n",
    "            # 0 is where coastalDEM is \"underwater\". Also fill these with SRTM15+\n",
    "            pixel_src = pixel_src.where(elev_tile != 0, 1)\n",
    "            elev_tile = elev_tile.where(elev_tile != 0, np.minimum(srtm_interp, 0))\n",
    "        else:\n",
    "            grid_width = N_PIXELS_PER_TILE\n",
    "            size = 1 / grid_width\n",
    "\n",
    "            lons_small = np.arange(llon + (size / 2), ulon, size)\n",
    "            lats_small = np.arange(llat + (size / 2), ulat, size)\n",
    "\n",
    "            srtm_interp = this_srtm.rename({\"lon\": \"x\", \"lat\": \"y\"}).interp(\n",
    "                {\"x\": lons_small, \"y\": lats_small},\n",
    "                method=\"linear\",\n",
    "                assume_sorted=True,\n",
    "            )\n",
    "            elev_tile = srtm_interp\n",
    "            ocean_pixels = regionmask.mask_geopandas(\n",
    "                ocean_geom, srtm_interp, lon_name=\"x\", lat_name=\"y\"\n",
    "            ).notnull()\n",
    "            pixel_src = (xr.ones_like(elev_tile, dtype=\"uint8\") * 3).where(\n",
    "                ocean_pixels & (elev_tile <= 0), 4\n",
    "            )\n",
    "\n",
    "    # figure out pixels that had integer resolution. Will be used to smooth out elev\n",
    "    # distribution of exposure later on. Needs to be done before converting to MSS\n",
    "    int_res = (pixel_src != 0) & (np.isclose(elev_tile, elev_tile.astype(\"int\")))\n",
    "\n",
    "    # Datum transformations\n",
    "    if (egm96_xgm2019e is None) or (mdt is None):\n",
    "        with open_zarr(sset.PATH_GEOG_DATUMS_GRID, chunks=None) as datum_grid:\n",
    "            mdt = datum_grid.mdt\n",
    "            egm96_xgm2019e = datum_grid.egm96_xgm2019e\n",
    "\n",
    "    mdt_interp = get_grid_at_tile(elev_tile, mdt)\n",
    "    # only adjust CoastalDEM and land-pixels of SRTM15+. Ocean pixels of SRTM15+ are\n",
    "    # nominally in a MSL datum\n",
    "    elev_tile -= (mdt_interp).where(pixel_src.isin([0, 4]), 0)\n",
    "\n",
    "    # Bundle higher-than-coastal elevation values into one to simplify later data processing\n",
    "    if cap is not None:\n",
    "        elev_tile = xr.where(elev_tile > cap, cap, elev_tile)\n",
    "\n",
    "    assert elev_tile.notnull().all()\n",
    "\n",
    "    return xr.Dataset({\"z\": elev_tile, \"source\": pixel_src, \"int_res\": int_res}).rename(\n",
    "        x=\"lon\", y=\"lat\"\n",
    "    )\n",
    "\n",
    "\n",
    "def process_tile(\n",
    "    tile_name,\n",
    "    mdt=None,\n",
    "    ocean_geom=None,\n",
    "    check=True,\n",
    "):\n",
    "    lon_min, lat_min = spatial.get_ll(tile_name)\n",
    "    lons, lats = get_lonlat_range(lon_min, lat_min, lon_min + 1, lat_min + 1)\n",
    "    lat_slice = slice(\n",
    "        (90 + lat_min) * N_PIXELS_PER_TILE, (91 + lat_min) * N_PIXELS_PER_TILE\n",
    "    )\n",
    "    lon_slice = slice(\n",
    "        (180 + lon_min) * N_PIXELS_PER_TILE, (181 + lon_min) * N_PIXELS_PER_TILE\n",
    "    )\n",
    "\n",
    "    if (\n",
    "        check\n",
    "        and open_zarr(sset.PATH_ELEV_MSS, chunks=None)\n",
    "        .z.isel(lon=lon_slice, lat=lat_slice)\n",
    "        .notnull()\n",
    "        .any()\n",
    "    ):\n",
    "        return None\n",
    "\n",
    "    # get coastalDEM tile, filled with SRTM, relative to MSS\n",
    "    tile_path = get_tile_path(tile_name)\n",
    "    elev_tile = get_elev_tile(\n",
    "        tile_name,\n",
    "        lon_min,\n",
    "        lat_min,\n",
    "        lon_min + 1,\n",
    "        lat_min + 1,\n",
    "        use_coastal_dem=tile_path.is_file(),\n",
    "        mdt=mdt,\n",
    "        ocean_geom=ocean_geom,\n",
    "    )\n",
    "\n",
    "    # this can happen in v1.1. I don't think it can with v2.1\n",
    "    assert (elev_tile.lat.size == len(lats)) and (elev_tile.lon.size == len(lons))\n",
    "    # commented out section for v1.1 below\n",
    "    # if not ((elev_tile.lat.size == len(lats)) and (elev_tile.lon.size == len(lons))):\n",
    "    #     elevs = elev_tile.z.interp(lat=lats, lon=lons, method=\"linear\")\n",
    "    #     sources = elev_tile.source.interp(lat=lats, lon=lons, method=\"nearest\").astype(\n",
    "    #         \"uint8\"\n",
    "    #     )\n",
    "    #     elev_tile = xr.Dataset({\"z\": elevs, \"source\": sources})\n",
    "\n",
    "    elev_tile[\"z\"] = elev_tile.z.astype(\"float32\")\n",
    "\n",
    "    # ensure lats are increasing\n",
    "    elev_tile = elev_tile.sortby(\"lat\")\n",
    "\n",
    "    # ignore matching lats and lons when saving in case there is a floating point diff\n",
    "    save(\n",
    "        elev_tile.drop_vars(elev_tile.coords),\n",
    "        sset.PATH_ELEV_MSS,\n",
    "        region={\n",
    "            \"lat\": lat_slice,\n",
    "            \"lon\": lon_slice,\n",
    "        },\n",
    "    )"
   ]
  },
  {
   "cell_type": "markdown",
   "id": "018f3eae-2fa1-4b94-b2da-68f7af16986f",
   "metadata": {},
   "source": [
    "## Create template zarr"
   ]
  },
  {
   "cell_type": "code",
   "execution_count": 6,
   "id": "66672625-aee5-4231-9a78-afdd24e3b9bf",
   "metadata": {
    "tags": []
   },
   "outputs": [],
   "source": [
    "lon, lat = get_lonlat_range(-180, -90, 180, 90)\n",
    "out_arr = da.empty(\n",
    "    (N_PIXELS_PER_TILE * 180, N_PIXELS_PER_TILE * 360),\n",
    "    chunks=(N_PIXELS_PER_TILE, N_PIXELS_PER_TILE),\n",
    "    dtype=\"float32\",\n",
    ")\n",
    "src_arr = out_arr.astype(\"uint8\")\n",
    "z = xr.DataArray(\n",
    "    out_arr, dims=[\"lat\", \"lon\"], coords={\"lon\": lon, \"lat\": lat}, attrs=OUT_ATTRS[\"z\"]\n",
    ")\n",
    "src = xr.DataArray(\n",
    "    out_arr.astype(\"uint8\"),\n",
    "    dims=[\"lat\", \"lon\"],\n",
    "    coords={\"lon\": lon, \"lat\": lat},\n",
    "    attrs=OUT_ATTRS[\"source\"],\n",
    ")\n",
    "int_res = xr.DataArray(\n",
    "    out_arr.astype(bool),\n",
    "    dims=[\"lat\", \"lon\"],\n",
    "    coords={\"lon\": lon, \"lat\": lat},\n",
    "    attrs=OUT_ATTRS[\"int_res\"],\n",
    ")"
   ]
  },
  {
   "cell_type": "code",
   "execution_count": 7,
   "id": "67be2fe3-6965-4592-9bb7-c91e19cc1440",
   "metadata": {},
   "outputs": [],
   "source": [
    "save(\n",
    "    xr.Dataset(\n",
    "        {\"z\": z, \"source\": src, \"int_res\": int_res},\n",
    "        attrs={\n",
    "            \"author\": AUTHOR,\n",
    "            \"contact\": CONTACT,\n",
    "            \"description\": DESCRIPTION,\n",
    "            \"method\": METHOD,\n",
    "            \"history\": HISTORY,\n",
    "        },\n",
    "    ),\n",
    "    sset.PATH_ELEV_MSS,\n",
    "    compute=False,\n",
    ")"
   ]
  },
  {
   "cell_type": "markdown",
   "id": "a0506823-b42c-430c-beb4-9b5b6df7a7ef",
   "metadata": {},
   "source": [
    "Get list of tiles to process"
   ]
  },
  {
   "cell_type": "code",
   "execution_count": 8,
   "id": "8bd1bd70-e2ad-4c2e-a62d-e18c855f6c76",
   "metadata": {},
   "outputs": [
    {
     "data": {
      "text/plain": [
       "8926"
      ]
     },
     "execution_count": 8,
     "metadata": {},
     "output_type": "execute_result"
    }
   ],
   "source": [
    "coastal_tiles = pd.read_parquet(\n",
    "    sset.PATH_EXPOSURE_TILE_LIST,\n",
    "    filters=[(\"PROCESSING_SET\", \"in\", [\"CIAM\", \"WITHELEV\"])],\n",
    ").index.values\n",
    "len(coastal_tiles)"
   ]
  },
  {
   "cell_type": "markdown",
   "id": "8cfae8e1-8b46-4c57-9067-67bb721b7cc6",
   "metadata": {},
   "source": [
    "Load datum grids onto cluster"
   ]
  },
  {
   "cell_type": "code",
   "execution_count": 9,
   "id": "3f2aaa87-2f1b-44ac-b402-e67b81eb0b7c",
   "metadata": {},
   "outputs": [],
   "source": [
    "def load_mdt():\n",
    "    return open_zarr(\n",
    "        sset.PATH_GEOG_DATUMS_GRID,\n",
    "        chunks=None,\n",
    "    ).mdt.load()\n",
    "\n",
    "\n",
    "def load_ocean_geom():\n",
    "    return (\n",
    "        gpd.read_parquet(sset.PATH_NATEARTH_OCEAN_NOCASPIAN)\n",
    "        .buffer(1)\n",
    "        .clip(box(-180, -90, 180, 90))\n",
    "    )"
   ]
  },
  {
   "cell_type": "code",
   "execution_count": 10,
   "id": "4a820530-81f0-48c9-95c7-63aef3499fcc",
   "metadata": {},
   "outputs": [],
   "source": [
    "mdt_fut = client.submit(load_mdt)\n",
    "ocean_fut = client.submit(load_ocean_geom)"
   ]
  },
  {
   "cell_type": "markdown",
   "id": "1bca3e1d-3f4d-4a4e-a1b2-ecd4c90be6c5",
   "metadata": {},
   "source": [
    "Run on workers"
   ]
  },
  {
   "cell_type": "code",
   "execution_count": 11,
   "id": "83ec5d57-d39e-45b4-aab6-0b4674312cd8",
   "metadata": {},
   "outputs": [],
   "source": [
    "fut = client.map(\n",
    "    process_tile,\n",
    "    coastal_tiles,\n",
    "    mdt=mdt_fut,\n",
    "    ocean_geom=ocean_fut,\n",
    "    batch_size=1000,\n",
    ")"
   ]
  },
  {
   "cell_type": "markdown",
   "id": "1d71a720-c12d-4bbf-b0ed-456d6e927b24",
   "metadata": {},
   "source": [
    "Close cluster"
   ]
  },
  {
   "cell_type": "code",
   "execution_count": 14,
   "id": "ad0cb5b4-07b4-4d12-846a-50c339a45e6c",
   "metadata": {
    "tags": []
   },
   "outputs": [],
   "source": [
    "finished = False\n",
    "client.gather(fut)\n",
    "finished = True"
   ]
  },
  {
   "cell_type": "code",
   "execution_count": 15,
   "id": "6c433787-6e1c-45b7-9e49-9f0517d3ec3c",
   "metadata": {},
   "outputs": [],
   "source": [
    "cluster.close()\n",
    "client.close()"
   ]
  }
 ],
 "metadata": {
  "kernelspec": {
   "display_name": "Python 3 (ipykernel)",
   "language": "python",
   "name": "python3"
  },
  "language_info": {
   "codemirror_mode": {
    "name": "ipython",
    "version": 3
   },
   "file_extension": ".py",
   "mimetype": "text/x-python",
   "name": "python",
   "nbconvert_exporter": "python",
   "pygments_lexer": "ipython3",
   "version": "3.9.10"
  },
  "widgets": {
   "application/vnd.jupyter.widget-state+json": {
    "state": {},
    "version_major": 2,
    "version_minor": 0
   }
  }
 },
 "nbformat": 4,
 "nbformat_minor": 5
}
