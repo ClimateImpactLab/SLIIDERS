{
 "cells": [
  {
   "cell_type": "markdown",
   "id": "0c63fafa-8600-47e7-b1b8-20e476a415a3",
   "metadata": {},
   "source": [
    "# Create Coastline Segments"
   ]
  },
  {
   "cell_type": "markdown",
   "id": "27036a8b-f200-40d5-9308-77506829c0d3",
   "metadata": {},
   "source": [
    "This notebook modifies the CoDEC points to generate a uniform set of coastline segment centroids. It then filters the Natural Earth coastlines to only those line segments that surround a body of land containing physical capital and/or population OR those segments that contain a modified CoDEC point."
   ]
  },
  {
   "cell_type": "code",
   "execution_count": 1,
   "id": "ebc3268f-bf70-421c-bd04-aa58b19d39f9",
   "metadata": {},
   "outputs": [],
   "source": [
    "%load_ext autoreload\n",
    "%autoreload 2"
   ]
  },
  {
   "cell_type": "code",
   "execution_count": 2,
   "id": "a8910b8e",
   "metadata": {},
   "outputs": [],
   "source": [
    "import geopandas as gpd\n",
    "import pandas as pd\n",
    "from shapely import box\n",
    "from shapely.geometry import Polygon\n",
    "from sliiders import settings as sset\n",
    "from sliiders import spatial\n",
    "from sliiders.io import read_shapefile, save_geoparquet\n",
    "\n",
    "spatial.filter_spatial_warnings()"
   ]
  },
  {
   "cell_type": "code",
   "execution_count": 3,
   "id": "a4490ca0-6270-486b-b13f-74080507bc4b",
   "metadata": {},
   "outputs": [],
   "source": [
    "# Import GTSM station point that have been snapped to the NatEarth coastlines layer\n",
    "gtsm0 = pd.read_parquet(sset.PATH_GEOG_GTSM_SNAPPED)\n",
    "\n",
    "# Import Europe stations to be thinned (came in 5x higher res than rest of world)\n",
    "# Stations to be thinned were manually ID'ed in GIS\n",
    "gtsm_e0 = pd.read_parquet(sset.PATH_GEOG_GTSM_STATIONS_TOTHIN)\n",
    "gtsm_e0[\"serial_id\"] = gtsm_e0.station_id.str[-5:]\n",
    "gtsm_e0 = gtsm_e0.sort_values(\"serial_id\")\n",
    "\n",
    "# Filter 80% of Europe stations\n",
    "gtsm1 = gtsm0.drop(gtsm_e0.drop(gtsm_e0.index[::5]).station_id)\n",
    "\n",
    "# Add back in Gibraltar and Monaco\n",
    "gib_id = \"id_coast_glob_eur_03452\"\n",
    "mon_id = \"id_coast_glob_eur_03236\"\n",
    "\n",
    "# add in better centered points for Akrotiri and Dhekelia (XAD)\n",
    "ak_id = \"id_coast_glob_eur_00108\"\n",
    "ak_id_drop = \"id_coast_glob_eur_00107\"\n",
    "\n",
    "de_id = \"id_coast_glob_eur_00097\"\n",
    "de_id_drop = \"id_coast_glob_eur_00096\"\n",
    "\n",
    "gtsm1 = pd.concat(\n",
    "    [gtsm1.drop([ak_id_drop, de_id_drop]), gtsm0.loc[[gib_id, mon_id, ak_id, de_id]]]\n",
    ")\n",
    "assert gtsm1.index.is_unique"
   ]
  },
  {
   "cell_type": "code",
   "execution_count": 4,
   "id": "730731f6",
   "metadata": {},
   "outputs": [],
   "source": [
    "# Import manual points to add for small country coastlines missing from GTSM\n",
    "add_pts = pd.read_parquet(sset.PATH_SEG_PTS_MANUAL, columns=[\"lon\", \"lat\"])\n",
    "\n",
    "add_pts.index = pd.Index(\n",
    "    [\"id_coast_glob_990\" + str(i + 1).zfill(2) for i in range(len(add_pts))],\n",
    "    name=\"station_id\",\n",
    ")\n",
    "\n",
    "gtsm1 = pd.concat([gtsm1, add_pts])"
   ]
  },
  {
   "cell_type": "code",
   "execution_count": 5,
   "id": "abcb4fc8",
   "metadata": {
    "tags": []
   },
   "outputs": [],
   "source": [
    "# Manual deletions of certain points that don't fall nearer to coastlines than other\n",
    "# points\n",
    "del_ids = [\n",
    "    \"eur_01019\",\n",
    "    \"eur_01812\",\n",
    "    \"eur_00979\",\n",
    "    \"13536\",\n",
    "    \"14447\",\n",
    "    \"15646\",\n",
    "    \"18265\",\n",
    "    \"18656\",\n",
    "    \"18720\",\n",
    "    \"18724\",\n",
    "]\n",
    "del_ids = [\"id_coast_glob_\" + del_ids[i] for i in range(len(del_ids))]\n",
    "gtsm1 = gtsm1.drop(del_ids)"
   ]
  },
  {
   "cell_type": "code",
   "execution_count": 6,
   "id": "5d67d67a-9190-4250-bda4-600ab8d324fa",
   "metadata": {},
   "outputs": [],
   "source": [
    "# Remove buoy and obs points and duplicates\n",
    "gtsm1 = gtsm1[\n",
    "    ~(gtsm1.index.str.contains(\"buoy\") | gtsm1.index.str.contains(\"obs\"))\n",
    "].drop_duplicates()"
   ]
  },
  {
   "cell_type": "code",
   "execution_count": 7,
   "id": "1679b57a-c35a-43b4-9277-2b591057f0fa",
   "metadata": {},
   "outputs": [],
   "source": [
    "# reformat as geodataframe\n",
    "gtsm1 = gpd.GeoDataFrame(\n",
    "    gtsm1.assign(geometry=gpd.points_from_xy(gtsm1.lon, gtsm1.lat)), crs=\"epsg:4326\"\n",
    ")\n",
    "assert gtsm1.index.is_unique"
   ]
  },
  {
   "cell_type": "code",
   "execution_count": 9,
   "id": "12105f37-2818-4b14-887b-ff39650cf636",
   "metadata": {},
   "outputs": [],
   "source": [
    "# Export final set of majority GTSM points for CIAM segs\n",
    "save_geoparquet(gtsm1, sset.PATH_SEG_CENTROIDS)"
   ]
  },
  {
   "cell_type": "markdown",
   "id": "74cafbe1-9242-4c99-ab44-3d398744d432",
   "metadata": {},
   "source": [
    "# Create Coastlines from Natural Earth Layer Using GTSM points and Exposure Grid"
   ]
  },
  {
   "cell_type": "code",
   "execution_count": 8,
   "id": "95c040bc-d60d-47a0-a4b4-b8cc148cd0ad",
   "metadata": {},
   "outputs": [],
   "source": [
    "# Import Natural Earth Coastlines\n",
    "coastline_polys = read_shapefile(sset.PATH_NATEARTH_LANDPOLYS)\n",
    "coastline_polys = (\n",
    "    coastline_polys[coastline_polys.featurecla.ne(\"Null island\")]\n",
    "    .geometry.explode(index_parts=False)\n",
    "    .reset_index(drop=True)\n",
    ")\n",
    "\n",
    "# drop antarctica\n",
    "coastline_polys = coastline_polys[coastline_polys.bounds.miny > -60]\n",
    "\n",
    "# drop caspian\n",
    "caspian = coastline_polys.interiors.explode().dropna()\n",
    "assert len(caspian) == 1\n",
    "ix = caspian.index[0]\n",
    "coastline_polys[ix] = Polygon(coastline_polys[ix].exterior)\n",
    "\n",
    "# convert to coastlines\n",
    "coastlines = coastline_polys.boundary"
   ]
  },
  {
   "cell_type": "code",
   "execution_count": 79,
   "id": "96570697-cf23-4a5e-a184-2486e4300006",
   "metadata": {},
   "outputs": [],
   "source": [
    "save_geoparquet(coastlines.to_frame(\"geometry\"), sset.PATH_NATEARTH_COASTLINES_INT)"
   ]
  },
  {
   "cell_type": "markdown",
   "id": "49214def-260f-4286-8068-25d09b3abf23",
   "metadata": {
    "tags": []
   },
   "source": [
    "## Intersect land polys with exposure grid"
   ]
  },
  {
   "cell_type": "code",
   "execution_count": 10,
   "id": "5c8cd634-f7f0-45ec-b83d-29e2d6d8e947",
   "metadata": {},
   "outputs": [],
   "source": [
    "# Define intersection function\n",
    "# Width, in degrees, of cell to which exposure cells are rounded\n",
    "# If there is exposure anywhere within the cell, this notebook\n",
    "# assumes the entire cell is covered by exposure\n",
    "ROUNDED_BOX_SIZE = 1 / 10\n",
    "\n",
    "\n",
    "def get_no_exp_coastlines(exp, cell_size):\n",
    "\n",
    "    exp[\"y_ix\"] = spatial.grid_val_to_ix(\n",
    "        spatial.grid_ix_to_val(exp.y_ix.values, cell_size=cell_size),\n",
    "        cell_size=ROUNDED_BOX_SIZE,\n",
    "    )\n",
    "    exp[\"x_ix\"] = spatial.grid_val_to_ix(\n",
    "        spatial.grid_ix_to_val(exp.x_ix.values, cell_size=cell_size, lon_mask=True),\n",
    "        cell_size=ROUNDED_BOX_SIZE,\n",
    "        lon_mask=True,\n",
    "    )\n",
    "\n",
    "    cells = exp[[\"x_ix\", \"y_ix\"]].drop_duplicates().reset_index(drop=True)\n",
    "\n",
    "    lons = spatial.grid_ix_to_val(cells[\"x_ix\"].values, cell_size=ROUNDED_BOX_SIZE)\n",
    "    lats = spatial.grid_ix_to_val(cells[\"y_ix\"].values, cell_size=ROUNDED_BOX_SIZE)\n",
    "\n",
    "    boxes = box(\n",
    "        lons - (ROUNDED_BOX_SIZE / 2),\n",
    "        lats - (ROUNDED_BOX_SIZE / 2),\n",
    "        lons + (ROUNDED_BOX_SIZE / 2),\n",
    "        lats + (ROUNDED_BOX_SIZE / 2),\n",
    "    )\n",
    "\n",
    "    box_gdf = gpd.GeoDataFrame(geometry=boxes, crs=4326)\n",
    "\n",
    "    matches = gpd.sjoin(coastline_polys.to_frame(\"geometry\"), box_gdf, how=\"left\")\n",
    "\n",
    "    return matches.index[matches[\"index_right\"].isnull()].unique()"
   ]
  },
  {
   "cell_type": "code",
   "execution_count": 11,
   "id": "60f0d796-2932-447f-8479-cc39b6214076",
   "metadata": {},
   "outputs": [
    {
     "name": "stderr",
     "output_type": "stream",
     "text": [
      "/srv/conda/envs/notebook/lib/python3.11/site-packages/pygeos/io.py:89: UserWarning: The shapely GEOS version (3.12.1-CAPI-1.18.1) is incompatible with the PyGEOS GEOS version (3.10.4-CAPI-1.16.2). Conversions between both will be slow\n",
      "  warnings.warn(\n"
     ]
    }
   ],
   "source": [
    "# Intersect and store flag for exposure/no-exposure\n",
    "no_value_line_ids = get_no_exp_coastlines(\n",
    "    pd.read_parquet(sset.PATH_EXPOSURE_ASSET_VALUE_BLENDED), sset.ASSET_VALUE_GRID_WIDTH\n",
    ")\n",
    "no_pop_line_ids = get_no_exp_coastlines(\n",
    "    pd.read_parquet(sset.PATH_EXPOSURE_POP_INT).reset_index(), sset.POP_GRID_WIDTH\n",
    ")\n",
    "\n",
    "no_exp_line_ids = no_pop_line_ids.union(no_value_line_ids)\n",
    "\n",
    "coastline_polys = coastline_polys.to_frame().assign(\n",
    "    exposure=~coastline_polys.index.isin(no_exp_line_ids)\n",
    ")"
   ]
  },
  {
   "cell_type": "markdown",
   "id": "0346ce69-060f-4d66-b05e-08d44da844ce",
   "metadata": {},
   "source": [
    "## Intersect land polys with snapped GTSM points"
   ]
  },
  {
   "cell_type": "code",
   "execution_count": 12,
   "id": "7b19a746-750f-4ec9-b7d2-a3b1c6e988b5",
   "metadata": {},
   "outputs": [],
   "source": [
    "coastline_polys = coastline_polys.rename_axis(\"line_id\").reset_index()"
   ]
  },
  {
   "cell_type": "code",
   "execution_count": 13,
   "id": "2465b369-6621-4d7a-9646-7130d4c77b37",
   "metadata": {},
   "outputs": [],
   "source": [
    "# Create tiny buffer of GTSM points for intersection with land polys\n",
    "gtsm_buff = (\n",
    "    gpd.GeoDataFrame(gtsm1.buffer(0.001))\n",
    "    .rename(columns={0: \"geometry\"})\n",
    "    .set_geometry(\"geometry\")\n",
    ")\n",
    "gtsm_land_int = gpd.overlay(\n",
    "    coastline_polys, gtsm_buff, how=\"intersection\", keep_geom_type=True\n",
    ")\n",
    "\n",
    "# Set flag in polys layer for containing GTSM point or not\n",
    "coastline_polys[\"gtsm_pt\"] = coastline_polys.line_id.isin(\n",
    "    gtsm_land_int.line_id.unique()\n",
    ")"
   ]
  },
  {
   "cell_type": "markdown",
   "id": "ab546c7e-c424-48cb-9752-32c191ed0ac5",
   "metadata": {},
   "source": [
    "## Create Final Coastlines layer filtered by having non-zero exposure or a GTSM point "
   ]
  },
  {
   "cell_type": "code",
   "execution_count": 14,
   "id": "ce2dc282-b338-437c-8978-b5bf1e9e3713",
   "metadata": {},
   "outputs": [],
   "source": [
    "coastlines_filt = coastlines.loc[\n",
    "    coastline_polys.loc[\n",
    "        coastline_polys.exposure | coastline_polys.gtsm_pt, \"line_id\"\n",
    "    ].values\n",
    "]"
   ]
  },
  {
   "cell_type": "code",
   "execution_count": 21,
   "id": "3dbb1339-26bd-4110-bec4-9b6dc3ed7fe5",
   "metadata": {},
   "outputs": [],
   "source": [
    "save_geoparquet(\n",
    "    coastlines_filt.to_frame(\"geometry\"), sset.PATH_GEOG_COASTLINES, index=False\n",
    ")"
   ]
  }
 ],
 "metadata": {
  "kernelspec": {
   "display_name": "Python 3 (ipykernel)",
   "language": "python",
   "name": "python3"
  },
  "language_info": {
   "codemirror_mode": {
    "name": "ipython",
    "version": 3
   },
   "file_extension": ".py",
   "mimetype": "text/x-python",
   "name": "python",
   "nbconvert_exporter": "python",
   "pygments_lexer": "ipython3",
   "version": "3.11.7"
  },
  "widgets": {
   "application/vnd.jupyter.widget-state+json": {
    "state": {},
    "version_major": 2,
    "version_minor": 0
   }
  }
 },
 "nbformat": 4,
 "nbformat_minor": 5
}
