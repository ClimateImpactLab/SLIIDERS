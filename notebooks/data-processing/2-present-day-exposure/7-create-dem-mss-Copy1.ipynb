{
 "cells": [
  {
   "cell_type": "markdown",
   "id": "7e932cf8-3f20-4e6b-b12a-633a162da8c6",
   "metadata": {},
   "source": [
    "# Create MSS coastal DEM"
   ]
  },
  {
   "cell_type": "code",
   "execution_count": 1,
   "id": "2e9859d5-3948-4bd6-b3d0-9eaa7df3dfa1",
   "metadata": {},
   "outputs": [],
   "source": [
    "%load_ext autoreload\n",
    "%autoreload 2"
   ]
  },
  {
   "cell_type": "code",
   "execution_count": 2,
   "id": "f7c00785-c628-446b-bf33-c3fede918bef",
   "metadata": {},
   "outputs": [
    {
     "name": "stderr",
     "output_type": "stream",
     "text": [
      "/srv/conda/envs/notebook/lib/python3.9/site-packages/dask_gateway/client.py:21: FutureWarning: format_bytes is deprecated and will be removed in a future release. Please use dask.utils.format_bytes instead.\n",
      "  from distributed.utils import LoopRunner, format_bytes\n"
     ]
    }
   ],
   "source": [
    "import dask.array as da\n",
    "import geopandas as gpd\n",
    "import numpy as np\n",
    "import pandas as pd\n",
    "import pyinterp.backends.xarray as pbx\n",
    "import regionmask\n",
    "import rioxarray\n",
    "import xarray as xr\n",
    "from dask_gateway import GatewayCluster\n",
    "from shapely.geometry import box\n",
    "from sliiders import settings as sset\n",
    "from sliiders import spatial\n",
    "from sliiders.dask import upload_sliiders\n",
    "from sliiders.io import open_dataarray, open_zarr, save"
   ]
  },
  {
   "cell_type": "code",
   "execution_count": 3,
   "id": "6df4d9ca-dc87-43b3-9565-c39a9f27db76",
   "metadata": {},
   "outputs": [],
   "source": [
    "N_WORKERS = 500\n",
    "N_PIXELS_PER_TILE = 3601\n",
    "\n",
    "AUTHOR = \"Ian Bolliger\"\n",
    "CONTACT = \"ian.bolliger@blackrock.com\"\n",
    "DESCRIPTION = (\n",
    "    \"Blended DEM for coastal regions, relative to a Mean Sea Level DEM (1993-2012)\"\n",
    ")\n",
    "METHOD = \"CoastalDEM2.1 is the primary data source. Areas marked as missing or as water in CoastalDEM are infilled with SRTM15+ v2.4. AVISO MDT+ is used to convert from the orthometric datum to a MSL datum. Note: CoastalDEM uses 1/3601 degrees rather than 1/3600 (1 arc-second).\"\n",
    "HISTORY = \"\"\"version 2.1: Associated with CoastalDEM 2.1 and SRTM15+ v2.4\n",
    "version 2.1.1: Updated pixel source data to define SRTM15+ ocean vs. inland pixels. Dropped datum transformation from EGM96 to XGM2019_e b/c unsure of whether there is some smoothing done to SRTM specific to EGM that, upon transformation, would result in some spatial noise. Updated list of tiles to drop tiles that will wind up having elevations too high to matter for coastal regions and to include potentially-inland CoastalDEM tiles b/c we now will filter these later based on hydraulic connectivity. Added int_res field to denote pixels that had integer resolution (i.e. from SRTM15+) such that later on we can smooth the exposure in these pixels over a 1m distribution.\"\"\"\n",
    "\n",
    "OUT_ATTRS = {\n",
    "    \"z\": {\"units\": \"m\", \"long_name\": \"elevation relative to MSL 1993-2012\"},\n",
    "    \"source\": {\n",
    "        \"long_name\": \"data source\",\n",
    "        \"description\": \"\"\"0: CoastalDEM\n",
    "1: CoastalDEM water pixels replaced with SRTM15+\n",
    "2: CoastalDEM missing or out-of-range pixels infilled with SRTM15+\n",
    "3: Non-CoastalDEM tile (SRTM15+) ocean pixel\n",
    "4: Non-CoastalDEM tile (SRTM15+) inland pixel\"\"\",\n",
    "    },\n",
    "    \"int_res\": {\n",
    "        \"long_name\": \"Integer resolution flag\",\n",
    "        \"description\": \"True for pixels that have integer elevation resolution.\",\n",
    "    },\n",
    "}"
   ]
  },
  {
   "cell_type": "code",
   "execution_count": 4,
   "id": "0eb46554-f4c5-4711-8be1-06e491288e4d",
   "metadata": {},
   "outputs": [
    {
     "data": {
      "application/vnd.jupyter.widget-view+json": {
       "model_id": "bca362d69dfe4be4bc6352fa040f0630",
       "version_major": 2,
       "version_minor": 0
      },
      "text/plain": [
       "VBox(children=(HTML(value='<h2>GatewayCluster</h2>'), HBox(children=(HTML(value='\\n<div>\\n<style scoped>\\n    …"
      ]
     },
     "metadata": {},
     "output_type": "display_data"
    }
   ],
   "source": [
    "cluster = GatewayCluster(profile=\"micro\", idle_timeout=1800)\n",
    "client = cluster.get_client()\n",
    "upload_sliiders(client)\n",
    "cluster.adapt(minimum=7, maximum=100)\n",
    "cluster"
   ]
  },
  {
   "cell_type": "markdown",
   "id": "ce069aa2-f411-42b6-8010-99478f80c520",
   "metadata": {},
   "source": [
    "Define elevation-processing functions"
   ]
  },
  {
   "cell_type": "code",
   "execution_count": 9,
   "id": "8abeba61-153e-4aa0-b7b1-dccb49256384",
   "metadata": {},
   "outputs": [],
   "source": [
    "def get_grid_at_tile(da, grid_in):\n",
    "    \"\"\"\n",
    "    Get interpolated datum tile in the same shape as `da` using `pbx.Grid2D`\n",
    "    \"\"\"\n",
    "    buffer = 0.2\n",
    "\n",
    "    grid = grid_in.copy()\n",
    "\n",
    "    # Ensure tiles along the 180 meridian have coordinates defined contiguously\n",
    "    if da.x[-1].item() > 179:\n",
    "        new_lons = grid.lon.values\n",
    "        new_lons[new_lons < -179] = new_lons[new_lons < -179] + 360\n",
    "        grid = grid.assign_coords({\"lon\": new_lons})\n",
    "    elif da.x[0].item() < -179:\n",
    "        new_lons = grid.lon.values\n",
    "        new_lons[new_lons > 179] = new_lons[new_lons > 179] - 360\n",
    "        grid = grid.assign_coords({\"lon\": new_lons})\n",
    "\n",
    "    grid = grid.isel(\n",
    "        lon=(grid.lon >= da.x.min().item() - buffer)\n",
    "        & (grid.lon <= da.x.max().item() + buffer),\n",
    "        lat=(grid.lat >= da.y.min().item() - buffer)\n",
    "        & (grid.lat <= da.y.max().item() + buffer),\n",
    "    ).load()\n",
    "\n",
    "    grid = grid.sortby(\"lon\")\n",
    "\n",
    "    grid.lon.attrs[\"units\"] = \"degrees_east\"\n",
    "    grid.lat.attrs[\"units\"] = \"degrees_north\"\n",
    "\n",
    "    interpolator = pbx.Grid2D(grid, geodetic=True)\n",
    "\n",
    "    mx, my = np.meshgrid(da.x.values, da.y.values, indexing=\"ij\")\n",
    "\n",
    "    out = interpolator.bicubic(dict(lon=mx.flatten(), lat=my.flatten()))\n",
    "\n",
    "    out = out.reshape(mx.shape)\n",
    "    out = xr.DataArray(out).rename({\"dim_0\": \"x\", \"dim_1\": \"y\"})\n",
    "    out[\"x\"] = da.x.values\n",
    "    out[\"y\"] = da.y.values\n",
    "\n",
    "    return out\n",
    "\n",
    "\n",
    "def get_tile_path(tile, fuse=False):\n",
    "    \"\"\"Get raw CoastalDEM tile path\"\"\"\n",
    "    out = sset.DIR_COASTALDEM / f\"{tile}.tif\"\n",
    "    if fuse:\n",
    "        out = str(out).replace(\"gs:/\", \"/gcs\")\n",
    "    return out\n",
    "\n",
    "\n",
    "def get_lonlat_range(lon_min, lat_min, lon_max, lat_max):\n",
    "    return np.arange(\n",
    "        lon_min + 0.5 / N_PIXELS_PER_TILE, lon_max, 1 / N_PIXELS_PER_TILE\n",
    "    ), np.arange(lat_min + 0.5 / N_PIXELS_PER_TILE, lat_max, 1 / N_PIXELS_PER_TILE)\n",
    "\n",
    "\n",
    "def get_elev_tile(\n",
    "    tile_name,\n",
    "):\n",
    "    \"\"\"\n",
    "    Get 1-arcsec elevation tile relative to MSS.\n",
    "    Use CoastalDEM where available, replacing null areas with SRTM15+.\n",
    "    Get elevations relative to MSS datum using EGM96 -> XGM2019e and Mean Dynamic\n",
    "        Topography (MDT) datum transformations.\n",
    "    \"\"\"\n",
    "    llon, llat = spatial.get_ll(tile_name)\n",
    "    elev_tile = (\n",
    "        open_zarr(sset.PATH_ELEV_MSS, chunks=None)\n",
    "        .sel(lon=slice(llon, llon + 1), lat=slice(llat, llat + 1))\n",
    "        .load()\n",
    "    )\n",
    "\n",
    "    elev_tile = (\n",
    "        elev_tile.z.where((elev_tile.z > 0) & (elev_tile.connected < 201))\n",
    "        .to_series()\n",
    "        .dropna()\n",
    "    )\n",
    "\n",
    "    z_ix = spatial.grid_val_to_ix(elev_tile, 0.1)\n",
    "    return z_ix.groupby(z_ix).count()\n",
    "\n",
    "\n",
    "def process_tile(\n",
    "    tile_name,\n",
    "    mdt=None,\n",
    "    ocean_geom=None,\n",
    "    check=True,\n",
    "):\n",
    "\n",
    "    # # get coastalDEM tile, filled with SRTM, relative to MSS\n",
    "    # tile_path = get_tile_path(tile_name)\n",
    "    # if not tile_path.is_file():\n",
    "    #     return None\n",
    "\n",
    "    return get_elev_tile(\n",
    "        tile_name,\n",
    "    )"
   ]
  },
  {
   "cell_type": "markdown",
   "id": "a0506823-b42c-430c-beb4-9b5b6df7a7ef",
   "metadata": {},
   "source": [
    "Get list of tiles to process"
   ]
  },
  {
   "cell_type": "code",
   "execution_count": 6,
   "id": "8bd1bd70-e2ad-4c2e-a62d-e18c855f6c76",
   "metadata": {},
   "outputs": [
    {
     "data": {
      "text/plain": [
       "8926"
      ]
     },
     "execution_count": 6,
     "metadata": {},
     "output_type": "execute_result"
    }
   ],
   "source": [
    "coastal_tiles = pd.read_parquet(\n",
    "    sset.PATH_EXPOSURE_TILE_LIST,\n",
    "    filters=[(\"PROCESSING_SET\", \"in\", [\"CIAM\", \"WITHELEV\"])],\n",
    ").index.values\n",
    "len(coastal_tiles)"
   ]
  },
  {
   "cell_type": "markdown",
   "id": "1bca3e1d-3f4d-4a4e-a1b2-ecd4c90be6c5",
   "metadata": {},
   "source": [
    "Run on workers"
   ]
  },
  {
   "cell_type": "code",
   "execution_count": 10,
   "id": "83ec5d57-d39e-45b4-aab6-0b4674312cd8",
   "metadata": {},
   "outputs": [],
   "source": [
    "fut = client.map(\n",
    "    process_tile,\n",
    "    coastal_tiles,\n",
    "    batch_size=1000,\n",
    ")"
   ]
  },
  {
   "cell_type": "code",
   "execution_count": 37,
   "id": "577dff07-6b8b-4f22-88f4-0d9cab37a95a",
   "metadata": {
    "collapsed": true,
    "jupyter": {
     "outputs_hidden": true
    },
    "tags": []
   },
   "outputs": [
    {
     "ename": "AttributeError",
     "evalue": "'function' object has no attribute 'dropna'",
     "output_type": "error",
     "traceback": [
      "\u001b[0;31m---------------------------------------------------------------------------\u001b[0m",
      "\u001b[0;31mAttributeError\u001b[0m                            Traceback (most recent call last)",
      "Input \u001b[0;32mIn [37]\u001b[0m, in \u001b[0;36m<cell line: 1>\u001b[0;34m()\u001b[0m\n\u001b[0;32m----> 1\u001b[0m \u001b[43m[\u001b[49m\u001b[43mf\u001b[49m\u001b[43m \u001b[49m\u001b[38;5;28;43;01mfor\u001b[39;49;00m\u001b[43m \u001b[49m\u001b[43mf\u001b[49m\u001b[43m \u001b[49m\u001b[38;5;129;43;01min\u001b[39;49;00m\u001b[43m \u001b[49m\u001b[43mfut\u001b[49m\u001b[43m \u001b[49m\u001b[38;5;28;43;01mif\u001b[39;49;00m\u001b[43m \u001b[49m\u001b[43mf\u001b[49m\u001b[38;5;241;43m.\u001b[39;49m\u001b[43mstatus\u001b[49m\u001b[38;5;241;43m==\u001b[39;49m\u001b[38;5;124;43m\"\u001b[39;49m\u001b[38;5;124;43merror\u001b[39;49m\u001b[38;5;124;43m\"\u001b[39;49m\u001b[43m]\u001b[49m\u001b[43m[\u001b[49m\u001b[38;5;241;43m0\u001b[39;49m\u001b[43m]\u001b[49m\u001b[38;5;241;43m.\u001b[39;49m\u001b[43mresult\u001b[49m\u001b[43m(\u001b[49m\u001b[43m)\u001b[49m\n",
      "File \u001b[0;32m/srv/conda/envs/notebook/lib/python3.9/site-packages/distributed/client.py:279\u001b[0m, in \u001b[0;36mFuture.result\u001b[0;34m(self, timeout)\u001b[0m\n\u001b[1;32m    277\u001b[0m \u001b[38;5;28;01mif\u001b[39;00m \u001b[38;5;28mself\u001b[39m\u001b[38;5;241m.\u001b[39mstatus \u001b[38;5;241m==\u001b[39m \u001b[38;5;124m\"\u001b[39m\u001b[38;5;124merror\u001b[39m\u001b[38;5;124m\"\u001b[39m:\n\u001b[1;32m    278\u001b[0m     typ, exc, tb \u001b[38;5;241m=\u001b[39m result\n\u001b[0;32m--> 279\u001b[0m     \u001b[38;5;28;01mraise\u001b[39;00m exc\u001b[38;5;241m.\u001b[39mwith_traceback(tb)\n\u001b[1;32m    280\u001b[0m \u001b[38;5;28;01melif\u001b[39;00m \u001b[38;5;28mself\u001b[39m\u001b[38;5;241m.\u001b[39mstatus \u001b[38;5;241m==\u001b[39m \u001b[38;5;124m\"\u001b[39m\u001b[38;5;124mcancelled\u001b[39m\u001b[38;5;124m\"\u001b[39m:\n\u001b[1;32m    281\u001b[0m     \u001b[38;5;28;01mraise\u001b[39;00m result\n",
      "Input \u001b[0;32mIn [33]\u001b[0m, in \u001b[0;36mprocess_tile\u001b[0;34m()\u001b[0m\n\u001b[1;32m     96\u001b[0m \u001b[38;5;28;01mif\u001b[39;00m \u001b[38;5;129;01mnot\u001b[39;00m tile_path\u001b[38;5;241m.\u001b[39mis_file():\n\u001b[1;32m     97\u001b[0m     \u001b[38;5;28;01mreturn\u001b[39;00m \u001b[38;5;28;01mNone\u001b[39;00m\n\u001b[0;32m---> 99\u001b[0m \u001b[38;5;28;01mreturn\u001b[39;00m get_elev_tile(\n\u001b[1;32m    100\u001b[0m     tile_name,\n\u001b[1;32m    101\u001b[0m )\n",
      "Input \u001b[0;32mIn [33]\u001b[0m, in \u001b[0;36mget_elev_tile\u001b[0;34m()\u001b[0m\n\u001b[1;32m     68\u001b[0m llon, llat \u001b[38;5;241m=\u001b[39m spatial\u001b[38;5;241m.\u001b[39mget_ll(coastal_tiles[\u001b[38;5;241m0\u001b[39m])\n\u001b[1;32m     69\u001b[0m elev_tile \u001b[38;5;241m=\u001b[39m open_zarr(sset\u001b[38;5;241m.\u001b[39mPATH_ELEV_MSS, chunks\u001b[38;5;241m=\u001b[39m\u001b[38;5;28;01mNone\u001b[39;00m)\u001b[38;5;241m.\u001b[39msel(lon\u001b[38;5;241m=\u001b[39m\u001b[38;5;28mslice\u001b[39m(llon, llon\u001b[38;5;241m+\u001b[39m\u001b[38;5;241m1\u001b[39m), lat\u001b[38;5;241m=\u001b[39m\u001b[38;5;28mslice\u001b[39m(llat, llat\u001b[38;5;241m+\u001b[39m\u001b[38;5;241m1\u001b[39m))\u001b[38;5;241m.\u001b[39mload()\n\u001b[0;32m---> 71\u001b[0m elev_tile \u001b[38;5;241m=\u001b[39m elev_tile\u001b[38;5;241m.\u001b[39mz\u001b[38;5;241m.\u001b[39mwhere((elev_tile\u001b[38;5;241m.\u001b[39mz \u001b[38;5;241m>\u001b[39m \u001b[38;5;241m0\u001b[39m) \u001b[38;5;241m&\u001b[39m (elev_tile\u001b[38;5;241m.\u001b[39mconnected \u001b[38;5;241m<\u001b[39m \u001b[38;5;241m201\u001b[39m))\u001b[38;5;241m.\u001b[39mto_series\u001b[38;5;241m.\u001b[39mdropna()\n\u001b[1;32m     73\u001b[0m z_ix \u001b[38;5;241m=\u001b[39m spatial\u001b[38;5;241m.\u001b[39mgrid_val_to_ix(elev_tile, \u001b[38;5;241m.1\u001b[39m)\n\u001b[1;32m     74\u001b[0m \u001b[38;5;28;01mreturn\u001b[39;00m z_ix\u001b[38;5;241m.\u001b[39mgroupby(z_ix)\u001b[38;5;241m.\u001b[39mcount()\n",
      "\u001b[0;31mAttributeError\u001b[0m: 'function' object has no attribute 'dropna'"
     ]
    }
   ],
   "source": [
    "[f for f in fut if f.status == \"error\"][0].result()"
   ]
  },
  {
   "cell_type": "code",
   "execution_count": 11,
   "id": "c8c9931e-a6f1-4fd1-a483-e73120c6b5ef",
   "metadata": {},
   "outputs": [],
   "source": [
    "res3 = [f for f in client.gather(fut) if f is not None]\n",
    "alldf3 = pd.concat(res3)"
   ]
  },
  {
   "cell_type": "code",
   "execution_count": 10,
   "id": "ba7c680e-4451-4709-9144-afa830cd6bb1",
   "metadata": {},
   "outputs": [],
   "source": [
    "alldf = pd.concat(res)"
   ]
  },
  {
   "cell_type": "code",
   "execution_count": null,
   "id": "a32c38c7-3ce0-40ce-adb8-2ac531b02c5d",
   "metadata": {},
   "outputs": [
    {
     "data": {
      "text/plain": [
       "<AxesSubplot:>"
      ]
     },
     "execution_count": 26,
     "metadata": {},
     "output_type": "execute_result"
    },
    {
     "data": {
      "image/png": "[encoded data removed]",
      "text/plain": [
       "<Figure size 432x288 with 1 Axes>"
      ]
     },
     "metadata": {
      "needs_background": "light"
     },
     "output_type": "display_data"
    }
   ],
   "source": [
    "fut[2436].result().sort_index().loc[:200].plot()"
   ]
  },
  {
   "cell_type": "code",
   "execution_count": null,
   "id": "cd355c33-dd15-42c0-b03e-729cbb4d7a40",
   "metadata": {},
   "outputs": [
    {
     "data": {
      "text/plain": [
       "<AxesSubplot:xlabel='z'>"
      ]
     },
     "execution_count": 12,
     "metadata": {},
     "output_type": "execute_result"
    },
    {
     "data": {
      "image/png": "[encoded data removed]",
      "text/plain": [
       "<Figure size 432x288 with 1 Axes>"
      ]
     },
     "metadata": {
      "needs_background": "light"
     },
     "output_type": "display_data"
    }
   ],
   "source": [
    "alldf3.groupby(alldf3.index).sum().loc[:200].plot()"
   ]
  },
  {
   "cell_type": "code",
   "execution_count": 51,
   "id": "1b42bb3a-f8a8-4ea8-9e6d-adc44ec017de",
   "metadata": {},
   "outputs": [
    {
     "data": {
      "text/plain": [
       "<AxesSubplot:xlabel='z'>"
      ]
     },
     "execution_count": 51,
     "metadata": {},
     "output_type": "execute_result"
    },
    {
     "data": {
      "image/png": "[encoded data removed]",
      "text/plain": [
       "<Figure size 432x288 with 1 Axes>"
      ]
     },
     "metadata": {
      "needs_background": "light"
     },
     "output_type": "display_data"
    }
   ],
   "source": [
    "alldf2.groupby(alldf2.index).sum().loc[:200].plot()"
   ]
  },
  {
   "cell_type": "code",
   "execution_count": 15,
   "id": "63eb2580-c5a9-4f07-9e81-c17f37c4e5a9",
   "metadata": {},
   "outputs": [
    {
     "data": {
      "text/plain": [
       "<AxesSubplot:>"
      ]
     },
     "execution_count": 15,
     "metadata": {},
     "output_type": "execute_result"
    },
    {
     "data": {
      "image/png": "[encoded data removed]",
      "text/plain": [
       "<Figure size 432x288 with 1 Axes>"
      ]
     },
     "metadata": {
      "needs_background": "light"
     },
     "output_type": "display_data"
    }
   ],
   "source": [
    "alldf.groupby(alldf.index).sum().loc[:200].plot()"
   ]
  },
  {
   "cell_type": "markdown",
   "id": "1d71a720-c12d-4bbf-b0ed-456d6e927b24",
   "metadata": {},
   "source": [
    "Close cluster"
   ]
  },
  {
   "cell_type": "code",
   "execution_count": 14,
   "id": "ad0cb5b4-07b4-4d12-846a-50c339a45e6c",
   "metadata": {
    "tags": []
   },
   "outputs": [],
   "source": [
    "finished = False\n",
    "client.gather(fut)\n",
    "finished = True"
   ]
  },
  {
   "cell_type": "code",
   "execution_count": 13,
   "id": "6c433787-6e1c-45b7-9e49-9f0517d3ec3c",
   "metadata": {},
   "outputs": [],
   "source": [
    "cluster.close()\n",
    "client.close()"
   ]
  },
  {
   "cell_type": "code",
   "execution_count": null,
   "id": "098c09f3-d75e-414f-aee6-c35717f4d9fe",
   "metadata": {},
   "outputs": [],
   "source": []
  }
 ],
 "metadata": {
  "kernelspec": {
   "display_name": "Python 3 (ipykernel)",
   "language": "python",
   "name": "python3"
  },
  "language_info": {
   "codemirror_mode": {
    "name": "ipython",
    "version": 3
   },
   "file_extension": ".py",
   "mimetype": "text/x-python",
   "name": "python",
   "nbconvert_exporter": "python",
   "pygments_lexer": "ipython3",
   "version": "3.9.10"
  },
  "widgets": {
   "application/vnd.jupyter.widget-state+json": {
    "state": {
     "0682ba1847724793a61b6a6a7a7de8a1": {
      "model_module": "@jupyter-widgets/controls",
      "model_module_version": "1.5.0",
      "model_name": "IntTextModel",
      "state": {
       "description": "Maximum",
       "layout": "IPY_MODEL_2a0b91e9e6c742fcac18dc0cc301fe34",
       "step": 1,
       "style": "IPY_MODEL_3fbd83b006b049afb8321b374ee9e074"
      }
     },
     "0b80bd9b8a7d40879f367b02343bbf9d": {
      "model_module": "@jupyter-widgets/base",
      "model_module_version": "1.2.0",
      "model_name": "LayoutModel",
      "state": {
       "min_width": "500px"
      }
     },
     "0faa98d74bf94f66b71ca289257e4011": {
      "model_module": "@jupyter-widgets/base",
      "model_module_version": "1.2.0",
      "model_name": "LayoutModel",
      "state": {}
     },
     "1d470d29bf244f4dae10dcedd46e546a": {
      "model_module": "@jupyter-widgets/controls",
      "model_module_version": "1.5.0",
      "model_name": "DescriptionStyleModel",
      "state": {
       "description_width": ""
      }
     },
     "29421c7bce5e4586a0bb060e208f3798": {
      "model_module": "@jupyter-widgets/controls",
      "model_module_version": "1.5.0",
      "model_name": "HBoxModel",
      "state": {
       "children": [
        "IPY_MODEL_674d13d8343e4d0ba283dd46e2af3a17",
        "IPY_MODEL_dab67482a362427eab7852b9996477d6"
       ],
       "layout": "IPY_MODEL_4c52a0d726b34bdab681cb90e2121a6d"
      }
     },
     "2a0b91e9e6c742fcac18dc0cc301fe34": {
      "model_module": "@jupyter-widgets/base",
      "model_module_version": "1.2.0",
      "model_name": "LayoutModel",
      "state": {
       "width": "150px"
      }
     },
     "2f36f4970a2542e6aee0494fb4f62567": {
      "model_module": "@jupyter-widgets/base",
      "model_module_version": "1.2.0",
      "model_name": "LayoutModel",
      "state": {
       "min_width": "150px"
      }
     },
     "384aacd9da6b48b3802541568e7536a5": {
      "model_module": "@jupyter-widgets/base",
      "model_module_version": "1.2.0",
      "model_name": "LayoutModel",
      "state": {}
     },
     "39471c49d70242b6aee43ce0c02264b3": {
      "model_module": "@jupyter-widgets/controls",
      "model_module_version": "1.5.0",
      "model_name": "AccordionModel",
      "state": {
       "_titles": {
        "0": "Manual Scaling",
        "1": "Adaptive Scaling"
       },
       "children": [
        "IPY_MODEL_29421c7bce5e4586a0bb060e208f3798",
        "IPY_MODEL_c0f8155d0fb94f38aeb5f981f05a5093"
       ],
       "layout": "IPY_MODEL_0b80bd9b8a7d40879f367b02343bbf9d",
       "selected_index": null
      }
     },
     "3fbd83b006b049afb8321b374ee9e074": {
      "model_module": "@jupyter-widgets/controls",
      "model_module_version": "1.5.0",
      "model_name": "DescriptionStyleModel",
      "state": {
       "description_width": ""
      }
     },
     "4b3d697b119e4f2e9044aede2c8dfa79": {
      "model_module": "@jupyter-widgets/base",
      "model_module_version": "1.2.0",
      "model_name": "LayoutModel",
      "state": {}
     },
     "4c52a0d726b34bdab681cb90e2121a6d": {
      "model_module": "@jupyter-widgets/base",
      "model_module_version": "1.2.0",
      "model_name": "LayoutModel",
      "state": {}
     },
     "59df538409a64856b3dc15c4854764f4": {
      "model_module": "@jupyter-widgets/controls",
      "model_module_version": "1.5.0",
      "model_name": "ButtonStyleModel",
      "state": {}
     },
     "5cbdad86cebc4fa392a968eeb362aa9c": {
      "model_module": "@jupyter-widgets/controls",
      "model_module_version": "1.5.0",
      "model_name": "IntTextModel",
      "state": {
       "description": "Minimum",
       "layout": "IPY_MODEL_2a0b91e9e6c742fcac18dc0cc301fe34",
       "step": 1,
       "style": "IPY_MODEL_1d470d29bf244f4dae10dcedd46e546a"
      }
     },
     "674d13d8343e4d0ba283dd46e2af3a17": {
      "model_module": "@jupyter-widgets/controls",
      "model_module_version": "1.5.0",
      "model_name": "IntTextModel",
      "state": {
       "description": "Workers",
       "layout": "IPY_MODEL_2a0b91e9e6c742fcac18dc0cc301fe34",
       "step": 1,
       "style": "IPY_MODEL_bce5464c2f73484c8fb2a3cd0989377f"
      }
     },
     "8c579f3e91bf4420a0d0d3919fd10987": {
      "model_module": "@jupyter-widgets/controls",
      "model_module_version": "1.5.0",
      "model_name": "HBoxModel",
      "state": {
       "children": [
        "IPY_MODEL_b37ac5807255498a8190ad3f8e2bfb86",
        "IPY_MODEL_39471c49d70242b6aee43ce0c02264b3"
       ],
       "layout": "IPY_MODEL_384aacd9da6b48b3802541568e7536a5"
      }
     },
     "8c748f34ddda4dcca79e18818d505b0a": {
      "model_module": "@jupyter-widgets/controls",
      "model_module_version": "1.5.0",
      "model_name": "ButtonStyleModel",
      "state": {}
     },
     "9267e634210045ad93ae79e08eb8a63b": {
      "model_module": "@jupyter-widgets/base",
      "model_module_version": "1.2.0",
      "model_name": "LayoutModel",
      "state": {}
     },
     "9e43df9c3b224fd4b4ae2dcdc378565c": {
      "model_module": "@jupyter-widgets/controls",
      "model_module_version": "1.5.0",
      "model_name": "DescriptionStyleModel",
      "state": {
       "description_width": ""
      }
     },
     "a218e6fee230493c8b73c3df57c7d3c5": {
      "model_module": "@jupyter-widgets/base",
      "model_module_version": "1.2.0",
      "model_name": "LayoutModel",
      "state": {}
     },
     "a562e7453dbe45c682eb51920a7b9cc8": {
      "model_module": "@jupyter-widgets/controls",
      "model_module_version": "1.5.0",
      "model_name": "ButtonModel",
      "state": {
       "description": "Adapt",
       "layout": "IPY_MODEL_2a0b91e9e6c742fcac18dc0cc301fe34",
       "style": "IPY_MODEL_59df538409a64856b3dc15c4854764f4"
      }
     },
     "b16cf0c01e7a4cdc826e3a6036994141": {
      "model_module": "@jupyter-widgets/controls",
      "model_module_version": "1.5.0",
      "model_name": "HTMLModel",
      "state": {
       "layout": "IPY_MODEL_cd216510af9f4bf881693a915e72ab9c",
       "style": "IPY_MODEL_9e43df9c3b224fd4b4ae2dcdc378565c",
       "value": "<p><b>Dashboard: </b><a href=\"/services/dask-gateway/clusters/daskhub-dev.f868be1c035c4709b5987af01b3ef844/status\" target=\"_blank\">/services/dask-gateway/clusters/daskhub-dev.f868be1c035c4709b5987af01b3ef844/status</a></p>\n"
      }
     },
     "b28437888b2c4507905c37b6c1fc2b44": {
      "model_module": "@jupyter-widgets/controls",
      "model_module_version": "1.5.0",
      "model_name": "DescriptionStyleModel",
      "state": {
       "description_width": ""
      }
     },
     "b37ac5807255498a8190ad3f8e2bfb86": {
      "model_module": "@jupyter-widgets/controls",
      "model_module_version": "1.5.0",
      "model_name": "HTMLModel",
      "state": {
       "layout": "IPY_MODEL_2f36f4970a2542e6aee0494fb4f62567",
       "style": "IPY_MODEL_e1ccba0d6ac245599e17a2fd4d45c10e",
       "value": "\n<div>\n<style scoped>\n    .dataframe tbody tr th:only-of-type {\n        vertical-align: middle;\n    }\n\n    .dataframe tbody tr th {\n        vertical-align: top;\n    }\n\n    .dataframe thead th {\n        text-align: right;\n    }\n</style>\n<table style=\"text-align: right;\">\n    <tr><th>Workers</th> <td>7</td></tr>\n    <tr><th>Cores</th> <td>7</td></tr>\n    <tr><th>Memory</th> <td>45.50 GiB</td></tr>\n</table>\n</div>\n"
      }
     },
     "bca362d69dfe4be4bc6352fa040f0630": {
      "model_module": "@jupyter-widgets/controls",
      "model_module_version": "1.5.0",
      "model_name": "VBoxModel",
      "state": {
       "children": [
        "IPY_MODEL_c851dd60a59f47128db7757cd6e6fdea",
        "IPY_MODEL_8c579f3e91bf4420a0d0d3919fd10987",
        "IPY_MODEL_f2c324b4ddc84ec4a447e113c82840a8",
        "IPY_MODEL_b16cf0c01e7a4cdc826e3a6036994141"
       ],
       "layout": "IPY_MODEL_a218e6fee230493c8b73c3df57c7d3c5"
      }
     },
     "bce5464c2f73484c8fb2a3cd0989377f": {
      "model_module": "@jupyter-widgets/controls",
      "model_module_version": "1.5.0",
      "model_name": "DescriptionStyleModel",
      "state": {
       "description_width": ""
      }
     },
     "c0f8155d0fb94f38aeb5f981f05a5093": {
      "model_module": "@jupyter-widgets/controls",
      "model_module_version": "1.5.0",
      "model_name": "HBoxModel",
      "state": {
       "children": [
        "IPY_MODEL_5cbdad86cebc4fa392a968eeb362aa9c",
        "IPY_MODEL_0682ba1847724793a61b6a6a7a7de8a1",
        "IPY_MODEL_a562e7453dbe45c682eb51920a7b9cc8"
       ],
       "layout": "IPY_MODEL_9267e634210045ad93ae79e08eb8a63b"
      }
     },
     "c851dd60a59f47128db7757cd6e6fdea": {
      "model_module": "@jupyter-widgets/controls",
      "model_module_version": "1.5.0",
      "model_name": "HTMLModel",
      "state": {
       "layout": "IPY_MODEL_4b3d697b119e4f2e9044aede2c8dfa79",
       "style": "IPY_MODEL_b28437888b2c4507905c37b6c1fc2b44",
       "value": "<h2>GatewayCluster</h2>"
      }
     },
     "cd216510af9f4bf881693a915e72ab9c": {
      "model_module": "@jupyter-widgets/base",
      "model_module_version": "1.2.0",
      "model_name": "LayoutModel",
      "state": {}
     },
     "dab67482a362427eab7852b9996477d6": {
      "model_module": "@jupyter-widgets/controls",
      "model_module_version": "1.5.0",
      "model_name": "ButtonModel",
      "state": {
       "description": "Scale",
       "layout": "IPY_MODEL_2a0b91e9e6c742fcac18dc0cc301fe34",
       "style": "IPY_MODEL_8c748f34ddda4dcca79e18818d505b0a"
      }
     },
     "dc2a8f872e0c4b15b19774a627b8a8dd": {
      "model_module": "@jupyter-widgets/controls",
      "model_module_version": "1.5.0",
      "model_name": "DescriptionStyleModel",
      "state": {
       "description_width": ""
      }
     },
     "e1ccba0d6ac245599e17a2fd4d45c10e": {
      "model_module": "@jupyter-widgets/controls",
      "model_module_version": "1.5.0",
      "model_name": "DescriptionStyleModel",
      "state": {
       "description_width": ""
      }
     },
     "f2c324b4ddc84ec4a447e113c82840a8": {
      "model_module": "@jupyter-widgets/controls",
      "model_module_version": "1.5.0",
      "model_name": "HTMLModel",
      "state": {
       "layout": "IPY_MODEL_0faa98d74bf94f66b71ca289257e4011",
       "style": "IPY_MODEL_dc2a8f872e0c4b15b19774a627b8a8dd",
       "value": "<p><b>Name: </b>daskhub-dev.f868be1c035c4709b5987af01b3ef844</p>"
      }
     }
    },
    "version_major": 2,
    "version_minor": 0
   }
  }
 },
 "nbformat": 4,
 "nbformat_minor": 5
}
