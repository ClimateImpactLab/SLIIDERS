{
 "cells": [
  {
   "cell_type": "markdown",
   "metadata": {
    "tags": []
   },
   "source": [
    "# Combine exposure tiles to construct with-elevation, without-elevation, and area-by-elevation exposure parquets\n",
    "Take all the 1-degree by 1-degree binned exposure tiles and combine them to form three global datasets:\n",
    "1. \"With-elevation\" binned exposure: Includes all areas with elevations up to `sset.HIGHEST_WITHELEV_EXPOSURE_METERS`\n",
    "2. \"Without-elevation\" binned exposure: Includes all global exposure\n",
    "3. Area-by-seg-adm1: For each segment and adm1 region, the total area, in square kilometers, that is closer to that segment than to any other segment"
   ]
  },
  {
   "cell_type": "code",
   "execution_count": 1,
   "metadata": {},
   "outputs": [],
   "source": [
    "%load_ext autoreload\n",
    "%autoreload 2"
   ]
  },
  {
   "cell_type": "code",
   "execution_count": 2,
   "metadata": {},
   "outputs": [],
   "source": [
    "import shlex\n",
    "import subprocess\n",
    "\n",
    "import geopandas as gpd\n",
    "import numpy as np\n",
    "import pandas as pd\n",
    "import sliiders.settings as sset\n",
    "from dask_gateway import GatewayCluster\n",
    "from sliiders.dask import start_cluster\n",
    "from sliiders.io import read_parquet_dask, save, save_geoparquet"
   ]
  },
  {
   "cell_type": "code",
   "execution_count": 3,
   "metadata": {},
   "outputs": [],
   "source": [
    "N_WORKERS = 35"
   ]
  },
  {
   "cell_type": "code",
   "execution_count": 6,
   "metadata": {},
   "outputs": [
    {
     "data": {
      "application/vnd.jupyter.widget-view+json": {
       "model_id": "7f8eacbf52374a35a73416e5bca89728",
       "version_major": 2,
       "version_minor": 0
      },
      "text/plain": [
       "VBox(children=(HTML(value='<h2>GatewayCluster</h2>'), HBox(children=(HTML(value='\\n<div>\\n<style scoped>\\n    …"
      ]
     },
     "metadata": {},
     "output_type": "display_data"
    }
   ],
   "source": [
    "client, cluster = start_cluster()\n",
    "cluster.scale(N_WORKERS)\n",
    "cluster"
   ]
  },
  {
   "cell_type": "code",
   "execution_count": 8,
   "metadata": {},
   "outputs": [
    {
     "data": {
      "text/plain": [
       "(None, None)"
      ]
     },
     "execution_count": 8,
     "metadata": {},
     "output_type": "execute_result"
    }
   ],
   "source": [
    "client.wait_for_workers(N_WORKERS)\n",
    "\n",
    "exp_df = read_parquet_dask(sset.DIR_EXPOSURE_BINNED_TMP_TILES / \"*.parquet\").compute()\n",
    "\n",
    "area_by_elev = read_parquet_dask(\n",
    "    sset.DIR_EXPOSURE_BINNED_TMP_TILES_SEGMENT_AREA / \"*.parquet\"\n",
    ").compute()\n",
    "\n",
    "cluster.close(), client.close()"
   ]
  },
  {
   "cell_type": "code",
   "execution_count": 9,
   "metadata": {},
   "outputs": [],
   "source": [
    "exp_df = exp_df.groupby([\"seg_adm\", \"protection_zone\", \"z_ix\"], observed=True).sum()\n",
    "area_by_elev = area_by_elev.groupby(\n",
    "    [\"seg_adm\", \"z_ix\", \"wetland_flag\", \"protection_zone\"], observed=True\n",
    ").sum()\n",
    "area_by_elev = (\n",
    "    area_by_elev.area_km.unstack(\"wetland_flag\")\n",
    "    .rename(columns={False: \"land_area_km\", True: \"wetland_area_km\"})\n",
    "    .rename_axis(columns=None)\n",
    "    .fillna(0)\n",
    ")"
   ]
  },
  {
   "cell_type": "code",
   "execution_count": 12,
   "metadata": {
    "tags": []
   },
   "outputs": [],
   "source": [
    "column_dtypes = {\n",
    "    \"z_ix\": \"int16\",\n",
    "    \"seg_reg\": \"category\",\n",
    "    \"protection_zone\": \"int16\",\n",
    "    \"land_area_km\": \"float32\",\n",
    "    \"wetland_area_km\": \"float32\",\n",
    "    \"asset_value\": \"float32\",\n",
    "    \"area_km\": \"float32\",\n",
    "    \"pop\": \"float32\",\n",
    "}\n",
    "\n",
    "highest_z_ix = (\n",
    "    int(sset.HIGHEST_WITHELEV_EXPOSURE_METERS / sset.EXPOSURE_BIN_WIDTH_V) - 1\n",
    ")\n",
    "area_by_elev = area_by_elev[\n",
    "    area_by_elev.index.get_level_values(\"z_ix\") <= highest_z_ix\n",
    "].reset_index()\n",
    "\n",
    "withoutelev_df = exp_df.groupby(\"seg_adm\", observed=True).sum().reset_index()\n",
    "\n",
    "withelev_df = exp_df.loc[pd.IndexSlice[:, :, :highest_z_ix]].reset_index()\n",
    "\n",
    "\n",
    "def drop_no_exp(df):\n",
    "    return df[df[\"asset_value\"].gt(0) | df[\"pop\"].gt(0)].copy()\n",
    "\n",
    "\n",
    "def parse_adm1(df):\n",
    "    df[\"adm1\"] = df.seg_adm.str[15:].values\n",
    "    df[\"ISO\"] = df.adm1.str[:3].values\n",
    "\n",
    "    return df"
   ]
  },
  {
   "cell_type": "code",
   "execution_count": 14,
   "metadata": {},
   "outputs": [],
   "source": [
    "area_by_elev = parse_adm1(area_by_elev)\n",
    "withelev_df = parse_adm1(drop_no_exp(withelev_df))\n",
    "withoutelev_df = parse_adm1(drop_no_exp(withoutelev_df))"
   ]
  },
  {
   "cell_type": "markdown",
   "metadata": {},
   "source": [
    "## Rescale asset value to country-level estimates"
   ]
  },
  {
   "cell_type": "code",
   "execution_count": 15,
   "metadata": {},
   "outputs": [],
   "source": [
    "# load country table\n",
    "ktable_full = (\n",
    "    pd.read_parquet(\n",
    "        sset.PATH_EXPOSURE_YPK_COUNTRY_HIST_INT,\n",
    "        filters=[(\"year\", \"=\", sset.SOCIOECONOMIC_SCALE_YR)],\n",
    "        columns=[\"rnna_19\", \"pop\"],\n",
    "    )\n",
    "    .droplevel(\"year\")\n",
    "    .rename(columns={\"rnna_19\": \"asset_value\"})\n",
    ")\n",
    "\n",
    "assert np.isin(\n",
    "    area_by_elev.ISO.unique(), ktable_full.index.tolist() + sset.UNINHABITED_ISOS\n",
    ").all()\n",
    "assert np.isin(\n",
    "    ktable_full.index.tolist(),\n",
    "    np.concatenate((withoutelev_df.ISO.unique(), sset.UNINHABITED_ISOS)),\n",
    ").all()\n",
    "\n",
    "# get current country-level totals\n",
    "country_totals = withoutelev_df.groupby(\"ISO\")[[\"asset_value\", \"pop\"]].sum()\n",
    "\n",
    "# adjust dataframes\n",
    "adjustment = (ktable_full / country_totals).rename(columns=lambda x: x + \"_adj\")\n",
    "\n",
    "\n",
    "def correct_vals(df):\n",
    "    out = df.copy()\n",
    "    out = out.join(adjustment, on=\"ISO\")\n",
    "    for varname in [\"asset_value\", \"pop\"]:\n",
    "        out[varname] *= out[varname + \"_adj\"]\n",
    "        out = out.drop(columns=varname + \"_adj\")\n",
    "    return out"
   ]
  },
  {
   "cell_type": "code",
   "execution_count": 16,
   "metadata": {},
   "outputs": [],
   "source": [
    "withoutelev_df = correct_vals(withoutelev_df)\n",
    "withelev_df = correct_vals(withelev_df)"
   ]
  },
  {
   "cell_type": "markdown",
   "metadata": {},
   "source": [
    "## Diagnostics"
   ]
  },
  {
   "cell_type": "code",
   "execution_count": 17,
   "metadata": {},
   "outputs": [
    {
     "data": {
      "text/plain": [
       "139.36470581285354"
      ]
     },
     "execution_count": 17,
     "metadata": {},
     "output_type": "execute_result"
    }
   ],
   "source": [
    "withelev_df[\"asset_value\"].sum() / 1e12"
   ]
  },
  {
   "cell_type": "code",
   "execution_count": 18,
   "metadata": {},
   "outputs": [
    {
     "data": {
      "text/plain": [
       "567.3817309949764"
      ]
     },
     "execution_count": 18,
     "metadata": {},
     "output_type": "execute_result"
    }
   ],
   "source": [
    "withoutelev_df[\"asset_value\"].sum() / 1e12"
   ]
  },
  {
   "cell_type": "code",
   "execution_count": 19,
   "metadata": {},
   "outputs": [
    {
     "data": {
      "text/plain": [
       "1.2480259502359143"
      ]
     },
     "execution_count": 19,
     "metadata": {},
     "output_type": "execute_result"
    }
   ],
   "source": [
    "withelev_df[\"pop\"].sum() / 1e9"
   ]
  },
  {
   "cell_type": "code",
   "execution_count": 20,
   "metadata": {},
   "outputs": [
    {
     "data": {
      "text/plain": [
       "7.71172042"
      ]
     },
     "execution_count": 20,
     "metadata": {},
     "output_type": "execute_result"
    }
   ],
   "source": [
    "withoutelev_df[\"pop\"].sum() / 1e9"
   ]
  },
  {
   "cell_type": "code",
   "execution_count": 21,
   "metadata": {},
   "outputs": [
    {
     "data": {
      "text/plain": [
       "asset_value    5.673817e+14\n",
       "pop            7.711723e+09\n",
       "dtype: float64"
      ]
     },
     "execution_count": 21,
     "metadata": {},
     "output_type": "execute_result"
    }
   ],
   "source": [
    "ktable_full.sum()"
   ]
  },
  {
   "cell_type": "code",
   "execution_count": 22,
   "metadata": {},
   "outputs": [
    {
     "data": {
      "text/plain": [
       "<Axes: xlabel='z_ix'>"
      ]
     },
     "execution_count": 22,
     "metadata": {},
     "output_type": "execute_result"
    },
    {
     "data": {
      "image/png": "[encoded data removed]",
      "text/plain": [
       "<Figure size 640x480 with 1 Axes>"
      ]
     },
     "metadata": {},
     "output_type": "display_data"
    }
   ],
   "source": [
    "withelev_df.groupby(\"z_ix\").asset_value.sum().plot(xlim=(-1, 200))"
   ]
  },
  {
   "cell_type": "code",
   "execution_count": 26,
   "metadata": {},
   "outputs": [
    {
     "data": {
      "text/plain": [
       "<Axes: xlabel='z_ix'>"
      ]
     },
     "execution_count": 26,
     "metadata": {},
     "output_type": "execute_result"
    },
    {
     "data": {
      "image/png": "[encoded data removed]",
      "text/plain": [
       "<Figure size 640x480 with 1 Axes>"
      ]
     },
     "metadata": {},
     "output_type": "display_data"
    }
   ],
   "source": [
    "withelev_df.groupby(\"z_ix\").area_km.sum().plot(xlim=(-1, 200))"
   ]
  },
  {
   "cell_type": "code",
   "execution_count": 27,
   "metadata": {},
   "outputs": [
    {
     "data": {
      "text/plain": [
       "z_ix\n",
       "-662    2.962816e+05\n",
       "-592    5.925631e+05\n",
       "-552    1.137455e+02\n",
       "-532    2.962823e+05\n",
       "-512    1.137462e+02\n",
       "            ...     \n",
       " 195    2.569616e+11\n",
       " 196    2.551313e+11\n",
       " 197    2.468789e+11\n",
       " 198    2.396297e+11\n",
       " 199    2.325614e+11\n",
       "Name: asset_value, Length: 541, dtype: float64"
      ]
     },
     "execution_count": 27,
     "metadata": {},
     "output_type": "execute_result"
    }
   ],
   "source": [
    "withelev_df.groupby(\"z_ix\").asset_value.sum()"
   ]
  },
  {
   "cell_type": "markdown",
   "metadata": {},
   "source": [
    "## Save"
   ]
  },
  {
   "cell_type": "code",
   "execution_count": 28,
   "metadata": {},
   "outputs": [],
   "source": [
    "def fix_type(df):\n",
    "    dtype_dict = {\n",
    "        \"z_ix\": \"int16\",\n",
    "        \"adm1\": \"category\",\n",
    "        \"ISO\": \"category\",\n",
    "    }\n",
    "    return df.astype({k: v for k, v in dtype_dict.items() if k in df.columns})\n",
    "\n",
    "\n",
    "withoutelev_df = fix_type(withoutelev_df)\n",
    "withelev_df = fix_type(withelev_df)\n",
    "area_by_elev = fix_type(area_by_elev)"
   ]
  },
  {
   "cell_type": "code",
   "execution_count": 31,
   "metadata": {},
   "outputs": [],
   "source": [
    "save(withelev_df, sset.PATH_EXPOSURE_BINNED_WITHELEV, index=False)\n",
    "save(withoutelev_df, sset.PATH_EXPOSURE_BINNED_WITHOUTELEV, index=False)\n",
    "save(area_by_elev, sset.PATH_EXPOSURE_AREA_BY_CIAM_AND_ELEVATION, index=False)"
   ]
  },
  {
   "cell_type": "markdown",
   "metadata": {},
   "source": [
    "## Add `lowelev` field to CIAM-Adm1 intersections file to indicate inclusion in elevation processing"
   ]
  },
  {
   "cell_type": "code",
   "execution_count": 32,
   "metadata": {},
   "outputs": [],
   "source": [
    "ciam_adm1 = gpd.read_parquet(sset.PATH_SEG_REGION_VORONOI_INTERSECTIONS)\n",
    "ciam_adm1[\"lowelev\"] = ciam_adm1.index.isin(area_by_elev[\"seg_adm\"].unique())"
   ]
  },
  {
   "cell_type": "code",
   "execution_count": 33,
   "metadata": {},
   "outputs": [],
   "source": [
    "save_geoparquet(\n",
    "    ciam_adm1, sset.PATH_SEG_REGION_VORONOI_INTERSECTIONS, row_group_size=500\n",
    ")"
   ]
  },
  {
   "cell_type": "markdown",
   "metadata": {},
   "source": [
    "### Check that it looks good"
   ]
  },
  {
   "cell_type": "markdown",
   "metadata": {},
   "source": [
    "#### withelev"
   ]
  },
  {
   "cell_type": "code",
   "execution_count": 34,
   "metadata": {},
   "outputs": [],
   "source": [
    "withelev_out = pd.read_parquet(sset.PATH_EXPOSURE_BINNED_WITHELEV)"
   ]
  },
  {
   "cell_type": "code",
   "execution_count": 35,
   "metadata": {},
   "outputs": [
    {
     "data": {
      "text/html": [
       "<div>\n",
       "<style scoped>\n",
       "    .dataframe tbody tr th:only-of-type {\n",
       "        vertical-align: middle;\n",
       "    }\n",
       "\n",
       "    .dataframe tbody tr th {\n",
       "        vertical-align: top;\n",
       "    }\n",
       "\n",
       "    .dataframe thead th {\n",
       "        text-align: right;\n",
       "    }\n",
       "</style>\n",
       "<table border=\"1\" class=\"dataframe\">\n",
       "  <thead>\n",
       "    <tr style=\"text-align: right;\">\n",
       "      <th></th>\n",
       "      <th>seg_adm</th>\n",
       "      <th>protection_zone</th>\n",
       "      <th>z_ix</th>\n",
       "      <th>asset_value</th>\n",
       "      <th>pop</th>\n",
       "      <th>area_km</th>\n",
       "      <th>adm1</th>\n",
       "      <th>ISO</th>\n",
       "    </tr>\n",
       "  </thead>\n",
       "  <tbody>\n",
       "    <tr>\n",
       "      <th>0</th>\n",
       "      <td>seg_09752_adm1_STP.2_1</td>\n",
       "      <td>-1</td>\n",
       "      <td>0</td>\n",
       "      <td>22574.867966</td>\n",
       "      <td>38.758840</td>\n",
       "      <td>0.370492</td>\n",
       "      <td>STP.2_1</td>\n",
       "      <td>STP</td>\n",
       "    </tr>\n",
       "    <tr>\n",
       "      <th>1</th>\n",
       "      <td>seg_09752_adm1_STP.2_1</td>\n",
       "      <td>-1</td>\n",
       "      <td>1</td>\n",
       "      <td>16551.062569</td>\n",
       "      <td>63.860048</td>\n",
       "      <td>0.470496</td>\n",
       "      <td>STP.2_1</td>\n",
       "      <td>STP</td>\n",
       "    </tr>\n",
       "    <tr>\n",
       "      <th>2</th>\n",
       "      <td>seg_09752_adm1_STP.2_1</td>\n",
       "      <td>-1</td>\n",
       "      <td>2</td>\n",
       "      <td>25430.227031</td>\n",
       "      <td>68.828718</td>\n",
       "      <td>0.611455</td>\n",
       "      <td>STP.2_1</td>\n",
       "      <td>STP</td>\n",
       "    </tr>\n",
       "    <tr>\n",
       "      <th>3</th>\n",
       "      <td>seg_09752_adm1_STP.2_1</td>\n",
       "      <td>-1</td>\n",
       "      <td>3</td>\n",
       "      <td>34930.215018</td>\n",
       "      <td>114.053059</td>\n",
       "      <td>0.636218</td>\n",
       "      <td>STP.2_1</td>\n",
       "      <td>STP</td>\n",
       "    </tr>\n",
       "    <tr>\n",
       "      <th>4</th>\n",
       "      <td>seg_09752_adm1_STP.2_1</td>\n",
       "      <td>-1</td>\n",
       "      <td>4</td>\n",
       "      <td>17302.811864</td>\n",
       "      <td>69.076578</td>\n",
       "      <td>0.382874</td>\n",
       "      <td>STP.2_1</td>\n",
       "      <td>STP</td>\n",
       "    </tr>\n",
       "  </tbody>\n",
       "</table>\n",
       "</div>"
      ],
      "text/plain": [
       "                  seg_adm  protection_zone  z_ix   asset_value         pop  \\\n",
       "0  seg_09752_adm1_STP.2_1               -1     0  22574.867966   38.758840   \n",
       "1  seg_09752_adm1_STP.2_1               -1     1  16551.062569   63.860048   \n",
       "2  seg_09752_adm1_STP.2_1               -1     2  25430.227031   68.828718   \n",
       "3  seg_09752_adm1_STP.2_1               -1     3  34930.215018  114.053059   \n",
       "4  seg_09752_adm1_STP.2_1               -1     4  17302.811864   69.076578   \n",
       "\n",
       "    area_km     adm1  ISO  \n",
       "0  0.370492  STP.2_1  STP  \n",
       "1  0.470496  STP.2_1  STP  \n",
       "2  0.611455  STP.2_1  STP  \n",
       "3  0.636218  STP.2_1  STP  \n",
       "4  0.382874  STP.2_1  STP  "
      ]
     },
     "execution_count": 35,
     "metadata": {},
     "output_type": "execute_result"
    }
   ],
   "source": [
    "withelev_out.head()"
   ]
  },
  {
   "cell_type": "code",
   "execution_count": 36,
   "metadata": {},
   "outputs": [
    {
     "data": {
      "text/plain": [
       "139.36470581285354"
      ]
     },
     "execution_count": 36,
     "metadata": {},
     "output_type": "execute_result"
    }
   ],
   "source": [
    "withelev_out[\"asset_value\"].sum() / 1e12"
   ]
  },
  {
   "cell_type": "markdown",
   "metadata": {},
   "source": [
    "#### withoutelev"
   ]
  },
  {
   "cell_type": "code",
   "execution_count": 37,
   "metadata": {},
   "outputs": [],
   "source": [
    "withoutelev_out = pd.read_parquet(sset.PATH_EXPOSURE_BINNED_WITHOUTELEV)"
   ]
  },
  {
   "cell_type": "code",
   "execution_count": 38,
   "metadata": {},
   "outputs": [
    {
     "data": {
      "text/html": [
       "<div>\n",
       "<style scoped>\n",
       "    .dataframe tbody tr th:only-of-type {\n",
       "        vertical-align: middle;\n",
       "    }\n",
       "\n",
       "    .dataframe tbody tr th {\n",
       "        vertical-align: top;\n",
       "    }\n",
       "\n",
       "    .dataframe thead th {\n",
       "        text-align: right;\n",
       "    }\n",
       "</style>\n",
       "<table border=\"1\" class=\"dataframe\">\n",
       "  <thead>\n",
       "    <tr style=\"text-align: right;\">\n",
       "      <th></th>\n",
       "      <th>seg_adm</th>\n",
       "      <th>asset_value</th>\n",
       "      <th>pop</th>\n",
       "      <th>area_km</th>\n",
       "      <th>adm1</th>\n",
       "      <th>ISO</th>\n",
       "    </tr>\n",
       "  </thead>\n",
       "  <tbody>\n",
       "    <tr>\n",
       "      <th>0</th>\n",
       "      <td>seg_09752_adm1_STP.2_1</td>\n",
       "      <td>3.009728e+06</td>\n",
       "      <td>1590.258425</td>\n",
       "      <td>197.812677</td>\n",
       "      <td>STP.2_1</td>\n",
       "      <td>STP</td>\n",
       "    </tr>\n",
       "    <tr>\n",
       "      <th>1</th>\n",
       "      <td>seg_09753_adm1_STP.2_1</td>\n",
       "      <td>3.726945e+09</td>\n",
       "      <td>183461.276859</td>\n",
       "      <td>385.310210</td>\n",
       "      <td>STP.2_1</td>\n",
       "      <td>STP</td>\n",
       "    </tr>\n",
       "    <tr>\n",
       "      <th>2</th>\n",
       "      <td>seg_09754_adm1_STP.2_1</td>\n",
       "      <td>2.156393e+07</td>\n",
       "      <td>21033.399972</td>\n",
       "      <td>272.406773</td>\n",
       "      <td>STP.2_1</td>\n",
       "      <td>STP</td>\n",
       "    </tr>\n",
       "    <tr>\n",
       "      <th>3</th>\n",
       "      <td>seg_13347_adm1_STP.1_1</td>\n",
       "      <td>6.240720e+05</td>\n",
       "      <td>114.027888</td>\n",
       "      <td>62.765681</td>\n",
       "      <td>STP.1_1</td>\n",
       "      <td>STP</td>\n",
       "    </tr>\n",
       "    <tr>\n",
       "      <th>4</th>\n",
       "      <td>seg_17602_adm1_GAB.1_1</td>\n",
       "      <td>1.435397e+08</td>\n",
       "      <td>1844.144709</td>\n",
       "      <td>4398.484089</td>\n",
       "      <td>GAB.1_1</td>\n",
       "      <td>GAB</td>\n",
       "    </tr>\n",
       "  </tbody>\n",
       "</table>\n",
       "</div>"
      ],
      "text/plain": [
       "                  seg_adm   asset_value            pop      area_km     adm1  \\\n",
       "0  seg_09752_adm1_STP.2_1  3.009728e+06    1590.258425   197.812677  STP.2_1   \n",
       "1  seg_09753_adm1_STP.2_1  3.726945e+09  183461.276859   385.310210  STP.2_1   \n",
       "2  seg_09754_adm1_STP.2_1  2.156393e+07   21033.399972   272.406773  STP.2_1   \n",
       "3  seg_13347_adm1_STP.1_1  6.240720e+05     114.027888    62.765681  STP.1_1   \n",
       "4  seg_17602_adm1_GAB.1_1  1.435397e+08    1844.144709  4398.484089  GAB.1_1   \n",
       "\n",
       "   ISO  \n",
       "0  STP  \n",
       "1  STP  \n",
       "2  STP  \n",
       "3  STP  \n",
       "4  GAB  "
      ]
     },
     "execution_count": 38,
     "metadata": {},
     "output_type": "execute_result"
    }
   ],
   "source": [
    "withoutelev_out.head()"
   ]
  },
  {
   "cell_type": "code",
   "execution_count": 39,
   "metadata": {},
   "outputs": [
    {
     "data": {
      "text/plain": [
       "567.3817309949764"
      ]
     },
     "execution_count": 39,
     "metadata": {},
     "output_type": "execute_result"
    }
   ],
   "source": [
    "withoutelev_out[\"asset_value\"].sum() / 1e12"
   ]
  },
  {
   "cell_type": "markdown",
   "metadata": {},
   "source": [
    "#### CIAM area-by-elevation"
   ]
  },
  {
   "cell_type": "code",
   "execution_count": 40,
   "metadata": {},
   "outputs": [],
   "source": [
    "area = pd.read_parquet(sset.PATH_EXPOSURE_AREA_BY_CIAM_AND_ELEVATION)"
   ]
  },
  {
   "cell_type": "code",
   "execution_count": 41,
   "metadata": {},
   "outputs": [
    {
     "data": {
      "text/plain": [
       "<Axes: xlabel='z_ix'>"
      ]
     },
     "execution_count": 41,
     "metadata": {},
     "output_type": "execute_result"
    },
    {
     "data": {
      "image/png": "[encoded data removed]",
      "text/plain": [
       "<Figure size 640x480 with 1 Axes>"
      ]
     },
     "metadata": {},
     "output_type": "display_data"
    }
   ],
   "source": [
    "area.groupby(\"z_ix\").land_area_km.sum().loc[1:].plot()"
   ]
  },
  {
   "cell_type": "markdown",
   "metadata": {},
   "source": [
    "The \"areas\" file includes some wetland area that wouldn't necessarily exist in the \"withelev\" file, so we confirm that there are no locations where the \"withelev\" file has greater area than the \"areas\" file."
   ]
  },
  {
   "cell_type": "code",
   "execution_count": 42,
   "metadata": {},
   "outputs": [],
   "source": [
    "area_areas = (\n",
    "    area[[\"seg_adm\", \"protection_zone\", \"z_ix\", \"land_area_km\", \"wetland_area_km\"]]\n",
    "    .set_index([\"seg_adm\", \"protection_zone\", \"z_ix\"])\n",
    "    .sum(axis=1)\n",
    ")\n",
    "we_areas = withelev_df.set_index([\"seg_adm\", \"protection_zone\", \"z_ix\"]).area_km\n",
    "assert ((area_areas.loc[we_areas.index] - we_areas) > -1e-12).all()"
   ]
  },
  {
   "cell_type": "markdown",
   "metadata": {},
   "source": [
    "## Clean temp files"
   ]
  },
  {
   "cell_type": "code",
   "execution_count": 50,
   "metadata": {},
   "outputs": [],
   "source": [
    "sset.DIR_EXPOSURE_BINNED_TMP.rmtree()"
   ]
  }
 ],
 "metadata": {
  "kernelspec": {
   "display_name": "Python 3 (ipykernel)",
   "language": "python",
   "name": "python3"
  },
  "language_info": {
   "codemirror_mode": {
    "name": "ipython",
    "version": 3
   },
   "file_extension": ".py",
   "mimetype": "text/x-python",
   "name": "python",
   "nbconvert_exporter": "python",
   "pygments_lexer": "ipython3",
   "version": "3.11.7"
  },
  "widgets": {
   "application/vnd.jupyter.widget-state+json": {
    "state": {},
    "version_major": 2,
    "version_minor": 0
   }
  }
 },
 "nbformat": 4,
 "nbformat_minor": 4
}
