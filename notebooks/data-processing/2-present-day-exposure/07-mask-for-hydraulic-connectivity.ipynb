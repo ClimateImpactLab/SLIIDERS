{
 "cells": [
  {
   "cell_type": "markdown",
   "metadata": {},
   "source": [
    "# Hydraulic Connectivity\n",
    "\n",
    "This notebook masks pixels that are not hydraulically connected to the ocean at 20m of SLR. This could be improved in future versions of SLIIDERS to calculate the height at which each pixel will flood from 0-20m."
   ]
  },
  {
   "cell_type": "code",
   "execution_count": 1,
   "metadata": {},
   "outputs": [],
   "source": [
    "%load_ext autoreload\n",
    "%autoreload 2"
   ]
  },
  {
   "cell_type": "code",
   "execution_count": 2,
   "metadata": {},
   "outputs": [
    {
     "name": "stderr",
     "output_type": "stream",
     "text": [
      "/srv/conda/envs/notebook/lib/python3.9/site-packages/dask_gateway/client.py:21: FutureWarning: format_bytes is deprecated and will be removed in a future release. Please use dask.utils.format_bytes instead.\n",
      "  from distributed.utils import LoopRunner, format_bytes\n"
     ]
    }
   ],
   "source": [
    "import contextily as ctx\n",
    "import geopandas as gpd\n",
    "import numpy as np\n",
    "import pandas as pd\n",
    "import regionmask\n",
    "import xarray as xr\n",
    "from dask_gateway import GatewayCluster\n",
    "from rasterio import transform\n",
    "from rasterio.features import shapes\n",
    "from shapely.geometry import LineString, box, shape\n",
    "from sliiders import settings as sset\n",
    "from sliiders.dask import upload_sliiders\n",
    "from sliiders.io import open_zarr, save, save_to_zarr_region\n",
    "from sliiders.spatial import get_ll, get_tile_names"
   ]
  },
  {
   "cell_type": "code",
   "execution_count": 3,
   "metadata": {},
   "outputs": [],
   "source": [
    "N_WORKERS = 200\n",
    "\n",
    "# Fraction of cell to buffer geometries to ensure overlap w/ potential floating point\n",
    "# precision issues\n",
    "CELL_BUFFER = 0.75\n",
    "\n",
    "TILES = pd.read_parquet(\n",
    "    sset.PATH_EXPOSURE_TILE_LIST,\n",
    "    filters=[(\"PROCESSING_SET\", \"in\", [\"CIAM\", \"WITHELEV\"])],\n",
    ").index.values"
   ]
  },
  {
   "cell_type": "markdown",
   "metadata": {},
   "source": [
    "## Build template zarr"
   ]
  },
  {
   "cell_type": "code",
   "execution_count": 4,
   "metadata": {},
   "outputs": [],
   "source": [
    "to_save = open_zarr(sset.PATH_ELEV_MSS)[[\"source\"]].rename({\"source\": \"connected\"})\n",
    "to_save.attrs = {}\n",
    "to_save[\"connected\"].attrs = {\n",
    "    \"long_name\": \"Hydraulic Connectivity Value\",\n",
    "    \"description\": (\n",
    "        \"Height at which this cell could be flooded. 201 indicates no flooding in \"\n",
    "        \"first 20 meters. Units are in whole decimeters and the value corresponds to \"\n",
    "        \"rounding down from the full-precision value\"\n",
    "    ),\n",
    "    \"units\": \"decimeters\",\n",
    "}"
   ]
  },
  {
   "cell_type": "code",
   "execution_count": 5,
   "metadata": {},
   "outputs": [],
   "source": [
    "save(to_save, sset.PATH_ELEV_MSS, mode=\"a\", compute=False)"
   ]
  },
  {
   "cell_type": "markdown",
   "metadata": {},
   "source": [
    "## Build dataset of neighboring tiles"
   ]
  },
  {
   "cell_type": "code",
   "execution_count": 6,
   "metadata": {},
   "outputs": [],
   "source": [
    "lls = [get_ll(t) for t in TILES]\n",
    "lons = [i[0] for i in lls]\n",
    "lats = [i[1] for i in lls]\n",
    "\n",
    "base = pd.DataFrame({\"lon\": lons, \"lat\": lats}, index=TILES)\n",
    "\n",
    "\n",
    "def adjust_base(E=0, N=0):\n",
    "    out = base.copy()\n",
    "    out[\"lon\"] += E\n",
    "    out[\"lon\"] = out.lon.where(out.lon >= -180, 179).where(out.lon < 180, -180)\n",
    "    out[\"lat\"] += N\n",
    "    above_pole = (out.lat > 90) | (out.lat < -90)\n",
    "    out[\"lon\"] = out.lon.where((~above_pole) | (out.lon < 0), out.lon - 180)\n",
    "    out[\"lon\"] = out.lon.where((~above_pole) | (out.lon >= 0), out.lon + 180)\n",
    "    out[\"lat\"] = out.lat.clip(lower=-90, upper=90)\n",
    "    return out\n",
    "\n",
    "\n",
    "W = get_tile_names(adjust_base(E=-1), \"lon\", \"lat\")\n",
    "E = get_tile_names(adjust_base(E=1), \"lon\", \"lat\")\n",
    "S = get_tile_names(adjust_base(N=-1), \"lon\", \"lat\")\n",
    "N = get_tile_names(adjust_base(N=1), \"lon\", \"lat\")\n",
    "\n",
    "neighbors = pd.DataFrame({\"W\": W, \"E\": E, \"N\": N, \"S\": S})\n",
    "neighbors = neighbors.where(neighbors.isin(TILES))\n",
    "isolated = neighbors.index[neighbors.isnull().all(axis=1)]\n",
    "neighbors = neighbors.drop(isolated)"
   ]
  },
  {
   "cell_type": "markdown",
   "metadata": {},
   "source": [
    "## Execute connectivity search"
   ]
  },
  {
   "cell_type": "markdown",
   "metadata": {},
   "source": [
    "### Helper functions"
   ]
  },
  {
   "cell_type": "code",
   "execution_count": 7,
   "metadata": {},
   "outputs": [],
   "source": [
    "def sel_tile(tile, path, invert_y=False):\n",
    "    xmin, ymin = get_ll(tile)\n",
    "    out = open_zarr(path, chunks=None).sel(\n",
    "        lon=slice(xmin, xmin + 1 - 1e-10), lat=slice(ymin, ymin + 1 - 1e-10)\n",
    "    )\n",
    "    if invert_y and out.lat[-1] > out.lat[0]:\n",
    "        out = out.sel(lat=out.lat.values[::-1])\n",
    "    return out\n",
    "\n",
    "\n",
    "def get_connected_polys(\n",
    "    tile,\n",
    "    connected_in=None,\n",
    "    gdf_in=None,\n",
    "    thresh=20,\n",
    "    neighbor_dir=None,\n",
    "    dx=0.75 / 3601,\n",
    "    dy=0.75 / 3601,\n",
    "):\n",
    "\n",
    "    # if no connected polygons in neighbor, don't bother\n",
    "    if neighbor_dir == \"E\" and not connected_in.connected_W.any():\n",
    "        return gdf_in\n",
    "    elif neighbor_dir == \"W\" and not connected_in.connected_E.any():\n",
    "        return gdf_in\n",
    "    elif neighbor_dir == \"N\" and not connected_in.connected_S.any():\n",
    "        return gdf_in\n",
    "    elif neighbor_dir == \"S\" and not connected_in.connected_N.any():\n",
    "        return gdf_in\n",
    "\n",
    "    xmin, ymin = get_ll(tile)\n",
    "    coords = (xmin, ymin, xmin + 1, ymin + 1)\n",
    "    tile_box = box(*coords)\n",
    "    box_ext = tile_box.exterior\n",
    "    Wbd = LineString([[xmin, ymin], [xmin, ymin + 1]])\n",
    "    Ebd = LineString([[xmin + 1, ymin], [xmin + 1, ymin + 1]])\n",
    "    Sbd = LineString([[xmin, ymin], [xmin + 1, ymin]])\n",
    "    Nbd = LineString([[xmin, ymin + 1], [xmin + 1, ymin + 1]])\n",
    "    bounds = {\n",
    "        \"W\": Wbd.buffer(dx).intersection(tile_box),\n",
    "        \"E\": Ebd.buffer(dx).intersection(tile_box),\n",
    "        \"S\": Sbd.buffer(dy).intersection(tile_box),\n",
    "        \"N\": Nbd.buffer(dy).intersection(tile_box),\n",
    "    }\n",
    "\n",
    "    if gdf_in is None:\n",
    "        ds = sel_tile(tile, sset.PATH_ELEV_MSS, invert_y=True)\n",
    "\n",
    "        assert ds.lon.size == ds.lat.size == 3601\n",
    "\n",
    "        assert ds.z.notnull().all()\n",
    "\n",
    "        # entirely ocean tile\n",
    "        if (ds.source == 3).all():\n",
    "            return gpd.GeoDataFrame(\n",
    "                {\n",
    "                    **{f\"connected_{k}\": [True] for k in \"WESN\"},\n",
    "                    \"geometry\": [box(*coords)],\n",
    "                },\n",
    "                geometry=\"geometry\",\n",
    "            )\n",
    "\n",
    "        tr = transform.from_bounds(\n",
    "            *coords,\n",
    "            ds.lon.size,\n",
    "            ds.lat.size,\n",
    "        )\n",
    "        gdf = gpd.GeoSeries(\n",
    "            [\n",
    "                shape(s[0])\n",
    "                for s in shapes(\n",
    "                    (ds.z < thresh | (np.isclose(ds.z, thresh) & ds.int_res))\n",
    "                    .astype(\"uint8\")\n",
    "                    .values,\n",
    "                    mask=(ds.z <= thresh).values,\n",
    "                    transform=tr,\n",
    "                )\n",
    "            ],\n",
    "            name=\"geometry\",\n",
    "        ).explode(index_parts=False)\n",
    "\n",
    "        # don't need to worry about any interior polygons since they cannot be\n",
    "        # ocean-connected\n",
    "        gdf = gdf[gdf.touches(box_ext)]\n",
    "        gdf = gdf.to_frame().assign(\n",
    "            connected_W=False, connected_E=False, connected_S=False, connected_N=False\n",
    "        )\n",
    "    else:\n",
    "        gdf = gdf_in.copy()\n",
    "\n",
    "    # now mark any connected tiles\n",
    "    # if no connected poly provided, use ocean\n",
    "    if connected_in is None:\n",
    "        connected = gpd.read_parquet(sset.PATH_NATEARTH_OCEAN_NOCASPIAN).iloc[0, 0]\n",
    "    # otherwise use neighbors polygons\n",
    "    else:\n",
    "        connected = connected_in.copy()\n",
    "        assert neighbor_dir is not None\n",
    "\n",
    "        if tile.endswith(\"W180\") and neighbor_dir == \"W\":\n",
    "            connected[\"geometry\"] = connected.translate(xoff=-360)\n",
    "        elif tile.endswith(\"E179\") and neighbor_dir == \"E\":\n",
    "            connected[\"geometry\"] = connected.translate(xoff=360)\n",
    "\n",
    "        # only evaluate those that are connected to the border we're looking at\n",
    "        if neighbor_dir == \"E\":\n",
    "            connected = connected[connected.connected_W].translate(xoff=-dx)\n",
    "        elif neighbor_dir == \"W\":\n",
    "            connected = connected[connected.connected_E].translate(xoff=dx)\n",
    "        elif neighbor_dir == \"N\":\n",
    "            connected = connected[connected.connected_S].translate(yoff=-dy)\n",
    "        elif neighbor_dir == \"S\":\n",
    "            connected = connected[connected.connected_N].translate(yoff=dy)\n",
    "        connected = connected.geometry.intersection(tile_box)\n",
    "        assert not connected.is_empty.any()\n",
    "        connected = connected.unary_union\n",
    "\n",
    "    if connected is not None:\n",
    "        connected = gdf.geometry[\n",
    "            gdf.filter(like=\"connected\").any(axis=1) | gdf.intersects(connected)\n",
    "        ]\n",
    "        for b in \"WSEN\":\n",
    "            gdf[f\"connected_{b}\"] = gdf[f\"connected_{b}\"] | connected.intersects(\n",
    "                bounds[b]\n",
    "            )\n",
    "\n",
    "    return gdf\n",
    "\n",
    "\n",
    "def final_filter(tile, polys, all_false=False, no_connect_val=201):\n",
    "    ds = sel_tile(tile, sset.PATH_ELEV_MSS, invert_y=True)\n",
    "    if all_false:\n",
    "        out = xr.ones_like(ds.connected, dtype=\"bool\") * no_connect_val\n",
    "    else:\n",
    "        polys = gpd.GeoSeries(\n",
    "            [polys[polys.filter(like=\"connected\").any(axis=1)].unary_union]\n",
    "        )\n",
    "        if polys[0] is None:\n",
    "            out = xr.ones_like(ds.connected, dtype=\"bool\") * no_connect_val\n",
    "        else:\n",
    "            # convert to decimeters\n",
    "            out = np.maximum((ds.z * 10), 0).astype(\"uint8\")\n",
    "            out = out.where(\n",
    "                regionmask.mask_geopandas(polys, out).notnull()\n",
    "                & (out < no_connect_val),\n",
    "                no_connect_val,\n",
    "            )\n",
    "\n",
    "    if out.lat[-1] < out.lat[0]:\n",
    "        out = out.sel(lat=out.lat.values[::-1])\n",
    "\n",
    "    # save this\n",
    "    save_to_zarr_region(out.to_dataset(name=\"connected\"), sset.PATH_ELEV_MSS)\n",
    "\n",
    "\n",
    "def get_all_connected(fut):\n",
    "    return fut.filter(like=\"connected\").any(axis=1).all()\n",
    "\n",
    "\n",
    "def get_none_connected(fut):\n",
    "    return not fut.filter(like=\"connected\").any().any()\n",
    "\n",
    "\n",
    "def get_new_connections(df, neighbor_dir):\n",
    "    if neighbor_dir == \"E\":\n",
    "        bd = \"W\"\n",
    "    elif neighbor_dir == \"W\":\n",
    "        bd = \"E\"\n",
    "    elif neighbor_dir == \"N\":\n",
    "        bd = \"S\"\n",
    "    elif neighbor_dir == \"S\":\n",
    "        bd = \"N\"\n",
    "    return df.index[df[f\"connected_{bd}\"]]\n",
    "\n",
    "\n",
    "# which tiles still need edge polygons to be checked\n",
    "def iterate(futs, new_connected=None, dx=0.75 / 3601, dy=0.75 / 3601):\n",
    "    if new_connected is not None:\n",
    "        remaining = new_connected.index\n",
    "    else:\n",
    "        remaining = futs.index\n",
    "\n",
    "    print(\"Calculating number of connected polygons in each tile\")\n",
    "    n_connected_old = pd.DataFrame(\n",
    "        client.gather(client.map(_get_n_connections, futs.loc[remaining].values)),\n",
    "        index=remaining,\n",
    "    )\n",
    "    connections = pd.DataFrame(columns=[\"W\", \"E\", \"S\", \"N\"])\n",
    "\n",
    "    for direction in \"WESN\":\n",
    "        print(f\"Checking {direction} neighbors\")\n",
    "\n",
    "        # don't need to check neighbors for cells where all polys are already connected\n",
    "        print(\"Checking which tiles are fully connected and can be skipped...\")\n",
    "        all_connected = np.array(\n",
    "            client.gather(client.map(get_all_connected, futs.loc[remaining].values))\n",
    "        )\n",
    "        print(\"Number fully connected:\", all_connected.sum())\n",
    "        remaining = remaining[~all_connected]\n",
    "\n",
    "        # filter to those that are not yet finished and have tile neighbors\n",
    "        this_neighbors = neighbors.loc[remaining][direction].dropna()\n",
    "        print(\"Number of tiles to check neighbors for:\", len(this_neighbors))\n",
    "\n",
    "        # filter to those with any new connections\n",
    "        if new_connected is not None:\n",
    "            print(\"...Filtering for new hydraulic connections in neighbors\")\n",
    "            new_connections = get_new_connections(new_connected, direction)\n",
    "\n",
    "            # if no new connections along this boundary, move onto the next direction\n",
    "            if not len(new_connections):\n",
    "                \"No new connections along this boundary. Skipping\"\n",
    "                continue\n",
    "\n",
    "            # else filter the neighbors to only those with new connections\n",
    "            this_neighbors = this_neighbors[this_neighbors.isin(new_connections)]\n",
    "\n",
    "        # run the connected polys workflow\n",
    "        print(f\"Finding new connections for {len(this_neighbors)} neighbor pairs\")\n",
    "        futs.loc[this_neighbors.index] = client.map(\n",
    "            get_connected_polys,\n",
    "            this_neighbors.index,\n",
    "            futs.loc[this_neighbors.values],\n",
    "            futs.loc[this_neighbors.index],\n",
    "            neighbor_dir=direction,\n",
    "            dx=dx,\n",
    "            dy=dy,\n",
    "        )\n",
    "\n",
    "        # track which tiles became connected\n",
    "        n_connected_new = pd.DataFrame(\n",
    "            client.gather(\n",
    "                client.map(_get_n_connections, futs.loc[this_neighbors.index].values)\n",
    "            ),\n",
    "            index=this_neighbors.index,\n",
    "        )[f\"connected_{direction}\"]\n",
    "        connections[direction] = this_neighbors[\n",
    "            n_connected_new\n",
    "            > n_connected_old.loc[this_neighbors.index, f\"connected_{direction}\"]\n",
    "        ]\n",
    "\n",
    "    n_connected_new = pd.DataFrame(\n",
    "        client.gather(client.map(_get_n_connections, futs.loc[remaining].values)),\n",
    "        index=remaining,\n",
    "    )\n",
    "    new_connected = n_connected_new > n_connected_old.loc[remaining]\n",
    "\n",
    "    if not new_connected.any().any():\n",
    "        return futs, None, None\n",
    "\n",
    "    connections = connections.rename_axis(\"tile\")\n",
    "\n",
    "    return futs, new_connected, connections\n",
    "\n",
    "\n",
    "def _get_n_connections(gdf):\n",
    "    return gdf.filter(like=\"connected\").sum()"
   ]
  },
  {
   "cell_type": "markdown",
   "metadata": {},
   "source": [
    "### Workflow execution"
   ]
  },
  {
   "cell_type": "code",
   "execution_count": 8,
   "metadata": {},
   "outputs": [
    {
     "data": {
      "application/vnd.jupyter.widget-view+json": {
       "model_id": "914cbc09876c4052b85fd40a1480d02a",
       "version_major": 2,
       "version_minor": 0
      },
      "text/plain": [
       "VBox(children=(HTML(value='<h2>GatewayCluster</h2>'), HBox(children=(HTML(value='\\n<div>\\n<style scoped>\\n    …"
      ]
     },
     "metadata": {},
     "output_type": "display_data"
    }
   ],
   "source": [
    "cluster = GatewayCluster(profile=\"micro\", idle_timeout=1800)\n",
    "client = cluster.get_client()\n",
    "upload_sliiders(client)\n",
    "cluster.scale(N_WORKERS)\n",
    "cluster"
   ]
  },
  {
   "cell_type": "code",
   "execution_count": 9,
   "metadata": {},
   "outputs": [],
   "source": [
    "with sel_tile(TILES[0], sset.PATH_ELEV_MSS) as ds:\n",
    "    DX = CELL_BUFFER / ds.lon.size\n",
    "    DY = CELL_BUFFER / ds.lat.size"
   ]
  },
  {
   "cell_type": "markdown",
   "metadata": {},
   "source": [
    "#### Isolated Tiles\n",
    "For tiles that don't have any neighbors, we can just look at ocean overlap and avoid any of the iteration"
   ]
  },
  {
   "cell_type": "code",
   "execution_count": 10,
   "metadata": {},
   "outputs": [],
   "source": [
    "isolated_futs = pd.Series(\n",
    "    client.map(get_connected_polys, isolated, dx=DX, dy=DY), index=isolated\n",
    ")\n",
    "isolated_futs = client.gather(\n",
    "    client.map(final_filter, isolated_futs.index, isolated_futs.values)\n",
    ")\n",
    "del isolated_futs"
   ]
  },
  {
   "cell_type": "markdown",
   "metadata": {},
   "source": [
    "#### Tiles with neighbors"
   ]
  },
  {
   "cell_type": "code",
   "execution_count": 11,
   "metadata": {},
   "outputs": [],
   "source": [
    "futs = pd.Series(\n",
    "    client.map(get_connected_polys, neighbors.index, dx=DX, dy=DY),\n",
    "    index=neighbors.index,\n",
    ")"
   ]
  },
  {
   "cell_type": "markdown",
   "metadata": {},
   "source": [
    "##### Exclude no-boundary-connections tiles\n",
    "For tiles that don't have any <20m area that touches the border, these are by definition going to be non-connected"
   ]
  },
  {
   "cell_type": "code",
   "execution_count": 12,
   "metadata": {},
   "outputs": [],
   "source": [
    "non_connected = client.gather(client.map(get_none_connected, futs.values))\n",
    "non_connected = futs.loc[non_connected]\n",
    "futs = futs.drop(non_connected.index)\n",
    "\n",
    "neighbors = neighbors.where(~neighbors.isin(non_connected.index))\n",
    "\n",
    "# calculate final filter for non-connected tiles (should be False everywhere)\n",
    "non_connected = client.gather(\n",
    "    client.map(\n",
    "        final_filter, non_connected.index, [None] * len(non_connected), all_false=True\n",
    "    )\n",
    ")\n",
    "del non_connected"
   ]
  },
  {
   "cell_type": "markdown",
   "metadata": {},
   "source": [
    "##### All the rest (tiles with neighbors and <20m pixels that touch the edge"
   ]
  },
  {
   "cell_type": "code",
   "execution_count": 13,
   "metadata": {
    "tags": []
   },
   "outputs": [
    {
     "name": "stdout",
     "output_type": "stream",
     "text": [
      "Iteration 1\n",
      "Calculating number of connected polygons in each tile\n",
      "Checking W neighbors\n",
      "Checking which tiles are fully connected and can be skipped...\n",
      "Number fully connected: 3310\n",
      "Number of tiles to check neighbors for: 2558\n",
      "Finding new connections for 2558 neighbor pairs\n",
      "Checking E neighbors\n",
      "Checking which tiles are fully connected and can be skipped...\n",
      "Number fully connected: 250\n",
      "Number of tiles to check neighbors for: 2374\n",
      "Finding new connections for 2374 neighbor pairs\n",
      "Checking S neighbors\n",
      "Checking which tiles are fully connected and can be skipped...\n",
      "Number fully connected: 313\n",
      "Number of tiles to check neighbors for: 1964\n",
      "Finding new connections for 1964 neighbor pairs\n",
      "Checking N neighbors\n",
      "Checking which tiles are fully connected and can be skipped...\n",
      "Number fully connected: 184\n",
      "Number of tiles to check neighbors for: 1902\n",
      "Finding new connections for 1902 neighbor pairs\n",
      "Iteration 2\n",
      "Calculating number of connected polygons in each tile\n",
      "Checking W neighbors\n",
      "Checking which tiles are fully connected and can be skipped...\n",
      "Number fully connected: 266\n",
      "Number of tiles to check neighbors for: 1719\n",
      "...Filtering for new hydraulic connections in neighbors\n",
      "Finding new connections for 595 neighbor pairs\n",
      "Checking E neighbors\n",
      "Checking which tiles are fully connected and can be skipped...\n",
      "Number fully connected: 29\n",
      "Number of tiles to check neighbors for: 1703\n",
      "...Filtering for new hydraulic connections in neighbors\n",
      "Finding new connections for 505 neighbor pairs\n",
      "Checking S neighbors\n",
      "Checking which tiles are fully connected and can be skipped...\n",
      "Number fully connected: 5\n",
      "Number of tiles to check neighbors for: 1594\n",
      "...Filtering for new hydraulic connections in neighbors\n",
      "Finding new connections for 589 neighbor pairs\n",
      "Checking N neighbors\n",
      "Checking which tiles are fully connected and can be skipped...\n",
      "Number fully connected: 24\n",
      "Number of tiles to check neighbors for: 1589\n",
      "...Filtering for new hydraulic connections in neighbors\n",
      "Finding new connections for 404 neighbor pairs\n",
      "Iteration 3\n",
      "Calculating number of connected polygons in each tile\n",
      "Checking W neighbors\n",
      "Checking which tiles are fully connected and can be skipped...\n",
      "Number fully connected: 0\n",
      "Number of tiles to check neighbors for: 1666\n",
      "...Filtering for new hydraulic connections in neighbors\n",
      "Finding new connections for 23 neighbor pairs\n",
      "Checking E neighbors\n",
      "Checking which tiles are fully connected and can be skipped...\n",
      "Number fully connected: 1\n",
      "Number of tiles to check neighbors for: 1679\n",
      "...Filtering for new hydraulic connections in neighbors\n",
      "Finding new connections for 141 neighbor pairs\n",
      "Checking S neighbors\n",
      "Checking which tiles are fully connected and can be skipped...\n",
      "Number fully connected: 1\n",
      "Number of tiles to check neighbors for: 1569\n",
      "...Filtering for new hydraulic connections in neighbors\n",
      "Finding new connections for 10 neighbor pairs\n",
      "Checking N neighbors\n",
      "Checking which tiles are fully connected and can be skipped...\n",
      "Number fully connected: 0\n",
      "Number of tiles to check neighbors for: 1588\n",
      "...Filtering for new hydraulic connections in neighbors\n",
      "Finding new connections for 105 neighbor pairs\n",
      "Iteration 4\n",
      "Calculating number of connected polygons in each tile\n",
      "Checking W neighbors\n",
      "Checking which tiles are fully connected and can be skipped...\n",
      "Number fully connected: 1\n",
      "Number of tiles to check neighbors for: 1664\n",
      "...Filtering for new hydraulic connections in neighbors\n",
      "Finding new connections for 9 neighbor pairs\n",
      "Checking E neighbors\n",
      "Checking which tiles are fully connected and can be skipped...\n",
      "Number fully connected: 0\n",
      "Number of tiles to check neighbors for: 1678\n",
      "...Filtering for new hydraulic connections in neighbors\n",
      "Finding new connections for 4 neighbor pairs\n",
      "Checking S neighbors\n",
      "Checking which tiles are fully connected and can be skipped...\n",
      "Number fully connected: 0\n",
      "Number of tiles to check neighbors for: 1568\n",
      "...Filtering for new hydraulic connections in neighbors\n",
      "Finding new connections for 8 neighbor pairs\n",
      "Checking N neighbors\n",
      "Checking which tiles are fully connected and can be skipped...\n",
      "Number fully connected: 0\n",
      "Number of tiles to check neighbors for: 1587\n",
      "...Filtering for new hydraulic connections in neighbors\n",
      "Finding new connections for 1 neighbor pairs\n",
      "Iteration 5\n",
      "Calculating number of connected polygons in each tile\n",
      "Checking W neighbors\n",
      "Checking which tiles are fully connected and can be skipped...\n",
      "Number fully connected: 0\n",
      "Number of tiles to check neighbors for: 1664\n",
      "...Filtering for new hydraulic connections in neighbors\n",
      "Checking E neighbors\n",
      "Checking which tiles are fully connected and can be skipped...\n",
      "Number fully connected: 0\n",
      "Number of tiles to check neighbors for: 1678\n",
      "...Filtering for new hydraulic connections in neighbors\n",
      "Checking S neighbors\n",
      "Checking which tiles are fully connected and can be skipped...\n",
      "Number fully connected: 0\n",
      "Number of tiles to check neighbors for: 1568\n",
      "...Filtering for new hydraulic connections in neighbors\n",
      "Checking N neighbors\n",
      "Checking which tiles are fully connected and can be skipped...\n",
      "Number fully connected: 0\n",
      "Number of tiles to check neighbors for: 1587\n",
      "...Filtering for new hydraulic connections in neighbors\n",
      "Finding new connections for 1 neighbor pairs\n",
      "Complete, beginning final raster burning\n"
     ]
    }
   ],
   "source": [
    "connections = []\n",
    "\n",
    "print(\"Iteration 1\")\n",
    "futs, new_connections, new_conn_tiles = iterate(futs, dx=DX, dy=DY)\n",
    "connections.append(new_conn_tiles)\n",
    "ix = 1\n",
    "while new_connections is not None:\n",
    "    ix += 1\n",
    "    print(\"Iteration\", ix)\n",
    "    futs, new_connections, new_conn_tiles = iterate(\n",
    "        futs, new_connected=new_connections, dx=DX, dy=DY\n",
    "    )\n",
    "    connections.append(new_conn_tiles)\n",
    "print(\"Complete, beginning final raster burning\")\n",
    "final = client.gather(client.map(final_filter, futs.index, futs.values))"
   ]
  },
  {
   "cell_type": "code",
   "execution_count": 14,
   "metadata": {},
   "outputs": [
    {
     "data": {
      "text/plain": [
       "(None, None)"
      ]
     },
     "execution_count": 14,
     "metadata": {},
     "output_type": "execute_result"
    }
   ],
   "source": [
    "del final\n",
    "cluster.close(), client.close()"
   ]
  },
  {
   "cell_type": "markdown",
   "metadata": {},
   "source": [
    "## Save tile connection info for QA"
   ]
  },
  {
   "cell_type": "code",
   "execution_count": 15,
   "metadata": {},
   "outputs": [],
   "source": [
    "all_connects = []\n",
    "for this_conn in connections[:-1]:\n",
    "    all_connects.append(\n",
    "        this_conn.apply(lambda x: [i for i in x if isinstance(i, str)], axis=1)\n",
    "    )\n",
    "all_connects = pd.DataFrame(all_connects).T\n",
    "all_connects.columns = \"iter_\" + (all_connects.columns + 1).astype(str)"
   ]
  },
  {
   "cell_type": "code",
   "execution_count": 16,
   "metadata": {},
   "outputs": [],
   "source": [
    "save(all_connects, sset.PATH_HYDCON_TILE_CONNECTIONS)"
   ]
  },
  {
   "cell_type": "markdown",
   "metadata": {},
   "source": [
    "## QA"
   ]
  },
  {
   "cell_type": "code",
   "execution_count": 17,
   "metadata": {},
   "outputs": [
    {
     "data": {
      "text/plain": [
       "tile\n",
       "N42W072    [N41W072]\n",
       "Name: iter_4, dtype: object"
      ]
     },
     "execution_count": 17,
     "metadata": {},
     "output_type": "execute_result"
    }
   ],
   "source": [
    "all_connects.iter_4.dropna()"
   ]
  },
  {
   "cell_type": "code",
   "execution_count": 18,
   "metadata": {},
   "outputs": [],
   "source": [
    "ds = sel_tile(\"N42W072\", sset.PATH_ELEV_MSS)\n",
    "ds2 = sel_tile(\"N42W071\", sset.PATH_ELEV_MSS)\n",
    "ds = xr.concat((ds, ds2), dim=\"lon\")"
   ]
  },
  {
   "cell_type": "code",
   "execution_count": 19,
   "metadata": {},
   "outputs": [
    {
     "data": {
      "image/png": "[encoded data removed]",
      "text/plain": [
       "<Figure size 432x288 with 2 Axes>"
      ]
     },
     "metadata": {
      "needs_background": "light"
     },
     "output_type": "display_data"
    }
   ],
   "source": [
    "im = xr.ones_like(ds.connected).where(ds.connected != 201).plot(alpha=0.5)\n",
    "ctx.add_basemap(im.axes, crs=\"EPSG:4327\", cmap=\"Blues\", vmax=1)"
   ]
  },
  {
   "cell_type": "code",
   "execution_count": 20,
   "metadata": {},
   "outputs": [
    {
     "data": {
      "image/png": "[encoded data removed]",
      "text/plain": [
       "<Figure size 432x288 with 2 Axes>"
      ]
     },
     "metadata": {
      "needs_background": "light"
     },
     "output_type": "display_data"
    }
   ],
   "source": [
    "im = ds.z.plot(alpha=0.5)\n",
    "ctx.add_basemap(im.axes, crs=\"EPSG:4327\")"
   ]
  }
 ],
 "metadata": {
  "kernelspec": {
   "display_name": "Python 3 (ipykernel)",
   "language": "python",
   "name": "python3"
  },
  "language_info": {
   "codemirror_mode": {
    "name": "ipython",
    "version": 3
   },
   "file_extension": ".py",
   "mimetype": "text/x-python",
   "name": "python",
   "nbconvert_exporter": "python",
   "pygments_lexer": "ipython3",
   "version": "3.9.10"
  },
  "widgets": {
   "application/vnd.jupyter.widget-state+json": {
    "state": {
     "0892313cdce14ddd83050b30ed8bc1de": {
      "model_module": "@jupyter-widgets/controls",
      "model_module_version": "1.5.0",
      "model_name": "ButtonModel",
      "state": {
       "description": "Scale",
       "layout": "IPY_MODEL_3dc8448ebc084a3bb83d09ddbdd09c38",
       "style": "IPY_MODEL_c3b784e3444a4e3e9410a544fe3b96c6"
      }
     },
     "0e49f424a36c426bb6b5ad6d2ab1529e": {
      "model_module": "@jupyter-widgets/controls",
      "model_module_version": "1.5.0",
      "model_name": "HTMLModel",
      "state": {
       "layout": "IPY_MODEL_a6d9eba20def44cc8a5d5f4e492dd78b",
       "style": "IPY_MODEL_da4bd89c92c646678af4cc1103cd6433",
       "value": "<p><b>Name: </b>daskhub-dev.2247c0ac759543c794c6df01f456a03c</p>"
      }
     },
     "1259f543ad0d4bd7b66339fae91ba64a": {
      "model_module": "@jupyter-widgets/base",
      "model_module_version": "1.2.0",
      "model_name": "LayoutModel",
      "state": {}
     },
     "18d337a8358c4b22989558b66967ba4f": {
      "model_module": "@jupyter-widgets/controls",
      "model_module_version": "1.5.0",
      "model_name": "DescriptionStyleModel",
      "state": {
       "description_width": ""
      }
     },
     "1a98bd4ca8fb4d479da471e70b30f79d": {
      "model_module": "@jupyter-widgets/base",
      "model_module_version": "1.2.0",
      "model_name": "LayoutModel",
      "state": {}
     },
     "204377c309c248988f9e468919b006bd": {
      "model_module": "@jupyter-widgets/controls",
      "model_module_version": "1.5.0",
      "model_name": "DescriptionStyleModel",
      "state": {
       "description_width": ""
      }
     },
     "35f4c3a2b27947c4ab238749623b9f2f": {
      "model_module": "@jupyter-widgets/base",
      "model_module_version": "1.2.0",
      "model_name": "LayoutModel",
      "state": {
       "min_width": "150px"
      }
     },
     "37fb51765a7e46db926095968afdec9a": {
      "model_module": "@jupyter-widgets/controls",
      "model_module_version": "1.5.0",
      "model_name": "IntTextModel",
      "state": {
       "description": "Minimum",
       "layout": "IPY_MODEL_3dc8448ebc084a3bb83d09ddbdd09c38",
       "step": 1,
       "style": "IPY_MODEL_18d337a8358c4b22989558b66967ba4f"
      }
     },
     "3dc8448ebc084a3bb83d09ddbdd09c38": {
      "model_module": "@jupyter-widgets/base",
      "model_module_version": "1.2.0",
      "model_name": "LayoutModel",
      "state": {
       "width": "150px"
      }
     },
     "4272ce0652f54859831f75b9b5153f79": {
      "model_module": "@jupyter-widgets/controls",
      "model_module_version": "1.5.0",
      "model_name": "ButtonStyleModel",
      "state": {}
     },
     "4ffa77e3a214460f91d8ff20ae3b0eca": {
      "model_module": "@jupyter-widgets/controls",
      "model_module_version": "1.5.0",
      "model_name": "DescriptionStyleModel",
      "state": {
       "description_width": ""
      }
     },
     "5bebaf8f91db413e8964cf3253b05c03": {
      "model_module": "@jupyter-widgets/controls",
      "model_module_version": "1.5.0",
      "model_name": "HBoxModel",
      "state": {
       "children": [
        "IPY_MODEL_37fb51765a7e46db926095968afdec9a",
        "IPY_MODEL_ead1401219e841cd9a784348cb9dd91c",
        "IPY_MODEL_e4cb5d0dfbc44f19aa4610e361aa2fab"
       ],
       "layout": "IPY_MODEL_98169d02731840bf92f403d7d6505605"
      }
     },
     "7d71702d94244568b19b4cc762486061": {
      "model_module": "@jupyter-widgets/base",
      "model_module_version": "1.2.0",
      "model_name": "LayoutModel",
      "state": {
       "min_width": "500px"
      }
     },
     "82be1eb520964301b0a43ab7a4348471": {
      "model_module": "@jupyter-widgets/controls",
      "model_module_version": "1.5.0",
      "model_name": "HBoxModel",
      "state": {
       "children": [
        "IPY_MODEL_b1006df020d34110afa6e22d0cf7f0d6",
        "IPY_MODEL_0892313cdce14ddd83050b30ed8bc1de"
       ],
       "layout": "IPY_MODEL_d65e3b6c30c24fd2ab0ab67fa8e3f11f"
      }
     },
     "914cbc09876c4052b85fd40a1480d02a": {
      "model_module": "@jupyter-widgets/controls",
      "model_module_version": "1.5.0",
      "model_name": "VBoxModel",
      "state": {
       "children": [
        "IPY_MODEL_d621381ef8d943b38b0f4af880d33fdd",
        "IPY_MODEL_c7afd674822e43b6b7bc91fa39e60483",
        "IPY_MODEL_0e49f424a36c426bb6b5ad6d2ab1529e",
        "IPY_MODEL_acd2532664ee4da7a694bc46e4f630a5"
       ],
       "layout": "IPY_MODEL_1259f543ad0d4bd7b66339fae91ba64a"
      }
     },
     "93bbe2dd65444a14b8f433168a3afe49": {
      "model_module": "@jupyter-widgets/controls",
      "model_module_version": "1.5.0",
      "model_name": "AccordionModel",
      "state": {
       "_titles": {
        "0": "Manual Scaling",
        "1": "Adaptive Scaling"
       },
       "children": [
        "IPY_MODEL_82be1eb520964301b0a43ab7a4348471",
        "IPY_MODEL_5bebaf8f91db413e8964cf3253b05c03"
       ],
       "layout": "IPY_MODEL_7d71702d94244568b19b4cc762486061",
       "selected_index": null
      }
     },
     "98169d02731840bf92f403d7d6505605": {
      "model_module": "@jupyter-widgets/base",
      "model_module_version": "1.2.0",
      "model_name": "LayoutModel",
      "state": {}
     },
     "a6d9eba20def44cc8a5d5f4e492dd78b": {
      "model_module": "@jupyter-widgets/base",
      "model_module_version": "1.2.0",
      "model_name": "LayoutModel",
      "state": {}
     },
     "aa9c06a3ec0a47adbc9ceca0bdbb386d": {
      "model_module": "@jupyter-widgets/controls",
      "model_module_version": "1.5.0",
      "model_name": "DescriptionStyleModel",
      "state": {
       "description_width": ""
      }
     },
     "acd2532664ee4da7a694bc46e4f630a5": {
      "model_module": "@jupyter-widgets/controls",
      "model_module_version": "1.5.0",
      "model_name": "HTMLModel",
      "state": {
       "layout": "IPY_MODEL_f359a125cbfc4fa286a7e2c582f9bae0",
       "style": "IPY_MODEL_cbe7fbca1ad347ee84b6d9142027ff1f",
       "value": "<p><b>Dashboard: </b><a href=\"/services/dask-gateway/clusters/daskhub-dev.2247c0ac759543c794c6df01f456a03c/status\" target=\"_blank\">/services/dask-gateway/clusters/daskhub-dev.2247c0ac759543c794c6df01f456a03c/status</a></p>\n"
      }
     },
     "acd682f4c5124f19b7deacdcb95e81a5": {
      "model_module": "@jupyter-widgets/base",
      "model_module_version": "1.2.0",
      "model_name": "LayoutModel",
      "state": {}
     },
     "b1006df020d34110afa6e22d0cf7f0d6": {
      "model_module": "@jupyter-widgets/controls",
      "model_module_version": "1.5.0",
      "model_name": "IntTextModel",
      "state": {
       "description": "Workers",
       "layout": "IPY_MODEL_3dc8448ebc084a3bb83d09ddbdd09c38",
       "step": 1,
       "style": "IPY_MODEL_204377c309c248988f9e468919b006bd"
      }
     },
     "b7cd4a8839be440dbeee53beee0db7c8": {
      "model_module": "@jupyter-widgets/controls",
      "model_module_version": "1.5.0",
      "model_name": "DescriptionStyleModel",
      "state": {
       "description_width": ""
      }
     },
     "c3b784e3444a4e3e9410a544fe3b96c6": {
      "model_module": "@jupyter-widgets/controls",
      "model_module_version": "1.5.0",
      "model_name": "ButtonStyleModel",
      "state": {}
     },
     "c7abe6ac667642fb8946c40c24e51074": {
      "model_module": "@jupyter-widgets/controls",
      "model_module_version": "1.5.0",
      "model_name": "HTMLModel",
      "state": {
       "layout": "IPY_MODEL_35f4c3a2b27947c4ab238749623b9f2f",
       "style": "IPY_MODEL_b7cd4a8839be440dbeee53beee0db7c8",
       "value": "\n<div>\n<style scoped>\n    .dataframe tbody tr th:only-of-type {\n        vertical-align: middle;\n    }\n\n    .dataframe tbody tr th {\n        vertical-align: top;\n    }\n\n    .dataframe thead th {\n        text-align: right;\n    }\n</style>\n<table style=\"text-align: right;\">\n    <tr><th>Workers</th> <td>200</td></tr>\n    <tr><th>Cores</th> <td>200</td></tr>\n    <tr><th>Memory</th> <td>1.27 TiB</td></tr>\n</table>\n</div>\n"
      }
     },
     "c7afd674822e43b6b7bc91fa39e60483": {
      "model_module": "@jupyter-widgets/controls",
      "model_module_version": "1.5.0",
      "model_name": "HBoxModel",
      "state": {
       "children": [
        "IPY_MODEL_c7abe6ac667642fb8946c40c24e51074",
        "IPY_MODEL_93bbe2dd65444a14b8f433168a3afe49"
       ],
       "layout": "IPY_MODEL_acd682f4c5124f19b7deacdcb95e81a5"
      }
     },
     "cbe7fbca1ad347ee84b6d9142027ff1f": {
      "model_module": "@jupyter-widgets/controls",
      "model_module_version": "1.5.0",
      "model_name": "DescriptionStyleModel",
      "state": {
       "description_width": ""
      }
     },
     "d621381ef8d943b38b0f4af880d33fdd": {
      "model_module": "@jupyter-widgets/controls",
      "model_module_version": "1.5.0",
      "model_name": "HTMLModel",
      "state": {
       "layout": "IPY_MODEL_1a98bd4ca8fb4d479da471e70b30f79d",
       "style": "IPY_MODEL_4ffa77e3a214460f91d8ff20ae3b0eca",
       "value": "<h2>GatewayCluster</h2>"
      }
     },
     "d65e3b6c30c24fd2ab0ab67fa8e3f11f": {
      "model_module": "@jupyter-widgets/base",
      "model_module_version": "1.2.0",
      "model_name": "LayoutModel",
      "state": {}
     },
     "da4bd89c92c646678af4cc1103cd6433": {
      "model_module": "@jupyter-widgets/controls",
      "model_module_version": "1.5.0",
      "model_name": "DescriptionStyleModel",
      "state": {
       "description_width": ""
      }
     },
     "e4cb5d0dfbc44f19aa4610e361aa2fab": {
      "model_module": "@jupyter-widgets/controls",
      "model_module_version": "1.5.0",
      "model_name": "ButtonModel",
      "state": {
       "description": "Adapt",
       "layout": "IPY_MODEL_3dc8448ebc084a3bb83d09ddbdd09c38",
       "style": "IPY_MODEL_4272ce0652f54859831f75b9b5153f79"
      }
     },
     "ead1401219e841cd9a784348cb9dd91c": {
      "model_module": "@jupyter-widgets/controls",
      "model_module_version": "1.5.0",
      "model_name": "IntTextModel",
      "state": {
       "description": "Maximum",
       "layout": "IPY_MODEL_3dc8448ebc084a3bb83d09ddbdd09c38",
       "step": 1,
       "style": "IPY_MODEL_aa9c06a3ec0a47adbc9ceca0bdbb386d"
      }
     },
     "f359a125cbfc4fa286a7e2c582f9bae0": {
      "model_module": "@jupyter-widgets/base",
      "model_module_version": "1.2.0",
      "model_name": "LayoutModel",
      "state": {}
     }
    },
    "version_major": 2,
    "version_minor": 0
   }
  }
 },
 "nbformat": 4,
 "nbformat_minor": 4
}
