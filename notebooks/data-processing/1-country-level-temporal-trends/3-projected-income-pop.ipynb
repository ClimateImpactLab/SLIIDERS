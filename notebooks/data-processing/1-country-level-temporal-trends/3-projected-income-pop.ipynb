{
 "cells": [
  {
   "cell_type": "markdown",
   "id": "abb30260",
   "metadata": {},
   "source": [
    "# Project income and pop from SSPs"
   ]
  },
  {
   "cell_type": "code",
   "execution_count": 1,
   "id": "8be17532",
   "metadata": {},
   "outputs": [],
   "source": [
    "%load_ext autoreload\n",
    "%autoreload 2"
   ]
  },
  {
   "cell_type": "code",
   "execution_count": 2,
   "id": "6a56987e",
   "metadata": {},
   "outputs": [],
   "source": [
    "import numpy as np\n",
    "import pandas as pd\n",
    "import xarray as xr\n",
    "from sliiders import settings as sset\n",
    "from sliiders.io import save\n",
    "\n",
    "ALL_ISOS = pd.read_parquet(sset.PATH_ALL_VALID_HIST_CCODES).iloc[:, 0].values\n",
    "FINAL_ISOS = [i for i in ALL_ISOS if \"+\" not in i]\n",
    "\n",
    "# 2010 is last year of harmonization across all SSPs. Starts to diverge in 2015\n",
    "TRANSITION_YEAR = 2010"
   ]
  },
  {
   "cell_type": "markdown",
   "id": "900fdb8f-cc05-4dfa-9a2f-5b39915d547a",
   "metadata": {},
   "source": [
    "## Transform functions"
   ]
  },
  {
   "cell_type": "code",
   "execution_count": 3,
   "id": "c3bff2a1-d16c-4ac3-b93c-d0f044b6152c",
   "metadata": {},
   "outputs": [],
   "source": [
    "def append_hist(proj_da, hist_da):\n",
    "    # log-linear interpolation to yearly values\n",
    "    proj_da = np.exp(\n",
    "        np.log(proj_da)\n",
    "        .reindex(year=np.arange(TRANSITION_YEAR, sset.PROJ_YEARS[-1] + 1))\n",
    "        .interpolate_na(\"year\")\n",
    "    )\n",
    "\n",
    "    # check\n",
    "    assert proj_da.notnull().all()\n",
    "\n",
    "    # align hist with proj\n",
    "    hist_adj = (\n",
    "        hist_da\n",
    "        / hist_da.sel(year=TRANSITION_YEAR)\n",
    "        * proj_da.sel(year=TRANSITION_YEAR).reindex(ccode=hist_da.ccode)\n",
    "    )\n",
    "\n",
    "    # concat and return\n",
    "    return xr.concat(\n",
    "        (hist_adj.isel(year=slice(None, -1)), proj_da.reindex(ccode=hist_da.ccode)),\n",
    "        dim=\"year\",\n",
    "    )\n",
    "\n",
    "\n",
    "def project_missing_isos(proj_da, hist_da):\n",
    "    \"\"\"\n",
    "    1. If these are territories of other sovereigns, we use the sovereign growth rates\n",
    "       applied to the 2010 populations from historical data. We then subtract these\n",
    "       populations from the sovereign projections to avoid double counting.\n",
    "    2. If they are not territories but have some other relationship (e.g. ESH to MAR) we\n",
    "       do the same thing, but don't subtract from the sovereign.\n",
    "    3. Otherwise, we start with populations at 2010 levels and use the global growth\n",
    "       rate from each scenario.\n",
    "    \"\"\"\n",
    "\n",
    "    agg_dims = [i for i in [\"year\", \"ssp\", \"iam\"] if i in proj_da.dims]\n",
    "    # countries without SSP data\n",
    "    need_matching = proj_da.ccode[proj_da.isnull().any(dim=agg_dims)].values\n",
    "\n",
    "    # get sovereign growth rates\n",
    "    gr = proj_da.rename(ccode=\"tmp\").sel(\n",
    "        tmp=sset.GADM_TO_SSP_ISO_MAPPING.parent.to_xarray(), drop=True\n",
    "    )\n",
    "    gr /= gr.sel(year=TRANSITION_YEAR)\n",
    "\n",
    "    # estimate missing levels\n",
    "    missing = (\n",
    "        hist_da.sel(ccode=sset.GADM_TO_SSP_ISO_MAPPING.index, year=TRANSITION_YEAR) * gr\n",
    "    )\n",
    "\n",
    "    # return dataarray of parent countries that we can subtract from\n",
    "    grps = sset.GADM_TO_SSP_ISO_MAPPING.loc[\n",
    "        sset.GADM_TO_SSP_ISO_MAPPING.included_in_parent, \"parent\"\n",
    "    ].to_xarray()\n",
    "    to_subtract = missing.sel(ccode=grps.ccode)\n",
    "\n",
    "    out = proj_da.fillna(missing)\n",
    "\n",
    "    # apply global growth rate for remaining\n",
    "    remaining = out.ccode[out.isnull().all(agg_dims)]\n",
    "    global_gr = out.sel(year=slice(TRANSITION_YEAR, None)).sum(\"ccode\")\n",
    "    global_gr /= global_gr.sel(year=TRANSITION_YEAR)\n",
    "    imputed = xr.concat(\n",
    "        (\n",
    "            hist_da.sel(ccode=remaining, year=slice(None, TRANSITION_YEAR - 1)),\n",
    "            hist_da.sel(ccode=remaining, year=TRANSITION_YEAR) * global_gr,\n",
    "        ),\n",
    "        dim=\"year\",\n",
    "    )\n",
    "    out = out.fillna(imputed)\n",
    "\n",
    "    # confirm complete\n",
    "    assert out.notnull().all()\n",
    "\n",
    "    return out, to_subtract, grps"
   ]
  },
  {
   "cell_type": "markdown",
   "id": "1cececc9",
   "metadata": {
    "tags": []
   },
   "source": [
    "## Raw data re-formatting"
   ]
  },
  {
   "cell_type": "code",
   "execution_count": 4,
   "id": "a94cef05",
   "metadata": {},
   "outputs": [],
   "source": [
    "iiasa_raw_df = pd.read_csv(\n",
    "    sset.PATH_IIASA_PROJECTIONS_RAW,\n",
    ").rename(columns={\"REGION\": \"ccode\"})\n",
    "\n",
    "iiasa_raw_df[\"iam\"] = iiasa_raw_df.MODEL.str.split(\" |-\").str[0]\n",
    "iiasa_raw_df[\"ssp\"] = iiasa_raw_df.SCENARIO.str[:4]\n",
    "\n",
    "iiasa_raw_df = (\n",
    "    iiasa_raw_df.set_index([\"VARIABLE\"])\n",
    "    .loc[[\"Population\", \"GDP|PPP\"], :]\n",
    "    .drop(columns=[\"MODEL\", \"SCENARIO\"])\n",
    "    .reset_index()\n",
    "    .drop_duplicates()\n",
    "    .set_index([\"VARIABLE\", \"ssp\", \"iam\", \"ccode\"])\n",
    "    .sort_index()\n",
    ")\n",
    "\n",
    "assert iiasa_raw_df.index.is_unique\n",
    "\n",
    "multipliers = np.where(\n",
    "    iiasa_raw_df.UNIT.str.startswith(\"billion\"),\n",
    "    1e9,\n",
    "    np.where(iiasa_raw_df.UNIT.str.startswith(\"million\"), 1e6, np.nan),\n",
    ")\n",
    "assert not np.isnan(multipliers).any()\n",
    "iiasa_raw_df = (\n",
    "    iiasa_raw_df.drop(columns=\"UNIT\").dropna(how=\"all\", axis=1).mul(multipliers, axis=0)\n",
    ")\n",
    "iiasa_raw_df.columns = iiasa_raw_df.columns.astype(int)\n",
    "\n",
    "# 2010 is last year of harmonization across all SSPs. Starts to diverge in 2015\n",
    "iiasa_raw_df = iiasa_raw_df.loc[:, TRANSITION_YEAR : sset.PROJ_YEARS[-1]]\n",
    "\n",
    "iiasa_pop = iiasa_raw_df.loc[\"Population\"]\n",
    "iiasa_gdp = iiasa_raw_df.loc[\"GDP|PPP\"]\n",
    "\n",
    "# hist data\n",
    "hist_da = (\n",
    "    pd.read_parquet(\n",
    "        sset.PATH_EXPOSURE_YPK_COUNTRY_HIST_INT,\n",
    "        columns=[\"rgdpna_pc_19\", \"pop\"],\n",
    "        filters=[(\"year\", \"in\", np.arange(sset.PROJ_YEARS[0], TRANSITION_YEAR + 1))],\n",
    "    )\n",
    "    .to_xarray()\n",
    "    .rename(rgdpna_pc_19=\"gdppc\")\n",
    ")"
   ]
  },
  {
   "cell_type": "markdown",
   "id": "cf013e35",
   "metadata": {
    "tags": []
   },
   "source": [
    "## Population\n",
    "\n",
    "We will only take IIASA projections, with the exception of countries whose information are in OECD projections but not in IIASA."
   ]
  },
  {
   "cell_type": "code",
   "execution_count": 5,
   "id": "b773f5c7-0c4b-4d60-999e-f17d2e669fed",
   "metadata": {
    "tags": []
   },
   "outputs": [],
   "source": [
    "# borrow info from other projections\n",
    "ii_pop = (\n",
    "    iiasa_pop.to_xarray()\n",
    "    .to_array(\"year\")\n",
    "    .sel(iam=[\"IIASA\", \"OECD\", \"NCAR\", \"PIK\"])\n",
    "    .bfill(\"iam\")\n",
    "    .sel(iam=\"IIASA\")\n",
    ")\n",
    "\n",
    "ii_pop, to_subtract, grps = project_missing_isos(\n",
    "    append_hist(ii_pop, hist_da[\"pop\"]), hist_da[\"pop\"]\n",
    ")\n",
    "\n",
    "# subtract pop from parent countries\n",
    "ii_pop -= (\n",
    "    to_subtract.groupby(grps)\n",
    "    .sum()\n",
    "    .rename(parent=\"ccode\")\n",
    "    .reindex(ccode=ii_pop.ccode, fill_value=0)\n",
    ")"
   ]
  },
  {
   "cell_type": "markdown",
   "id": "edc0ff29",
   "metadata": {
    "tags": []
   },
   "source": [
    "## GDPpc and GDP\n",
    "\n",
    "We will use IAMs `IIASA` and `OECD`."
   ]
  },
  {
   "cell_type": "code",
   "execution_count": 6,
   "id": "35eac984-01e0-42f6-834e-705fe0a6a148",
   "metadata": {
    "tags": []
   },
   "outputs": [],
   "source": [
    "# use iiasa/oecd to fill when other is missing\n",
    "ii_gdppc = (\n",
    "    iiasa_gdp.to_xarray()\n",
    "    .to_array(\"year\", name=\"gdppc\")\n",
    "    .sel(\n",
    "        year=slice(2010, sset.PROJ_YEARS[-1]),\n",
    "        iam=[\"IIASA\", \"OECD\", \"PIK\"],\n",
    "    )\n",
    "    .ffill(\"iam\")\n",
    "    .bfill(\"iam\")\n",
    "    .sel(iam=[\"IIASA\", \"OECD\"])\n",
    ") / ii_pop\n",
    "\n",
    "# convert from 2005 to 2019 USD\n",
    "pwt = pd.read_excel(sset.PATH_PWT_RAW).set_index([\"countrycode\", \"year\"])\n",
    "infla = pwt.loc[(\"USA\", 2019), \"pl_gdpo\"] / pwt.loc[(\"USA\", 2005), \"pl_gdpo\"]\n",
    "ii_gdppc *= infla"
   ]
  },
  {
   "cell_type": "code",
   "execution_count": 7,
   "id": "7aeada05-0501-45c4-8166-185dac237ab6",
   "metadata": {},
   "outputs": [],
   "source": [
    "ii_gdppc, to_subtract, grps = project_missing_isos(\n",
    "    append_hist(ii_gdppc, hist_da.gdppc), hist_da.gdppc\n",
    ")\n",
    "\n",
    "# need to account for population when subtracting territories from sovs (not just gdppc)\n",
    "ii_gdppc -= (\n",
    "    (to_subtract * ii_pop).groupby(grps).sum().rename(parent=\"ccode\") / ii_pop\n",
    ").reindex(ccode=ii_gdppc.ccode, fill_value=0)"
   ]
  },
  {
   "cell_type": "markdown",
   "id": "d7213e95",
   "metadata": {},
   "source": [
    "### Save"
   ]
  },
  {
   "cell_type": "code",
   "execution_count": 9,
   "id": "454266e6-c1ac-430e-8647-e58dd87dc0c0",
   "metadata": {},
   "outputs": [],
   "source": [
    "merged = xr.Dataset({\"gdppc\": ii_gdppc, \"pop\": ii_pop})\n",
    "save(merged, sset.PATH_EXPOSURE_YPK_COUNTRY_PROJ_INT, mode=\"w\")"
   ]
  }
 ],
 "metadata": {
  "kernelspec": {
   "display_name": "Python 3 (ipykernel)",
   "language": "python",
   "name": "python3"
  },
  "language_info": {
   "codemirror_mode": {
    "name": "ipython",
    "version": 3
   },
   "file_extension": ".py",
   "mimetype": "text/x-python",
   "name": "python",
   "nbconvert_exporter": "python",
   "pygments_lexer": "ipython3",
   "version": "3.11.7"
  },
  "widgets": {
   "application/vnd.jupyter.widget-state+json": {
    "state": {},
    "version_major": 2,
    "version_minor": 0
   }
  }
 },
 "nbformat": 4,
 "nbformat_minor": 5
}
