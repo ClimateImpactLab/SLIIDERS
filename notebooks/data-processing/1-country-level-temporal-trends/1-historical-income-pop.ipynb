{
 "cells": [
  {
   "cell_type": "markdown",
   "id": "2bbfaf73-96c1-46d7-bafe-92c30ced3b76",
   "metadata": {},
   "source": [
    "## Organizing historical data (GDP, GDPpc, and population for 2000-2020) in long-panel format, converting to current and constant PPP terms, taking care of missing data"
   ]
  },
  {
   "cell_type": "code",
   "execution_count": 1,
   "id": "a1c69bfd-3b4c-4bb4-8d00-6f8e1bdf7122",
   "metadata": {},
   "outputs": [],
   "source": [
    "%load_ext autoreload\n",
    "%autoreload 2"
   ]
  },
  {
   "cell_type": "code",
   "execution_count": 2,
   "id": "85f3f8c1-947b-4170-acc0-366f75565a86",
   "metadata": {},
   "outputs": [],
   "source": [
    "from itertools import product as lstprod\n",
    "\n",
    "import numpy as np\n",
    "import pandas as pd\n",
    "import statsmodels.api as sm\n",
    "import xarray as xr\n",
    "from sliiders import country_level_ypk as ypk_fn\n",
    "from sliiders import settings as sset\n",
    "from sliiders.io import save\n",
    "from statsmodels.formula.api import ols\n",
    "\n",
    "ALL_ISOS = pd.read_parquet(sset.PATH_ALL_VALID_HIST_CCODES).iloc[:, 0].values\n",
    "FINAL_ISOS = [i for i in ALL_ISOS if \"+\" not in i]\n",
    "\n",
    "# years to consider for the historical cases\n",
    "CCODE_FILTER = (\"ccode\", \"in\", ALL_ISOS)"
   ]
  },
  {
   "cell_type": "code",
   "execution_count": 3,
   "id": "9c18173d-4bd3-4521-923a-64794595d5f4",
   "metadata": {},
   "outputs": [],
   "source": [
    "def check_missing_isos(df):\n",
    "    unique_isos = df.index.get_level_values(\"ccode\").unique()\n",
    "    return unique_isos[~np.isin(unique_isos, ALL_ISOS)]"
   ]
  },
  {
   "cell_type": "markdown",
   "id": "7444df03-7e87-43d1-bf13-bf7f7cd9885e",
   "metadata": {
    "tags": []
   },
   "source": [
    "## Importing all raw data, and creating a merged, long-panel version"
   ]
  },
  {
   "cell_type": "markdown",
   "id": "dacf6537-d3e6-48b0-92ef-4f6a71ced27c",
   "metadata": {},
   "source": [
    "### PWT"
   ]
  },
  {
   "cell_type": "code",
   "execution_count": 4,
   "id": "996df854-1843-45fb-ad57-74173b99fcf5",
   "metadata": {},
   "outputs": [],
   "source": [
    "pwt100 = pd.read_excel(sset.PATH_PWT_RAW)\n",
    "pwt100.rename(columns={\"countrycode\": \"ccode\"}, inplace=True)\n",
    "pwt_gdp_pop = [\"ccode\", \"year\", \"pop\", \"rgdpo\", \"rgdpna\", \"cgdpo\"]\n",
    "gdp_pop_df = pwt100[pwt_gdp_pop].copy()\n",
    "\n",
    "# fixing for FRA, CYP, and SRB as these countries actually account for more than their\n",
    "# ISO code designation in PWT 10.0; FRA: FRA+GLP+GUF+MTQ+MYT+REU\n",
    "# CYP: CYP+ZNC (1950-1973), CYP (1974-2019); SRB: SRB (1950-1999), SRB+XKO (2000-2019)\n",
    "gdp_pop_df.loc[gdp_pop_df.ccode == \"FRA\", \"ccode\"] = sset.FRA_OVERSEAS_DEPT\n",
    "gdp_pop_df.loc[\n",
    "    (gdp_pop_df.ccode == \"CYP\") & (gdp_pop_df.year <= 1973), \"ccode\"\n",
    "] = \"CYP+ZNC\"\n",
    "gdp_pop_df.loc[\n",
    "    (gdp_pop_df.ccode == \"SRB\") & (gdp_pop_df.year < 2000), \"ccode\"\n",
    "] = \"SRB+XKO\"\n",
    "\n",
    "# creating GDP per capita variables\n",
    "for i in [\"rgdpo\", \"rgdpna\", \"cgdpo\"]:\n",
    "    gdp_pop_df[f\"{i}_pc\"] = gdp_pop_df[i].div(gdp_pop_df[\"pop\"])\n",
    "gdp_pop_df.set_index([\"ccode\", \"year\"], inplace=True)\n",
    "\n",
    "# convert to millions\n",
    "gdp_pop_df[[\"pop\", \"rgdpo\", \"rgdpna\", \"cgdpo\"]] *= 1e6"
   ]
  },
  {
   "cell_type": "markdown",
   "id": "7d513874-6cfb-466f-b0f5-a67f4ba5f1ae",
   "metadata": {
    "tags": []
   },
   "source": [
    "### UN population data (UN WPP)"
   ]
  },
  {
   "cell_type": "code",
   "execution_count": 5,
   "id": "0a7da224-0438-419c-b6c3-7a5e60a8db5e",
   "metadata": {},
   "outputs": [],
   "source": [
    "unpop = (\n",
    "    pd.read_parquet(\n",
    "        sset.PATH_UN_WPP_INT,\n",
    "        filters=[CCODE_FILTER, (\"year\", \"<=\", 2020)],\n",
    "    )\n",
    "    .sum(axis=1)\n",
    "    .groupby([\"ccode\", \"year\"])\n",
    "    .sum()\n",
    "    .rename(\"un_pop\")\n",
    "    .reset_index()\n",
    ")\n",
    "\n",
    "# CYP indicates CYP+ZNC in this dataset and SRB indicates SRB+XKO\n",
    "unpop[\"ccode\"] = unpop.ccode.replace({\"CYP\": \"CYP+ZNC\", \"SRB\": \"SRB+XKO\"})\n",
    "unpop = unpop.set_index([\"ccode\", \"year\"]).un_pop\n",
    "\n",
    "# merging\n",
    "gdp_pop_df = gdp_pop_df.join(unpop, how=\"outer\").sort_index()"
   ]
  },
  {
   "cell_type": "markdown",
   "id": "f7c1b3b0-fe61-4825-85db-596c639eff72",
   "metadata": {},
   "source": [
    "### WB WDI"
   ]
  },
  {
   "cell_type": "code",
   "execution_count": 6,
   "id": "e45a649d-dc43-41fc-a96d-9dc1bd1adda7",
   "metadata": {},
   "outputs": [],
   "source": [
    "# WB WDI\n",
    "wdi_rename_dict = {\n",
    "    \"SP.POP.TOTL\": \"wb_pop\",\n",
    "    \"NY.GDP.MKTP.PP.KD\": \"wb_rgdpna\",\n",
    "    \"NY.GDP.PCAP.PP.KD\": \"wb_rgdpna_pc\",\n",
    "    \"NY.GDP.MKTP.KD\": \"wb_gdp_nom\",\n",
    "    \"NY.GDP.PCAP.KD\": \"wb_gdppc_nom\",\n",
    "}\n",
    "wb_wdi = (\n",
    "    pd.read_parquet(\n",
    "        sset.DIR_WB_WDI_RAW / \"wdi_pop_iy_gdp.parquet\",\n",
    "        columns=list(wdi_rename_dict.keys()) + [\"country\"],\n",
    "    )\n",
    "    .rename(columns=wdi_rename_dict)\n",
    "    .reset_index()\n",
    ")\n",
    "\n",
    "# Unifying the country code conventions for Kosovo, Channel Islands, CYP (indicates\n",
    "# CYP+ZNC) and FRA (indicates FRA+GLP+GUF+MTQ+MYT+REU)\n",
    "wb_wdi.loc[wb_wdi.ccode == \"XKX\", \"ccode\"] = \"XKO\"\n",
    "wb_wdi.loc[wb_wdi.ccode == \"CHI\", \"ccode\"] = \"GGY+JEY\"\n",
    "wb_wdi.loc[wb_wdi.ccode == \"CYP\", \"ccode\"] = \"CYP+ZNC\"\n",
    "wb_wdi.loc[wb_wdi.ccode == \"FRA\", \"ccode\"] = sset.FRA_OVERSEAS_DEPT\n",
    "wb_wdi = wb_wdi[wb_wdi.ccode.isin(ALL_ISOS)]\n",
    "wb_wdi.set_index([\"ccode\", \"year\"], inplace=True)"
   ]
  },
  {
   "cell_type": "code",
   "execution_count": 7,
   "id": "a6246654-48ed-4c49-b212-41e83c4604ce",
   "metadata": {},
   "outputs": [],
   "source": [
    "# merging\n",
    "gdp_pop_df = gdp_pop_df.join(wb_wdi[list(wdi_rename_dict.values())], how=\"outer\")"
   ]
  },
  {
   "cell_type": "markdown",
   "id": "8424f314-f5c7-44fd-bc3e-53aa5f4240e9",
   "metadata": {},
   "source": [
    "### Fariss et al. (2022, JCR) dataset"
   ]
  },
  {
   "cell_type": "code",
   "execution_count": 8,
   "id": "3741ba26-9c02-419f-9762-88f0389ce653",
   "metadata": {},
   "outputs": [],
   "source": [
    "DIR_FARISS = sset.DIR_YPK_INT / \"Fariss_JCR_2022\"\n",
    "indicators = {\n",
    "    \"PWT100_gdp_ppp_bc_2017\": \"fariss_rgdpna\",\n",
    "    \"PWT100_gdp_ppp_bt_2017\": \"fariss_cgdpe\",\n",
    "}\n",
    "\n",
    "far_gdp = (\n",
    "    pd.read_parquet(\n",
    "        DIR_FARISS / \"fariss_gdp.parquet\",\n",
    "        filters=[CCODE_FILTER, (\"indicator\", \"in\", indicators.keys())],\n",
    "        columns=[\"mean\"],\n",
    "    )[\"mean\"]\n",
    "    .drop_duplicates()\n",
    "    .unstack(\"indicator\")\n",
    "    .rename(columns=indicators)\n",
    "    .sort_index()\n",
    "    * 1e6\n",
    ")\n",
    "far_pop = (\n",
    "    pd.read_parquet(DIR_FARISS / \"fariss_pop.parquet\", filters=[CCODE_FILTER])\n",
    "    .drop_duplicates()\n",
    "    .loc[\"PWT100_pop\", \"mean\"]\n",
    "    .rename(\"fariss_pop\")\n",
    "    .sort_index()\n",
    "    * 1e6\n",
    ")\n",
    "\n",
    "# based on the rgdpna-cgdpe relationship in PWT 10.0, 2017 values must be similar,\n",
    "# but Fariss et al. (2022) doesn't seem to take care of this. Based on inspection,\n",
    "# we will create `fariss_cgdpo` based on `fariss_rgdpna` and use the growth rates wrt\n",
    "# 2017 `fariss_cgdpe`.\n",
    "far_gdp_2017 = far_gdp.loc[(slice(None), 2017), :].droplevel(\"year\")\n",
    "far_gdp[\"fariss_cgdpo\"] = (\n",
    "    far_gdp.fariss_cgdpe * far_gdp_2017.fariss_rgdpna / far_gdp_2017.fariss_cgdpe\n",
    ")\n",
    "far_gdp = far_gdp.drop(columns=\"fariss_cgdpe\")\n",
    "\n",
    "# Some country-level information needs cleaning, in terms of scales\n",
    "div_by_10000 = [\"SOM\", \"SSD\", \"LIE\", \"MCO\", \"AND\", \"ERI\"]\n",
    "div_by_1000 = [\"CUB\", \"PRK\"]\n",
    "far_gdp.loc[div_by_10000] /= 1e4\n",
    "far_gdp.loc[div_by_1000] /= 1e3\n",
    "\n",
    "far = far_gdp.join(\n",
    "    far_gdp.div(far_pop, axis=0).rename(columns=lambda x: x + \"_pc\")\n",
    ").join(far_pop, how=\"outer\")"
   ]
  },
  {
   "cell_type": "code",
   "execution_count": 9,
   "id": "c21f4c73-a1a8-45d4-b503-e008c7f16683",
   "metadata": {},
   "outputs": [],
   "source": [
    "gdp_pop_df = gdp_pop_df.join(far, how=\"outer\")"
   ]
  },
  {
   "cell_type": "markdown",
   "id": "a5b448af-0fbc-40ef-a3e6-191c278ca955",
   "metadata": {},
   "source": [
    "### Maddison Project Database (MPD)"
   ]
  },
  {
   "cell_type": "code",
   "execution_count": 10,
   "id": "343c98f7-afbc-4034-bcb9-498e4d9281da",
   "metadata": {},
   "outputs": [],
   "source": [
    "mpd = (\n",
    "    pd.read_excel(sset.PATH_MPD_RAW)\n",
    "    .rename(\n",
    "        columns={\"countrycode\": \"ccode\", \"gdppc\": \"mpd_rgdpna_pc\", \"pop\": \"mpd_pop\"}\n",
    "    )\n",
    "    .set_index([\"ccode\", \"year\"])\n",
    "    .drop(columns=\"country\", index=[\"CSK\", \"SUN\", \"YUG\"])\n",
    "    .sort_index()\n",
    ")\n",
    "assert len(check_missing_isos(mpd)) == 0\n",
    "\n",
    "# population is in 1000s\n",
    "mpd[\"mpd_pop\"] *= 1000\n",
    "\n",
    "# some minor interpolation for the case of North Korea\n",
    "mpd = mpd.fillna(\n",
    "    np.exp(\n",
    "        np.log(mpd.loc[[\"PRK\"], [\"mpd_rgdpna_pc\", \"mpd_pop\"]])\n",
    "        .reset_index(level=\"ccode\")\n",
    "        .interpolate(method=\"index\")\n",
    "        .set_index(\"ccode\", append=True)\n",
    "    )\n",
    ").reset_index()\n",
    "\n",
    "# fixing CYP (indicates CYP+ZNC) and FRA (indicates FRA+GLP+GUF+MTQ+MYT+REU)\n",
    "mpd.loc[mpd.ccode == \"CYP\", \"ccode\"] = \"CYP+ZNC\"\n",
    "mpd.loc[mpd.ccode == \"FRA\", \"ccode\"] = sset.FRA_OVERSEAS_DEPT\n",
    "\n",
    "mpd = mpd.set_index([\"ccode\", \"year\"])"
   ]
  },
  {
   "cell_type": "code",
   "execution_count": 11,
   "id": "507434c7-071f-40a3-b205-33668913aabd",
   "metadata": {},
   "outputs": [],
   "source": [
    "gdp_pop_df = gdp_pop_df.join(mpd, how=\"outer\")"
   ]
  },
  {
   "cell_type": "markdown",
   "id": "b8696d23-122e-4a1a-bfa5-24485a623f20",
   "metadata": {
    "tags": []
   },
   "source": [
    "### IMF"
   ]
  },
  {
   "cell_type": "code",
   "execution_count": 12,
   "id": "710b7a80-20df-47ca-bd1c-ebaae0a6d15e",
   "metadata": {
    "tags": []
   },
   "outputs": [],
   "source": [
    "imf = (\n",
    "    pd.read_excel(sset.PATH_IMF_WEO_RAW, na_values=[\"n/a\", \"--\"], index_col=\"ISO\")\n",
    "    .rename(columns={\"Subject Descriptor\": \"subject\"})\n",
    "    .rename_axis(\"ccode\")\n",
    ")\n",
    "imf = imf.loc[imf.index.get_level_values(\"ccode\").isin(ALL_ISOS)]\n",
    "\n",
    "# renaming the subjects\n",
    "imf_rename = {\n",
    "    \"Gross domestic product per capita, constant prices\": \"imf_rgdpna_pc\",\n",
    "    \"Gross domestic product per capita, current prices\": \"imf_gdppc_nom\",\n",
    "    \"Gross domestic product, current prices\": \"imf_gdp_nom\",\n",
    "    \"Population\": \"imf_pop\",\n",
    "    \"Total investment\": \"imf_iy_ratio\",\n",
    "}\n",
    "imf[\"subject\"] = imf.subject.replace(imf_rename)\n",
    "v_names = {str(k): k for k in range(1980, 2021)}\n",
    "imf = imf[imf.subject.isin(imf_rename.values())].rename(columns=v_names)\n",
    "\n",
    "multipliers = (\n",
    "    imf[[\"subject\", \"Scale\"]]\n",
    "    .drop_duplicates()\n",
    "    .set_index(\"subject\")\n",
    "    .Scale.replace({\"Billions\": 1e9, \"Units\": 1, \"Millions\": 1e6, np.nan: 0.01})\n",
    ")\n",
    "\n",
    "# reshape and get in units of ones\n",
    "imf = (\n",
    "    imf.melt(\n",
    "        id_vars=\"subject\",\n",
    "        var_name=\"year\",\n",
    "        value_vars=v_names.values(),\n",
    "        ignore_index=False,\n",
    "    )\n",
    "    .set_index([\"subject\", \"year\"], append=True)\n",
    "    .value.unstack(\"subject\")\n",
    "    .rename_axis(columns=None)\n",
    "    * multipliers\n",
    ").dropna(how=\"all\")"
   ]
  },
  {
   "cell_type": "code",
   "execution_count": 13,
   "id": "9cf1d2eb-3fb8-4057-b1ac-7e7e56cd751c",
   "metadata": {},
   "outputs": [],
   "source": [
    "gdp_pop_df = gdp_pop_df.join(imf, how=\"outer\")"
   ]
  },
  {
   "cell_type": "markdown",
   "id": "d5520b05-0d39-42fc-8f53-6194f7bd317b",
   "metadata": {},
   "source": [
    "### OECD regional data\n",
    "\n",
    "Among the relevant countries and regions we want to observe, only the five French overseas departments (Martinique, Mayotte, Guadeloupe, French Guiana, and La Réunion) are available in OECD regional data."
   ]
  },
  {
   "cell_type": "code",
   "execution_count": 14,
   "id": "650a51ae-4718-4e2a-a73a-c234fefec31a",
   "metadata": {},
   "outputs": [],
   "source": [
    "regpop = pd.read_csv(\n",
    "    sset.DIR_OECD_REGIONS_RAW / \"REGION_DEMOGR.csv\",\n",
    "    usecols=[\n",
    "        \"Territory Level and Typology\",\n",
    "        \"TIME\",\n",
    "        \"VAR\",\n",
    "        \"Gender\",\n",
    "        \"Value\",\n",
    "        \"Region\",\n",
    "    ],\n",
    ").rename(\n",
    "    columns={\n",
    "        \"Territory Level and Typology\": \"terrtype\",\n",
    "        \"TIME\": \"year\",\n",
    "        \"Value\": \"oecd_pop\",\n",
    "        \"Region\": \"ccode\",\n",
    "    }\n",
    ")"
   ]
  },
  {
   "cell_type": "code",
   "execution_count": 15,
   "id": "3b06a0e9-9e57-434c-acff-29fdf000288a",
   "metadata": {},
   "outputs": [],
   "source": [
    "# mapping region names and ISO codes\n",
    "fra_regions = [\n",
    "    \"France\",\n",
    "    \"Martinique\",\n",
    "    \"Mayotte\",\n",
    "    \"Guadeloupe\",\n",
    "    \"French Guiana\",\n",
    "    \"La Réunion\",\n",
    "]\n",
    "fra_isos = [sset.FRA_OVERSEAS_DEPT, \"MTQ\", \"MYT\", \"GLP\", \"GUF\", \"REU\"]\n",
    "fra_map = pd.Series(fra_isos, index=pd.Index(fra_regions, name=\"Region\"), name=\"ccode\")\n",
    "\n",
    "# reading in the OECD data for population and gdp\n",
    "regpop = (\n",
    "    pd.read_csv(\n",
    "        sset.DIR_OECD_REGIONS_RAW / \"REGION_DEMOGR.csv\",\n",
    "        usecols=[\n",
    "            \"Territory Level and Typology\",\n",
    "            \"TIME\",\n",
    "            \"VAR\",\n",
    "            \"Gender\",\n",
    "            \"Value\",\n",
    "            \"Region\",\n",
    "        ],\n",
    "    )\n",
    "    .rename(\n",
    "        columns={\n",
    "            \"Territory Level and Typology\": \"terrtype\",\n",
    "            \"TIME\": \"year\",\n",
    "            \"Value\": \"oecd_pop\",\n",
    "            \"Region\": \"ccode\",\n",
    "        }\n",
    "    )\n",
    "    .replace({\"ccode\": fra_map})\n",
    ")\n",
    "regpop = (\n",
    "    regpop.loc[\n",
    "        regpop.VAR.eq(\"T\")\n",
    "        & regpop.Gender.eq(\"Total\")\n",
    "        & regpop.ccode.isin(fra_map.values),\n",
    "        [\"ccode\", \"year\", \"oecd_pop\"],\n",
    "    ]\n",
    "    .set_index([\"ccode\", \"year\"])\n",
    "    .oecd_pop\n",
    ")\n",
    "\n",
    "regecon = (\n",
    "    pd.read_csv(\n",
    "        sset.DIR_OECD_REGIONS_RAW / \"REGION_ECONOM.csv\",\n",
    "        usecols=[\n",
    "            \"Territory Level and Typology\",\n",
    "            \"TIME\",\n",
    "            \"MEAS\",\n",
    "            \"Value\",\n",
    "            \"Region\",\n",
    "        ],\n",
    "    )\n",
    "    .rename(\n",
    "        columns={\n",
    "            \"Territory Level and Typology\": \"terrtype\",\n",
    "            \"TIME\": \"year\",\n",
    "            \"Region\": \"ccode\",\n",
    "        }\n",
    "    )\n",
    "    .replace({\"ccode\": fra_map})\n",
    ")\n",
    "regecon = [\n",
    "    (\n",
    "        regecon.loc[\n",
    "            regecon.MEAS.eq(k) & regecon.ccode.isin(fra_map.values),\n",
    "            [\"ccode\", \"year\", \"Value\"],\n",
    "        ]\n",
    "        .set_index([\"ccode\", \"year\"])\n",
    "        .Value.rename(v)\n",
    "    )\n",
    "    * mult\n",
    "    for k, v, mult in [\n",
    "        (\"USD_PPP\", \"oecd_rgdpna\", 1e6),\n",
    "        (\"PC_USD_PPP\", \"oecd_rgdpna_pc\", 1),\n",
    "    ]\n",
    "]\n",
    "fra_detect = regpop.to_frame().join(regecon, how=\"outer\")"
   ]
  },
  {
   "cell_type": "code",
   "execution_count": 16,
   "id": "bbaea152-6b92-4691-92af-3189a052594d",
   "metadata": {},
   "outputs": [],
   "source": [
    "gdp_pop_df = gdp_pop_df.join(fra_detect, how=\"outer\")"
   ]
  },
  {
   "cell_type": "markdown",
   "id": "41c7aa03-2b63-4e5a-ab00-98ebafaf68b3",
   "metadata": {},
   "source": [
    "### CIA World Factbook\n",
    "\n",
    "CIA information has been pre-cleaned to be in 2017 PPP USD, part of which has used some extrapolation for PPP conversion rates."
   ]
  },
  {
   "cell_type": "code",
   "execution_count": 17,
   "id": "fbcf73a9-6ac9-47f5-929a-d24b1c3e4b0e",
   "metadata": {},
   "outputs": [],
   "source": [
    "cia = (\n",
    "    pd.read_parquet(\n",
    "        sset.PATH_CIA_INT,\n",
    "        filters=[CCODE_FILTER],\n",
    "        columns=[\"rgdpna_17\", \"rgdpna_pc_17\", \"pop\"],\n",
    "    )\n",
    "    .rename(\n",
    "        columns={\n",
    "            \"rgdpna_17\": \"cia_rgdpna\",\n",
    "            \"rgdpna_pc_17\": \"cia_rgdpna_pc\",\n",
    "            \"pop\": \"cia_pop\",\n",
    "        }\n",
    "    )\n",
    "    .sort_index()\n",
    "    .dropna(how=\"all\")\n",
    ")\n",
    "cia = cia[(cia.cia_pop != 0) | (cia.cia_pop.isnull())]\n",
    "\n",
    "assert len(check_missing_isos(cia)) == 0"
   ]
  },
  {
   "cell_type": "code",
   "execution_count": 18,
   "id": "2442891d-5540-40b4-bf69-2d5ddd8a3c79",
   "metadata": {},
   "outputs": [],
   "source": [
    "gdp_pop_df = gdp_pop_df.join(cia, how=\"outer\")"
   ]
  },
  {
   "cell_type": "markdown",
   "id": "cfe7cdaf-068b-462c-9941-4dd265630f25",
   "metadata": {},
   "source": [
    "### UN SNA AMA information"
   ]
  },
  {
   "cell_type": "code",
   "execution_count": 19,
   "id": "f5c6a8c7-0c3f-41d9-8769-c8972af150e5",
   "metadata": {},
   "outputs": [],
   "source": [
    "un_nom_y = (\n",
    "    pd.read_parquet(sset.PATH_UN_AMA_INT, columns=[\"gdppc_nom_current\", \"ccode\"])\n",
    "    .dropna(subset=\"ccode\")\n",
    "    .reset_index()\n",
    "    .set_index([\"ccode\", \"year\"])\n",
    "    .gdppc_nom_current.rename(\"un_gdppc_nom\")\n",
    ")\n",
    "assert len(check_missing_isos(un_nom_y)) == 0\n",
    "gdp_pop_df = gdp_pop_df.join(un_nom_y, how=\"outer\")"
   ]
  },
  {
   "cell_type": "markdown",
   "id": "3378d47a-4c28-4be3-a3bb-e68813f8855d",
   "metadata": {},
   "source": [
    "### Information from various disaggregated sources, for smaller regions, territories and countries\n",
    "\n",
    "This includes national account reports and approximations from organizational reports or academic papers. We use the dataset that has been pre-cleaned in the notebook `ypk1_prep_clean.ipynb`."
   ]
  },
  {
   "cell_type": "code",
   "execution_count": 20,
   "id": "2d436be8-4775-4204-83f0-7d44fd1f1c49",
   "metadata": {},
   "outputs": [],
   "source": [
    "various_sources = pd.read_parquet(sset.PATH_INC_POP_AUX)\n",
    "gdp_pop_df = gdp_pop_df.join(various_sources, how=\"outer\")"
   ]
  },
  {
   "cell_type": "markdown",
   "id": "d6f8058b-f7f7-4ff8-8ae0-51166566dbce",
   "metadata": {
    "tags": []
   },
   "source": [
    "### Uninhabited areas (no population and no economic activity)\n",
    "\n",
    "These are: the French Southern and Antarctic Lands (`ATF`), Bouvet Island (`BVT`), Clipperton Island (`XCL`), Heard and McDonald Islands (`HMD`), and South Georgia and the South Sandwich Islands (`SGS`). Also, `UMI` is uninhabited post-2000.\n",
    "- `ATF`: According to the CIA World Factbook website (link [here](https://www.cia.gov/the-world-factbook/countries/french-southern-and-antarctic-lands/)), `ATF` does not have permanent population and therefore we will record this as having no population and no economic activity.\n",
    "- `BVT`: uninhabited to protect nature reserve\n",
    "- `XCL`: is an atoll with no permanent inhabitants since 1945.\n",
    "- `HMD`: is an Australian external territory near Antarctica.\n",
    "- `SGS`: is uninhabited\n",
    "- `XSP`: Spratly Islands\n",
    "- `UMI`: has some population up to 2000, but post-2000, has no indigenous population or is generally uninhabited."
   ]
  },
  {
   "cell_type": "code",
   "execution_count": 21,
   "id": "0c6d7863-b1bb-4a54-bd3d-23f63f21c1c3",
   "metadata": {},
   "outputs": [],
   "source": [
    "# assigning 0 population and 0 GDP\n",
    "atf_pop = (\n",
    "    (gdp_pop_df.loc[pd.IndexSlice[\"FRA\", 1950:], \"pop\"].copy() * np.nan)\n",
    "    .rename(\"noecon_pop\")\n",
    "    .reset_index()\n",
    ")\n",
    "atf_pop[\"ccode\"], atf_pop[\"atf_pop\"] = \"ATF\", 0\n",
    "atf_pop.set_index([\"ccode\", \"year\"], inplace=True)\n",
    "atf_gdp = atf_pop.copy().rename(columns={\"noecon_pop\": \"noecon_rgdpna\"})\n",
    "atf_pop, atf_gdp = atf_pop.noecon_pop, atf_gdp.noecon_rgdpna\n",
    "\n",
    "# merging all\n",
    "gdp_pop_df = gdp_pop_df.join(atf_pop, how=\"outer\")\n",
    "gdp_pop_df = gdp_pop_df.join(atf_gdp, how=\"outer\")\n",
    "\n",
    "# Attaching the other uninhabited areas' information\n",
    "for i in np.setdiff1d(sset.UNINHABITED_ISOS, [\"ATF\", \"UMI\"]):\n",
    "    i_df = gdp_pop_df.loc[([\"ATF\"], slice(None)), :].reset_index()\n",
    "    i_df[\"ccode\"] = i\n",
    "    i_df.set_index([\"ccode\", \"year\"], inplace=True)\n",
    "    gdp_pop_df = pd.concat([gdp_pop_df, i_df], axis=0)\n",
    "\n",
    "# UMI, 2001-2020\n",
    "other_umi = pd.DataFrame(\n",
    "    {\"noecon_pop\": 0, \"noecon_rgdpna\": 0},\n",
    "    index=pd.MultiIndex.from_product(\n",
    "        ([\"UMI\"], np.arange(2001, gdp_pop_df.index.get_level_values(\"year\").max() + 1)),\n",
    "        names=[\"ccode\", \"year\"],\n",
    "    ),\n",
    ")\n",
    "gdp_pop_df = pd.concat((gdp_pop_df, other_umi))"
   ]
  },
  {
   "cell_type": "markdown",
   "id": "6e03a7c0-1784-4e5c-ac8a-2ff044a4080c",
   "metadata": {},
   "source": [
    "### Exporting the intermediate result"
   ]
  },
  {
   "cell_type": "code",
   "execution_count": 22,
   "id": "50d45ed1-e7ce-4e1f-9cf9-d3e0fe88d658",
   "metadata": {},
   "outputs": [],
   "source": [
    "assert gdp_pop_df.index.is_unique\n",
    "gdp_pop_df = gdp_pop_df.sort_index()"
   ]
  },
  {
   "cell_type": "code",
   "execution_count": 23,
   "id": "e77e0021-692c-4153-ab55-a3bc436ec854",
   "metadata": {},
   "outputs": [],
   "source": [
    "save(gdp_pop_df, sset.PATH_INC_POP_AGG)"
   ]
  },
  {
   "cell_type": "markdown",
   "id": "dcb4943f-644a-4e9d-a5b7-8c028affb696",
   "metadata": {},
   "source": [
    "## Historical population (2000-2020), creating a single sequence"
   ]
  },
  {
   "cell_type": "markdown",
   "id": "6888f46d-506b-4525-8613-8bcec670d0dd",
   "metadata": {
    "tags": []
   },
   "source": [
    "### Re-reading in aggregated sources population and GDP data, in case necessary"
   ]
  },
  {
   "cell_type": "code",
   "execution_count": 24,
   "id": "057e3dc2-ffe2-4b05-93e6-43ea8a0b7f7c",
   "metadata": {},
   "outputs": [],
   "source": [
    "gdp_pop_df = pd.read_parquet(sset.PATH_INC_POP_AGG)"
   ]
  },
  {
   "cell_type": "markdown",
   "id": "1b5e4e00-8d39-4053-b6ad-b0bd615264e1",
   "metadata": {},
   "source": [
    "### Splitting out population data"
   ]
  },
  {
   "cell_type": "code",
   "execution_count": 25,
   "id": "f08820b1-7850-4980-b17a-2fca5419f620",
   "metadata": {},
   "outputs": [],
   "source": [
    "popraw_df = gdp_pop_df.filter(like=\"pop\", axis=\"columns\").dropna(how=\"all\")\n",
    "\n",
    "# Fill in PWT 2020 using growth rates from UN\n",
    "for aux_src, aux_trg in [\n",
    "    (\"ggy_gov\", \"un_pop\"),\n",
    "    (\"aland\", \"un_pop\"),\n",
    "    (\"un\", \"pop\"),\n",
    "    (\"imf\", \"pop\"),\n",
    "]:\n",
    "    estimated_2020 = (\n",
    "        popraw_df.loc[(slice(None), 2019), aux_trg].droplevel(\"year\")\n",
    "        * popraw_df.loc[(slice(None), slice(2020, None)), f\"{aux_src}_pop\"]\n",
    "        / popraw_df.loc[(slice(None), 2019), f\"{aux_src}_pop\"].droplevel(\"year\")\n",
    "    ).rename(aux_trg)\n",
    "    popraw_df[aux_trg] = popraw_df[aux_trg].fillna(estimated_2020)\n",
    "popraw_df = popraw_df.sort_index()"
   ]
  },
  {
   "cell_type": "markdown",
   "id": "5dc35a59-965b-45c9-98cc-355ce1b0f8d0",
   "metadata": {},
   "source": [
    "### Helper funcs"
   ]
  },
  {
   "cell_type": "code",
   "execution_count": 26,
   "id": "0a4b686f-7f4a-458c-a825-32a78250f3c9",
   "metadata": {},
   "outputs": [],
   "source": [
    "def get_iso_pop(ccode, trg_yrs=sset.HISTORICAL_YEARS):\n",
    "    out = popraw_df.loc[(ccode, trg_yrs), [\"pop\"]]\n",
    "    out[\"pop_source\"] = \"PWT\"\n",
    "    out.loc[(ccode, 2020), \"pop_source\"] = \"PWT_ratio_UN\"\n",
    "    return out\n",
    "\n",
    "\n",
    "def interp_extrap_terr(\n",
    "    iso, parent, pop_name, pop_source, trg_yrs=sset.HISTORICAL_YEARS\n",
    "):\n",
    "    df = popraw_df.loc[iso, [pop_name]].rename(columns={pop_name: \"pop\"})\n",
    "\n",
    "    cen_yrs = df.index.values\n",
    "\n",
    "    # interpolate\n",
    "    out = np.exp(\n",
    "        np.log(df.reindex(range(df.index.min(), df.index.max() + 1))).interpolate(\n",
    "            \"index\"\n",
    "        )\n",
    "    )\n",
    "\n",
    "    out[\"pop_source\"] = \"interp\"\n",
    "    out.loc[cen_yrs, \"pop_source\"] = pop_source\n",
    "\n",
    "    # country-territory ratios for extrapolation\n",
    "    ratio = (\n",
    "        out.loc[cen_yrs, \"pop\"]\n",
    "        / popraw_df.loc[(parent, cen_yrs), \"pop\"].droplevel(\"ccode\")\n",
    "    ).rename(\"ratio\")\n",
    "\n",
    "    extrapolated = pd.merge_asof(\n",
    "        popraw_df.loc[(parent, trg_yrs), \"pop\"].droplevel(\"ccode\"),\n",
    "        ratio,\n",
    "        left_index=True,\n",
    "        right_index=True,\n",
    "        direction=\"nearest\",\n",
    "    ).product(axis=1)\n",
    "    return (\n",
    "        out.reindex(extrapolated.index)\n",
    "        .fillna(\n",
    "            extrapolated.to_frame(\"pop\").assign(\n",
    "                pop_source=f\"PWT_{parent}_ratio_{pop_source}_{iso}\"\n",
    "            )\n",
    "        )\n",
    "        .reset_index()\n",
    "        .assign(ccode=iso)\n",
    "        .set_index([\"ccode\", \"year\"])\n",
    "    )"
   ]
  },
  {
   "cell_type": "markdown",
   "id": "9e3dd247-82b7-46fb-9d00-220676c5db99",
   "metadata": {},
   "source": [
    "### Cleaning country-specific cases"
   ]
  },
  {
   "cell_type": "markdown",
   "id": "e2b5663d-f622-4981-969d-ab1e7a7b8c40",
   "metadata": {},
   "source": [
    "#### Australia (`AUS`) and its territories\n",
    "\n",
    "- Mainland Australia (`AUS`): use PWT 10.0 (2000-2019) and UN growth rates (2019-2000)\n",
    "- External Territories: Use CIA WFB and interpolate/extrapolate using growth rates from mainland AUS"
   ]
  },
  {
   "cell_type": "code",
   "execution_count": 27,
   "id": "550d11ab-8f09-4736-8af9-0b0a871bc1f7",
   "metadata": {},
   "outputs": [],
   "source": [
    "pop_cleaned = pd.concat(\n",
    "    [get_iso_pop(\"AUS\")]\n",
    "    + [\n",
    "        interp_extrap_terr(ccode, \"AUS\", \"cia_pop\", \"CIA\")\n",
    "        for ccode in [\"CCK\", \"CXR\", \"NFK\"]\n",
    "    ]\n",
    ").sort_index()"
   ]
  },
  {
   "cell_type": "markdown",
   "id": "3520569d-2414-4167-84d1-29b3eb357f4d",
   "metadata": {},
   "source": [
    "#### Cyprus (`CYP`) and Northern Cyprus (`ZNC`)\n",
    "\n",
    "- `CYP`: use PWT 10.0 (2000-2019) and IMF growth rates (2019-2020)\n",
    "- `ZNC`: use UN population, which has `CYP+ZNC` information, then subtract `CYP` from these values"
   ]
  },
  {
   "cell_type": "code",
   "execution_count": 28,
   "id": "44033f89-8564-40a1-adcb-9743ef321f1a",
   "metadata": {},
   "outputs": [],
   "source": [
    "cyp_pop = popraw_df.loc[[\"CYP\"], [\"pop\"]]\n",
    "cyp_pop[\"pop_source\"] = \"PWT\"\n",
    "cyp_pop.loc[(\"CYP\", 2020), \"pop_source\"] = \"PWT + IMF_gr\"\n",
    "\n",
    "XNC_pop = (\n",
    "    (\n",
    "        popraw_df.loc[\"CYP+ZNC\", \"un_pop\"].reindex(\n",
    "            index=cyp_pop.droplevel(\"ccode\").index\n",
    "        )\n",
    "        - cyp_pop[\"pop\"].droplevel(\"ccode\")\n",
    "    )\n",
    "    .to_frame(name=\"pop\")\n",
    "    .assign(ccode=\"ZNC\")\n",
    "    .reset_index()\n",
    "    .set_index([\"ccode\", \"year\"])\n",
    ")\n",
    "XNC_pop[\"pop_source\"] = \"UN:CYP+ZNC + PWT:CYP_subtract\"\n",
    "XNC_pop.loc[(\"ZNC\", 2020), \"pop_source\"] = \"UN:CYP+ZNC + PWT+IMF_gr:CYP_subtract\""
   ]
  },
  {
   "cell_type": "code",
   "execution_count": 29,
   "id": "f721055c-2a06-4b75-b903-2020fad07363",
   "metadata": {},
   "outputs": [],
   "source": [
    "pop_cleaned = pd.concat([pop_cleaned, cyp_pop, XNC_pop])"
   ]
  },
  {
   "cell_type": "markdown",
   "id": "74e133cc-a675-44b7-ab26-b7473fe54f76",
   "metadata": {},
   "source": [
    "#### Danish and Finnish territories\n",
    "\n",
    "Mainland Denmark (`DNK`) and Finland (`FIN`) will be added later.\n",
    "\n",
    "- Danish territories (`FRO`, `GRL`): use UN population (2000-2020)\n",
    "- Aland (`ALA`, Finnish): use information from Åland Statistics"
   ]
  },
  {
   "cell_type": "code",
   "execution_count": 30,
   "id": "630a6f53-016c-412e-879c-a88ba91e538d",
   "metadata": {},
   "outputs": [],
   "source": [
    "# FRO and GRL\n",
    "fro_grl_pop = popraw_df.loc[[\"FRO\", \"GRL\"], [\"un_pop\"]].rename(\n",
    "    columns={\"un_pop\": \"pop\"}\n",
    ")\n",
    "fro_grl_pop[\"pop_source\"] = \"UN\"\n",
    "\n",
    "# Aland\n",
    "ala_pop = popraw_df.loc[[\"ALA\"], [\"aland_pop\"]].rename(columns={\"aland_pop\": \"pop\"})\n",
    "ala_pop[\"pop_source\"] = \"ALA-GOV\""
   ]
  },
  {
   "cell_type": "code",
   "execution_count": 31,
   "id": "b9a29fd4-e564-4b68-b130-da3b4c7d553f",
   "metadata": {},
   "outputs": [],
   "source": [
    "pop_cleaned = pd.concat([pop_cleaned, fro_grl_pop, ala_pop])"
   ]
  },
  {
   "cell_type": "markdown",
   "id": "60c59b88-5004-4ae3-af0e-494577210de0",
   "metadata": {},
   "source": [
    "#### France (`FRA`) and its territories \n",
    "\n",
    "We use UN population as its `FRA` information does not include the Overseas Departments.\n",
    "- Mainland France: `FRA`\n",
    "- Overseas Departments: `GLP`, `GUF`, `MTQ`, `MYT`, `REU`\n",
    "- Overseas Collectivities: `PYF`, `BLM`, `SPM`, `MAF`, `WLF`\n",
    "- Other: `NCL`"
   ]
  },
  {
   "cell_type": "code",
   "execution_count": 32,
   "id": "91918cb6-f707-4e96-96a5-883124d39615",
   "metadata": {
    "tags": []
   },
   "outputs": [],
   "source": [
    "fra_ov_dept = [\"GLP\", \"GUF\", \"MTQ\", \"MYT\", \"REU\"]\n",
    "fra_coll_other = [\"PYF\", \"BLM\", \"SPM\", \"MAF\", \"WLF\", \"NCL\"]\n",
    "fra_df = popraw_df.loc[[\"FRA\"] + fra_ov_dept + fra_coll_other, [\"un_pop\"]].rename(\n",
    "    columns={\"un_pop\": \"pop\"}\n",
    ")\n",
    "fra_df[\"pop_source\"] = \"UN\""
   ]
  },
  {
   "cell_type": "code",
   "execution_count": 33,
   "id": "e67e1cbb-c688-4ba7-b5f0-e192f6ff240d",
   "metadata": {},
   "outputs": [],
   "source": [
    "pop_cleaned = pd.concat([pop_cleaned, fra_df])"
   ]
  },
  {
   "cell_type": "markdown",
   "id": "60e25f22-59d5-4ce0-a6ff-df098c78e7dd",
   "metadata": {},
   "source": [
    "#### British territories\n",
    "\n",
    "Mainland UK (`GBR`) will be added later.\n",
    "\n",
    "These include:\n",
    "- Overseas Territories\n",
    "  - `PCN`, `IOT`: use CIA WFB, interpolating when necessary\n",
    "  - `AIA`, `BMU`, `VGB`, `CYM`, `FLK`, `GIB`, `MSR`, `SHN`, `TCA`: use UN information\n",
    "- Crown dependencies:\n",
    "  - `GGY`: use information from the Government of Guernsey, interpolating when necessary\n",
    "  - `JEY`: use information from the Government of Jersey, but for 2020 population use the 2018-2020 growth rate from CIA\n",
    "  - `IMN`: use UN information"
   ]
  },
  {
   "cell_type": "code",
   "execution_count": 34,
   "id": "59432801-ae27-4d81-9074-01c473c63226",
   "metadata": {},
   "outputs": [],
   "source": [
    "# IMN and other overseas territories\n",
    "gbr_ov_terr = [\"AIA\", \"BMU\", \"VGB\", \"CYM\", \"FLK\", \"GIB\", \"MSR\", \"SHN\", \"TCA\"]\n",
    "gbr_imn_ov_terr_pop = popraw_df.loc[gbr_ov_terr + [\"IMN\"], [\"un_pop\"]].rename(\n",
    "    columns={\"un_pop\": \"pop\"}\n",
    ")\n",
    "gbr_imn_ov_terr_pop[\"pop_source\"] = \"UN\"\n",
    "\n",
    "# PCN and IOT\n",
    "arr = popraw_df.loc[[\"PCN\", \"IOT\"], \"cia_pop\"].to_xarray()\n",
    "arr = arr.reindex(year=np.arange(arr.year.min(), arr.year.max() + 1))\n",
    "\n",
    "pcniot_pop = (\n",
    "    (\n",
    "        np.exp(\n",
    "            np.log(arr)\n",
    "            .interpolate_na(dim=\"year\")\n",
    "            .rename(\"pop\")\n",
    "            .sel(year=sset.HISTORICAL_YEARS)\n",
    "        )\n",
    "    )\n",
    "    .to_series()\n",
    "    .to_frame()\n",
    "    .assign(pop_source=\"CIA\")\n",
    ")\n",
    "pcniot_pop.loc[pcniot_pop.index.isin(popraw_df.index), \"pop_source\"] = \"CIA_interp\"\n",
    "\n",
    "# GGY\n",
    "ggy_pop = popraw_df.loc[[\"GGY\"], [\"un_pop\"]].rename(columns={\"un_pop\": \"pop\"})\n",
    "ggy_pop[\"pop_source\"] = \"UN\"\n",
    "ggy_pop.loc[(\"GGY\", 2020), \"pop_source\"] = \"UN + GGY-GOV_gr\"\n",
    "\n",
    "# JEY\n",
    "jey_pop = popraw_df.loc[[\"JEY\"], [\"un_pop\"]].rename(columns={\"un_pop\": \"pop\"})\n",
    "jey_pop[\"pop_source\"] = \"UN\""
   ]
  },
  {
   "cell_type": "code",
   "execution_count": 35,
   "id": "67eec94f-79a9-41ac-8a77-e35521aaae1d",
   "metadata": {},
   "outputs": [],
   "source": [
    "pop_cleaned = pd.concat(\n",
    "    [\n",
    "        pop_cleaned,\n",
    "        gbr_imn_ov_terr_pop,\n",
    "        pcniot_pop,\n",
    "        ggy_pop,\n",
    "        jey_pop,\n",
    "    ]\n",
    ")"
   ]
  },
  {
   "cell_type": "markdown",
   "id": "15d5a5dc-ce27-4e6f-9b14-56601a41a11a",
   "metadata": {},
   "source": [
    "#### New Zealand territories\n",
    "\n",
    "Mainland New Zealand (`NZL`) will be added later.\n",
    "- External territories (`TKL`, `NIU`, `COK`): use UN information (2000-2020)"
   ]
  },
  {
   "cell_type": "code",
   "execution_count": 36,
   "id": "72608089-30fc-49cb-a988-a6f7e72ee479",
   "metadata": {},
   "outputs": [],
   "source": [
    "# TKL, NIU, COK\n",
    "tkl_niu_cok = popraw_df.loc[[\"TKL\", \"NIU\", \"COK\"], [\"un_pop\"]].rename(\n",
    "    columns={\"un_pop\": \"pop\"}\n",
    ")\n",
    "tkl_niu_cok[\"pop_source\"] = \"UN\""
   ]
  },
  {
   "cell_type": "code",
   "execution_count": 37,
   "id": "ae94ca82-dadf-4e19-98f2-8a053b90a32a",
   "metadata": {},
   "outputs": [],
   "source": [
    "pop_cleaned = pd.concat([pop_cleaned, tkl_niu_cok])"
   ]
  },
  {
   "cell_type": "markdown",
   "id": "53f83217-3678-4a1b-9732-d32b16bd74ac",
   "metadata": {},
   "source": [
    "#### Norway (`NOR`) and its territories\n",
    "\n",
    "Mainland Norway (`NOR`) will be added later.\n",
    "\n",
    "- `SJM`: use Statistics Norway information (2010-2020), and use growth rates from CIA WFB (2000-2009)"
   ]
  },
  {
   "cell_type": "code",
   "execution_count": 38,
   "id": "323ac4a5-0063-4265-a367-8e0c43a32af6",
   "metadata": {},
   "outputs": [],
   "source": [
    "sjm_pop = gdp_pop_df.loc[\"SJM\", \"stat_nor_pop\"]\n",
    "st_year = sjm_pop.dropna().index.min()\n",
    "sjm_pop_alt = popraw_df.loc[\"SJM\", \"cia_pop\"]\n",
    "sjm_pop = sjm_pop.fillna(sjm_pop_alt * sjm_pop[st_year] / sjm_pop_alt[st_year])\n",
    "sjm_pop = sjm_pop.reset_index().assign(ccode=\"SJM\").set_index([\"ccode\", \"year\"])\n",
    "sjm_pop[\"pop_source\"] = \"NOR-GOV\"\n",
    "sjm_pop[\"pop_source\"] = sjm_pop.pop_source.where(\n",
    "    popraw_df.loc[[\"SJM\"], \"stat_nor_pop\"].notnull(), \"NOR-GOV + CIA_gr\"\n",
    ")\n",
    "sjm_pop = sjm_pop.rename(columns={\"stat_nor_pop\": \"pop\"})"
   ]
  },
  {
   "cell_type": "code",
   "execution_count": 39,
   "id": "993ba79e-474c-4a06-9ea0-e2fb4fa56297",
   "metadata": {},
   "outputs": [],
   "source": [
    "pop_cleaned = pd.concat([pop_cleaned, sjm_pop])"
   ]
  },
  {
   "cell_type": "markdown",
   "id": "9abe54c5-333f-4829-a532-1cfe23af1a91",
   "metadata": {},
   "source": [
    "#### Serbia (`SRB`) and Kosovo (`XKO`)\n",
    "\n",
    "- `XKO`: use WB WDI population\n",
    "- `SRB`: use PWT population"
   ]
  },
  {
   "cell_type": "code",
   "execution_count": 40,
   "id": "85714f25-7cb4-416a-83fe-706dc2c60f0d",
   "metadata": {},
   "outputs": [],
   "source": [
    "# XKO\n",
    "ko_pop = popraw_df.loc[[\"XKO\"], \"wb_pop\"].rename(\"pop\").to_frame()\n",
    "ko_pop[\"pop_source\"] = \"WB\"\n",
    "\n",
    "# creating alternative SRB\n",
    "srb_pop = popraw_df.loc[[\"SRB\"], [\"pop\"]]\n",
    "srb_pop[\"pop_source\"] = \"PWT\"\n",
    "srb_pop.loc[(\"SRB\", 2020), \"pop_source\"] = \"PWT + IMF_gr\""
   ]
  },
  {
   "cell_type": "code",
   "execution_count": 41,
   "id": "bda934f0-8326-463f-842a-981be0a76a4a",
   "metadata": {},
   "outputs": [],
   "source": [
    "pop_cleaned = pd.concat([pop_cleaned, ko_pop, srb_pop])"
   ]
  },
  {
   "cell_type": "markdown",
   "id": "cc1c58ed-e04b-43df-a8ad-976c3e4c8e06",
   "metadata": {},
   "source": [
    "#### Paracel Islands\n",
    "\n",
    "Use China growth to extrapolate single population estimate (2014) from CIA WFB"
   ]
  },
  {
   "cell_type": "code",
   "execution_count": 42,
   "id": "6b337c00-72ab-428c-94ad-cbdf5f06564c",
   "metadata": {},
   "outputs": [],
   "source": [
    "pop_cleaned = pd.concat(\n",
    "    (pop_cleaned, interp_extrap_terr(\"XPI\", \"CHN\", \"cia_pop\", \"CIA\"))\n",
    ")"
   ]
  },
  {
   "cell_type": "markdown",
   "id": "f2eb420b-6716-48ba-a2c6-77cacc915170",
   "metadata": {},
   "source": [
    "#### Akrotiri and Dhekelia"
   ]
  },
  {
   "cell_type": "code",
   "execution_count": 43,
   "id": "28f9eea4-d939-4be2-8b8f-b99ac554654d",
   "metadata": {},
   "outputs": [],
   "source": [
    "pop_cleaned = pd.concat(\n",
    "    (pop_cleaned, interp_extrap_terr(\"XAD\", \"CYP\", \"cia_pop\", \"CIA\"))\n",
    ")"
   ]
  },
  {
   "cell_type": "markdown",
   "id": "d74420ba-fa82-4a27-84a9-eb556a1ac6a8",
   "metadata": {},
   "source": [
    "#### United States territories\n",
    "\n",
    "It seems that there is some arbitrariness when it comes to including territories or excluding them, when calculating for the population (even within the same dataset, it is unclear whether the population for some year includes or excludes the territories). We will take the PWT10.0 population as the U.S. population without the territories and use UN growth rate when necessary; this will be added later.\n",
    "\n",
    "US territories considered are:\n",
    "- `UMI`: use US Census information for 2000, but will record as uninhabited otherwise\n",
    "- `PRI`, `VIR`, `GUM`, `ASM`, `MNP`: use UN information"
   ]
  },
  {
   "cell_type": "code",
   "execution_count": 44,
   "id": "9998c342-e835-47c3-9b78-4122c759e7f8",
   "metadata": {},
   "outputs": [],
   "source": [
    "# UMI\n",
    "umi_df = (\n",
    "    popraw_df.loc[[\"UMI\"], \"noecon_pop\"]\n",
    "    .fillna(popraw_df.loc[[\"UMI\"], \"us_census_pop\"])\n",
    "    .rename(\"pop\")\n",
    "    .to_frame()\n",
    ")\n",
    "umi_df[\"pop_source\"] = \"uninhabited\"\n",
    "umi_df.loc[(slice(None), slice(None, 2000)), \"pop_source\"] = \"USA-GOV\"\n",
    "\n",
    "# PRI, VIR, GUM, ASM, MNP\n",
    "us_terr_df = (\n",
    "    popraw_df.loc[[\"PRI\", \"VIR\", \"GUM\", \"ASM\", \"MNP\"], [\"un_pop\"]]\n",
    "    .dropna()\n",
    "    .rename(columns={\"un_pop\": \"pop\"})\n",
    ")\n",
    "us_terr_df[\"pop_source\"] = \"UN\""
   ]
  },
  {
   "cell_type": "code",
   "execution_count": 45,
   "id": "6f911fa3-97c4-4f23-a7f0-f8e18b707294",
   "metadata": {},
   "outputs": [],
   "source": [
    "pop_cleaned = pd.concat([pop_cleaned, umi_df, us_terr_df], axis=0)"
   ]
  },
  {
   "cell_type": "markdown",
   "id": "d9c12655-5c83-4a6b-be34-f6a627260b7a",
   "metadata": {},
   "source": [
    "#### Vatican"
   ]
  },
  {
   "cell_type": "code",
   "execution_count": 46,
   "id": "55855518-29d5-4309-b283-bc290272a2fa",
   "metadata": {},
   "outputs": [],
   "source": [
    "vat_df = (\n",
    "    np.exp(\n",
    "        np.log(popraw_df.loc[\"VAT\", \"cia_pop\"].reindex(sset.HISTORICAL_YEARS))\n",
    "        .interpolate()\n",
    "        .rename(\"pop\")\n",
    "    )\n",
    "    .reset_index()\n",
    "    .assign(ccode=\"VAT\", pop_source=\"CIA\")\n",
    "    .set_index([\"ccode\", \"year\"])\n",
    ")\n",
    "\n",
    "pop_cleaned = pd.concat([pop_cleaned, vat_df])"
   ]
  },
  {
   "cell_type": "markdown",
   "id": "fedd9340-f786-4e66-b63b-54f4098ea24d",
   "metadata": {},
   "source": [
    "#### Uninhabited areas\n",
    "\n",
    "We exclude `UMI` here due to it having some population in 2000."
   ]
  },
  {
   "cell_type": "code",
   "execution_count": 47,
   "id": "326e004f-f5ba-43fe-b450-c50defe3bf4c",
   "metadata": {},
   "outputs": [],
   "source": [
    "pop_cleaned = pd.concat(\n",
    "    [\n",
    "        pop_cleaned,\n",
    "        pd.DataFrame(\n",
    "            index=pd.MultiIndex.from_product(\n",
    "                (np.setdiff1d(sset.UNINHABITED_ISOS, [\"UMI\"]), sset.HISTORICAL_YEARS),\n",
    "                names=[\"ccode\", \"year\"],\n",
    "            )\n",
    "        ).assign(pop=0, pop_source=\"uninhabited\"),\n",
    "    ]\n",
    ")"
   ]
  },
  {
   "cell_type": "markdown",
   "id": "39cbc493-b8d3-4d49-9dcc-caaa602a0c13",
   "metadata": {},
   "source": [
    "### PWT 10.0 population (and using UN growth rates when necessary)"
   ]
  },
  {
   "cell_type": "code",
   "execution_count": 48,
   "id": "98df0a5d-42c2-4bd6-a82c-3810424e69f4",
   "metadata": {},
   "outputs": [],
   "source": [
    "remaining = np.setdiff1d(\n",
    "    pwt100.ccode.unique(), pop_cleaned.index.get_level_values(\"ccode\").unique()\n",
    ")"
   ]
  },
  {
   "cell_type": "code",
   "execution_count": 49,
   "id": "8b04d37d-c3b5-44b0-beab-df63e86aabba",
   "metadata": {},
   "outputs": [],
   "source": [
    "# make sure we're not missing any pop data for an iso\n",
    "assert not remaining[\n",
    "    ~np.isin(remaining, popraw_df.index.get_level_values(\"ccode\").unique())\n",
    "].size\n",
    "\n",
    "# make sure all PWT isos are ones we want\n",
    "assert np.isin(remaining, ALL_ISOS).all()"
   ]
  },
  {
   "cell_type": "code",
   "execution_count": 50,
   "id": "19b9953d-3f4d-46d0-b2ef-d2dcca7e5d7b",
   "metadata": {},
   "outputs": [],
   "source": [
    "# we exclude the country codes that have already been cleaned\n",
    "pwt_pop_clean = xr.Dataset.from_dataframe(\n",
    "    popraw_df.loc[remaining, [\"pop\", \"un_pop\"]]\n",
    ").sortby(\"year\")\n",
    "pwt_pop_clean = ypk_fn.smooth_fill(\n",
    "    pwt_pop_clean[\"pop\"],\n",
    "    pwt_pop_clean[\"un_pop\"],\n",
    "    time_dim=\"year\",\n",
    "    other_dim=\"ccode\",\n",
    ").to_dataframe()\n",
    "pwt_pop_clean[\"pop_source\"] = \"PWT\"\n",
    "pwt_pop_clean = pwt_pop_clean.join(popraw_df[\"pop\"].rename(\"old\"), how=\"left\")\n",
    "pwt_pop_clean.loc[pd.isnull(pwt_pop_clean[\"old\"]), \"pop_source\"] = \"PWT + UN_gr\"\n",
    "pwt_pop_clean = pwt_pop_clean.loc[\n",
    "    (slice(None), sset.HISTORICAL_YEARS), [\"pop\", \"pop_source\"]\n",
    "]"
   ]
  },
  {
   "cell_type": "code",
   "execution_count": 51,
   "id": "38d8779c-711d-42de-b751-e30611d44989",
   "metadata": {},
   "outputs": [],
   "source": [
    "pop_cleaned = pd.concat((pop_cleaned, pwt_pop_clean))"
   ]
  },
  {
   "cell_type": "markdown",
   "id": "ac66aa42-dbdf-48f9-ae6c-b844f5d9d9e7",
   "metadata": {},
   "source": [
    "### UN population, for remaining countries and regions"
   ]
  },
  {
   "cell_type": "code",
   "execution_count": 52,
   "id": "c44ddfa2-18f3-4cec-b61c-0a87c0171ebf",
   "metadata": {},
   "outputs": [],
   "source": [
    "remaining = np.setdiff1d(\n",
    "    FINAL_ISOS,\n",
    "    pop_cleaned.dropna(subset=\"pop\").index.get_level_values(\"ccode\").unique(),\n",
    ")"
   ]
  },
  {
   "cell_type": "code",
   "execution_count": 53,
   "id": "5b6c48de-6b99-4ca5-bf90-21898d4a90db",
   "metadata": {},
   "outputs": [],
   "source": [
    "other_from_un_df = gdp_pop_df.loc[\n",
    "    (remaining, sset.HISTORICAL_YEARS), [\"un_pop\"]\n",
    "].rename(columns={\"un_pop\": \"pop\"})\n",
    "other_from_un_df[\"pop_source\"] = \"UN\"\n",
    "\n",
    "assert other_from_un_df.to_xarray().notnull().all().to_array().all()"
   ]
  },
  {
   "cell_type": "code",
   "execution_count": 54,
   "id": "35957fea-683e-4621-9316-07e206671210",
   "metadata": {},
   "outputs": [],
   "source": [
    "pop_cleaned = pd.concat([pop_cleaned, other_from_un_df])"
   ]
  },
  {
   "cell_type": "code",
   "execution_count": 55,
   "id": "2bf940b7-8618-4290-ac7e-a0742a415de4",
   "metadata": {},
   "outputs": [],
   "source": [
    "pop_cleaned = pop_cleaned.loc[(slice(None), sset.HISTORICAL_YEARS), :]"
   ]
  },
  {
   "cell_type": "code",
   "execution_count": 56,
   "id": "c123851d-bcbc-4fc6-af41-4ac0791471d0",
   "metadata": {},
   "outputs": [],
   "source": [
    "assert pop_cleaned.to_xarray().notnull().all()"
   ]
  },
  {
   "cell_type": "markdown",
   "id": "b3ae9200-8a8f-4bb6-b846-067bd6565e48",
   "metadata": {},
   "source": [
    "### Rounding to ones of people and attaching units"
   ]
  },
  {
   "cell_type": "code",
   "execution_count": 57,
   "id": "d0f201c4-472f-4440-8525-efa1eb574985",
   "metadata": {},
   "outputs": [],
   "source": [
    "pop_cleaned[\"pop\"] = pop_cleaned[\"pop\"].round().astype(int)"
   ]
  },
  {
   "cell_type": "markdown",
   "id": "24062cd2-1c05-41aa-8d1b-db881e32322f",
   "metadata": {},
   "source": [
    "## Historical GDPpc (2000-2020), constant 2017 PPP USD, creating a single sequence\n",
    "\n",
    "We will first work with the constant 2017 PPP USD (i.e., ones with the `rgdpna` in their names), then create current PPP 2017 USD versions appropriately (in accordance with `cgdpo`). We will work with **per capita** GDP when doing any form of extrapolation, whether that is based on growth rates or regression analysis."
   ]
  },
  {
   "cell_type": "markdown",
   "id": "6ebd160e-9e0a-4899-859b-461133f54c16",
   "metadata": {},
   "source": [
    "### Making UN AMA current, non-PPP GDP per capita to constant 2017 USD, non-PPP GDP per capita\n",
    "\n",
    "These values are not directly used, but will useful in acquiring constant PPP-equivalent values later on."
   ]
  },
  {
   "cell_type": "code",
   "execution_count": 58,
   "id": "dd59a0de-ec73-4e02-b7f2-7539cbf65a5b",
   "metadata": {},
   "outputs": [],
   "source": [
    "gdp_pop_df = pd.read_parquet(sset.PATH_INC_POP_AGG)"
   ]
  },
  {
   "cell_type": "code",
   "execution_count": 59,
   "id": "1a77e1f7-c630-44eb-acb6-071c47615804",
   "metadata": {
    "tags": []
   },
   "outputs": [],
   "source": [
    "pl = (\n",
    "    pd.read_excel(sset.PATH_PWT_RAW, usecols=[\"countrycode\", \"year\", \"pl_gdpo\"])\n",
    "    .rename(columns={\"countrycode\": \"ccode\"})\n",
    "    .set_index([\"ccode\", \"year\"])\n",
    "    .pl_gdpo\n",
    ")\n",
    "\n",
    "defla = pd.concat(\n",
    "    [\n",
    "        pl.loc[\"USA\"].reset_index(),\n",
    "        pd.DataFrame(data={\"year\": [2020], \"pl_gdpo\": [pl.loc[\"USA\"].loc[2019]]}),\n",
    "    ],\n",
    "    axis=0,\n",
    ").set_index(\"year\")\n",
    "gdp_pop_df = gdp_pop_df.join(defla, how=\"left\")\n",
    "gdp_pop_df[\"un_gdppc_const\"] = gdp_pop_df.un_gdppc_nom / gdp_pop_df.pl_gdpo"
   ]
  },
  {
   "cell_type": "markdown",
   "id": "85ff6442-0d90-4afd-a472-455ad4d3c8ba",
   "metadata": {
    "tags": []
   },
   "source": [
    "### Using primary sources that are in constant PPP terms\n",
    "\n",
    "#### Starting with PWT 10.0 and filling missing values with Fariss et al. (2022)\n",
    "\n",
    "Note that Fariss et al. (2022) have a variable that we renamed `fariss_rgdpna_pc`, which is imputed per capita `rgdpna` (i.e., `rgdpna` divided by `pop` in PWT 10.0, which we named `rgdpna_pc`)"
   ]
  },
  {
   "cell_type": "code",
   "execution_count": 60,
   "id": "1faa1ac3-101a-4ccb-a9a5-09a4bdff57e7",
   "metadata": {},
   "outputs": [
    {
     "name": "stdout",
     "output_type": "stream",
     "text": [
      "Countries copying information from Fariss et al. are:\n",
      "['AFG' 'AND' 'CUB' 'ERI' 'FSM' 'KIR' 'LBY' 'LIE' 'MCO' 'MHL' 'NRU' 'PLW'\n",
      " 'PNG' 'PRK' 'SLB' 'SMR' 'SOM' 'SSD' 'TLS' 'TON' 'TUV' 'VUT' 'WSM' 'XKO']\n"
     ]
    }
   ],
   "source": [
    "# fetching PWT information\n",
    "y_df = gdp_pop_df.loc[(slice(None), sset.HISTORICAL_YEARS), [\"rgdpna_pc\"]]\n",
    "y_df[\"gdppc_source\"] = \"PWT\"\n",
    "y_df.loc[pd.isnull(y_df.rgdpna_pc), \"gdppc_source\"] = np.nan\n",
    "\n",
    "# attaching Fariss et al. (2022)\n",
    "y_df = ypk_fn.smooth_fill_aux_source(\n",
    "    y_df, gdp_pop_df, \"fariss_rgdpna_pc\", \"FAMB\", \"PWT + FAMB_gr\"\n",
    ")\n",
    "\n",
    "famb_copy = y_df.loc[y_df.gdppc_source == \"FAMB\", :].reset_index().ccode.unique()\n",
    "print(\"Countries copying information from Fariss et al. are:\")\n",
    "print(famb_copy)"
   ]
  },
  {
   "cell_type": "markdown",
   "id": "e388784f-d4b5-46b4-a589-89c024670d1b",
   "metadata": {},
   "source": [
    "#### Attaching WB WDI (PPP terms, not nominal)"
   ]
  },
  {
   "cell_type": "code",
   "execution_count": 61,
   "id": "3d8fffb2-53e1-4137-b6e7-aa32330b6701",
   "metadata": {},
   "outputs": [],
   "source": [
    "y_df = ypk_fn.smooth_fill_aux_source(\n",
    "    y_df, gdp_pop_df, \"wb_rgdpna_pc\", \"WB\", \"PWT/FAMB + WB_gr\"\n",
    ")"
   ]
  },
  {
   "cell_type": "code",
   "execution_count": 62,
   "id": "af85bee5-3a4d-4ff9-aaf1-58608cf7656a",
   "metadata": {},
   "outputs": [],
   "source": [
    "# manually fixing source information\n",
    "y_df.loc[\n",
    "    (y_df.gdppc_source == \"PWT/FAMB + WB_gr\")\n",
    "    & (y_df.index.get_level_values(\"ccode\") == \"CUW\"),\n",
    "    \"gdppc_source\",\n",
    "] = \"PWT + WB_gr\"\n",
    "\n",
    "gr_codes = (\n",
    "    y_df.loc[y_df.gdppc_source == \"PWT/FAMB + WB_gr\", :].reset_index().ccode.unique()\n",
    ")\n",
    "for i in gr_codes:\n",
    "    prev = y_df.loc[(i, 2019), \"gdppc_source\"]\n",
    "    y_df.loc[(i, 2020), \"gdppc_source\"] = y_df.loc[(i, 2020), \"gdppc_source\"].replace(\n",
    "        \"PWT/FAMB\", prev\n",
    "    )"
   ]
  },
  {
   "cell_type": "markdown",
   "id": "ce8b5b97-6cb1-4471-8950-f7dfa6511a6a",
   "metadata": {},
   "source": [
    "#### Attaching MPD\n",
    "\n",
    "We convert constant 2011 PPP USD  values in MPD to constant 2017 PPP USD (using PWT 10.0 information), and apply the neutral assumption when PPP conversion rates are missing.\n",
    "\n",
    "In our workflow, there are no country-years using MPD information directly since all independent countries in MPD have been considered in Fariss et al. (2022), where `rgdpna_pc`-equivalent values can be acquired from."
   ]
  },
  {
   "cell_type": "code",
   "execution_count": 63,
   "id": "63c69a65-e223-42df-9b3d-30ce9da163f8",
   "metadata": {},
   "outputs": [
    {
     "name": "stdout",
     "output_type": "stream",
     "text": [
      "Fetching information from PWT...\n"
     ]
    },
    {
     "data": {
      "application/vnd.jupyter.widget-view+json": {
       "model_id": "5472d1204dd64285802fc7868c87cb64",
       "version_major": 2,
       "version_minor": 0
      },
      "text/plain": [
       "  0%|          | 0/128 [00:00<?, ?it/s]"
      ]
     },
     "metadata": {},
     "output_type": "display_data"
    },
    {
     "name": "stdout",
     "output_type": "stream",
     "text": [
      "Filling in the missing countries...\n",
      "...done\n",
      "Country-years using MPD information directly are 0.\n"
     ]
    }
   ],
   "source": [
    "# from constant 2011 PPP USD ot constant 2017 PPP USD\n",
    "ppp_to_2017 = ypk_fn.ppp_conversion_specific_year(\n",
    "    2017, sset.PATH_PWT_RAW, extrap_sim=True, fill_msng_ctries=sset.PPP_CCODE_IF_MSNG\n",
    ")\n",
    "ppp_11_to_17 = ppp_to_2017.loc[(slice(None), 2011), :].reset_index()\n",
    "ppp_11_to_17.set_index([\"ccode\"], inplace=True)\n",
    "mpd_df = gdp_pop_df[[\"mpd_rgdpna_pc\"]].join(ppp_11_to_17.conv, how=\"left\")\n",
    "mpd_df.loc[~pd.isnull(mpd_df.conv), \"conv\"] = 1\n",
    "mpd_df[\"mpd_rgdpna_pc_17\"] = (\n",
    "    mpd_df[\"mpd_rgdpna_pc\"].mul(mpd_df[\"conv\"]) / defla.loc[2011, \"pl_gdpo\"]\n",
    ")\n",
    "\n",
    "y_df = ypk_fn.smooth_fill_aux_source(\n",
    "    y_df, mpd_df, \"mpd_rgdpna_pc_17\", \"MPD\", \"PWT/FAMB/WB + MPD_gr\"\n",
    ")\n",
    "\n",
    "mpd_n = y_df.loc[y_df.gdppc_source.isin([\"MPD\", \"PWT/FAMB/WB + MPD_gr\"]), :].shape[0]\n",
    "print(f\"Country-years using MPD information directly are {mpd_n}.\")"
   ]
  },
  {
   "cell_type": "markdown",
   "id": "a3c9340c-d947-4385-abe1-2aa31aa5db83",
   "metadata": {},
   "source": [
    "#### Attaching IMF WEO"
   ]
  },
  {
   "cell_type": "code",
   "execution_count": 64,
   "id": "ca1f1093-ec2f-4b1e-8fea-3ae20970541e",
   "metadata": {},
   "outputs": [],
   "source": [
    "y_df = ypk_fn.smooth_fill_aux_source(\n",
    "    y_df, gdp_pop_df, \"imf_rgdpna_pc\", \"IMF\", \"PWT/FAMB/WB + IMF_gr\"\n",
    ")"
   ]
  },
  {
   "cell_type": "code",
   "execution_count": 65,
   "id": "362cc278-cfbe-464f-a3f3-ec488cff09b1",
   "metadata": {},
   "outputs": [],
   "source": [
    "# manually fixing source information\n",
    "imf_gr_ccodes = (\n",
    "    y_df.loc[y_df.gdppc_source == \"PWT/FAMB/WB + IMF_gr\", :]\n",
    "    .reset_index()\n",
    "    .ccode.unique()\n",
    ")\n",
    "for i in imf_gr_ccodes:\n",
    "    prev = y_df.loc[(i, 2019), \"gdppc_source\"]\n",
    "    y_df.loc[(i, 2020), \"gdppc_source\"] = f\"{prev} + IMF_gr\""
   ]
  },
  {
   "cell_type": "markdown",
   "id": "80110ce5-8d72-4d2c-8f69-7d4802fcbb0e",
   "metadata": {},
   "source": [
    "### Using secondary sources that are not necessarily in constant PPP terms"
   ]
  },
  {
   "cell_type": "markdown",
   "id": "417ae80f-4830-4801-bcd4-39ef76c940e7",
   "metadata": {},
   "source": [
    "#### Individual countries requiring attention"
   ]
  },
  {
   "cell_type": "markdown",
   "id": "937c6e2e-a9b8-4987-a0c9-d61d6a2c58ff",
   "metadata": {},
   "source": [
    "**Copy `NOR` to fill in `SJM`**\n",
    "\n",
    "`SJM` has no reliable information (there is some information in CIA WFB, but cannot be used)."
   ]
  },
  {
   "cell_type": "code",
   "execution_count": 66,
   "id": "891e19e1-95e0-4dd2-8fe2-47e8644d4977",
   "metadata": {},
   "outputs": [],
   "source": [
    "y_df.loc[(\"SJM\", sset.HISTORICAL_YEARS), \"rgdpna_pc\"] = y_df.loc[\n",
    "    (\"NOR\", sset.HISTORICAL_YEARS), \"rgdpna_pc\"\n",
    "].values\n",
    "y_df.loc[(\"SJM\", sset.HISTORICAL_YEARS), \"gdppc_source\"] = \"copy_NOR\""
   ]
  },
  {
   "cell_type": "markdown",
   "id": "29cb5bf0-a9f7-4759-9f73-0445409eb7ab",
   "metadata": {},
   "source": [
    "**North Korea (`PRK`), 2019-2020 GDP growth rates from the Bank of Korea**"
   ]
  },
  {
   "cell_type": "code",
   "execution_count": 67,
   "id": "94904e46-2ffe-4e9f-b8b3-139e874a0645",
   "metadata": {},
   "outputs": [],
   "source": [
    "# 2019-2020 values are missing, and we use 2018-19, 2019-20 growth rates\n",
    "y_df.loc[(\"PRK\", 2020), \"rgdpna_pc\"] = (\n",
    "    y_df.loc[(\"PRK\", 2019), \"rgdpna_pc\"]\n",
    "    * pop_cleaned.loc[(\"PRK\", 2019), \"pop\"]\n",
    "    * (gdp_pop_df.loc[(\"PRK\", 2020), \"bok_prk_real_gdp_gr\"] / 100 + 1)\n",
    "    / pop_cleaned.loc[(\"PRK\", 2020), \"pop\"]\n",
    ")\n",
    "y_df.loc[(\"PRK\", 2020), \"gdppc_source\"] = \"FAMB + BOK_gr\""
   ]
  },
  {
   "cell_type": "markdown",
   "id": "6a1f02ff-470b-4a69-9558-80dc5ed1d558",
   "metadata": {},
   "source": [
    "#### Attaching WB WDI in non-PPP constant 2017 dollars\n",
    "\n",
    "Note that we will not copy these values for missing country-years but use them with `ypk_fn.smooth_fill` to utilize their growth rates."
   ]
  },
  {
   "cell_type": "code",
   "execution_count": 68,
   "id": "1f442a4a-f9ef-4a05-81ff-6157bc8b1b08",
   "metadata": {},
   "outputs": [],
   "source": [
    "# using WB WDI nominal values\n",
    "y_df = ypk_fn.smooth_fill_aux_source(\n",
    "    y_df, gdp_pop_df, \"wb_gdppc_nom\", \"WB(not_PPP)\", \"FAMB + WB(not_PPP)_gr\"\n",
    ")\n",
    "\n",
    "# making sure we don't copy these non-PPP values\n",
    "y_df.loc[(y_df.gdppc_source == \"WB(not_PPP)\"), [\"rgdpna_pc\", \"gdppc_source\"]] = np.nan"
   ]
  },
  {
   "cell_type": "markdown",
   "id": "1163a5c9-5fe0-41de-87f9-568a8b88347e",
   "metadata": {},
   "source": [
    "#### Attaching UN WDI in non-PPP constant 2017 dollars\n",
    "\n",
    "Note that we will not copy these values for missing country-years but use them with `ypk_fn.smooth_fill` to utilize their growth rates."
   ]
  },
  {
   "cell_type": "code",
   "execution_count": 69,
   "id": "2c5ffefd-7b14-40ef-90e5-51ea9d457850",
   "metadata": {},
   "outputs": [],
   "source": [
    "y_df = ypk_fn.smooth_fill_aux_source(\n",
    "    y_df, gdp_pop_df, \"un_gdppc_const\", \"UN(not_PPP)\", \"PWT + UN(not_PPP)_gr\"\n",
    ")\n",
    "\n",
    "# making sure we don't copy these non-PPP values\n",
    "y_df.loc[(y_df.gdppc_source == \"UN(not_PPP)\"), [\"rgdpna_pc\", \"gdppc_source\"]] = np.nan\n",
    "\n",
    "# manual clean-up for source\n",
    "y_df.loc[\n",
    "    (y_df.index.get_level_values(\"ccode\") == \"LIE\")\n",
    "    & (y_df.gdppc_source == \"PWT + UN(not_PPP)_gr\"),\n",
    "    \"gdppc_source\",\n",
    "] = \"FAMB + UN(not_PPP)_gr\""
   ]
  },
  {
   "cell_type": "markdown",
   "id": "0d289789-efd3-4037-b781-045e237ecdd2",
   "metadata": {},
   "source": [
    "### Taking care of uninhabited regions\n",
    "\n",
    "We will leave `UMI`'s 2000 value as `np.nan` for now as it is technically inhabited in 2000."
   ]
  },
  {
   "cell_type": "code",
   "execution_count": 70,
   "id": "fe824c14-f50e-4107-aa73-ffb58be183d9",
   "metadata": {},
   "outputs": [],
   "source": [
    "y_df = y_df.loc[\n",
    "    ~y_df.index.get_level_values(\"ccode\").isin(sset.UNINHABITED_ISOS), :\n",
    "].copy()\n",
    "\n",
    "uninhabited = []\n",
    "for i in list(sset.UNINHABITED_ISOS):\n",
    "    i_df = y_df.loc[\"USA\", :].reset_index()\n",
    "    i_df[\"ccode\"], i_df[\"rgdpna_pc\"], i_df[\"gdppc_source\"] = i, 0, \"uninhabited\"\n",
    "    i_df.set_index([\"ccode\", \"year\"], inplace=True)\n",
    "    uninhabited.append(i_df)\n",
    "\n",
    "y_df = pd.concat([y_df] + uninhabited, axis=0).sort_index()\n",
    "\n",
    "# cleaning UMI\n",
    "y_df.loc[(\"UMI\", 2000), \"rgdpna_pc\"] = np.nan\n",
    "y_df.loc[\n",
    "    (\"UMI\", [x for x in sset.HISTORICAL_YEARS if x != 2000]), \"gdppc_source\"\n",
    "] = \"uninhabited\""
   ]
  },
  {
   "cell_type": "markdown",
   "id": "d3df8afc-0b8a-459a-88ce-a0c173b92eac",
   "metadata": {},
   "source": [
    "### Territories with no info at all"
   ]
  },
  {
   "cell_type": "markdown",
   "id": "38a9d327-2d74-43d7-9ce1-b7f70891cd6c",
   "metadata": {},
   "source": [
    "IOT has just US and British military personnel, will assign GBR gdppc"
   ]
  },
  {
   "cell_type": "code",
   "execution_count": 71,
   "id": "e9871a71-817a-4eaa-b104-146220102a2d",
   "metadata": {},
   "outputs": [],
   "source": [
    "def adjust_terrs(y_df, terr, sov):\n",
    "    y_df.loc[[terr]] = (\n",
    "        y_df.loc[[sov]]\n",
    "        .reset_index()\n",
    "        .assign(gdppc_source=f\"copy_{sov}\", ccode=terr)\n",
    "        .set_index([\"ccode\", \"year\"])\n",
    "    )\n",
    "    return y_df\n",
    "\n",
    "\n",
    "for terr, sov in ((\"IOT\", \"GBR\"), (\"XPI\", \"CHN\"), (\"XAD\", \"CYP\")):\n",
    "    y_df = adjust_terrs(y_df, terr, sov)"
   ]
  },
  {
   "cell_type": "markdown",
   "id": "723ef537-21b0-448f-a861-0c9b62e27a1d",
   "metadata": {
    "tags": []
   },
   "source": [
    "### Current and former territories and disputed regions\n",
    "\n",
    "For convenience, we will call\n",
    "- **Group X**: countries or regions that are current or former sovereigns, claimant, or nearby metropolitan country to those in **Group Y** (e.g., `GBR`)\n",
    "- **Group Y**: countries or regions that are current or former territories, disputed areas, or nearby small state to those in **Group X** (e.g., `GGY`)\n",
    "\n",
    "We exclude `SJM` (and its relationship to `NOR`) since there is not any reliable GDPpc information; there is *some* information from CIA WFB, but using this would overstate `SJM`'s GDPpc (to be something in the order of millions of USD). For this reason, we will copy `NOR` GDPpc for `SJM` until a more reliable data source is found. "
   ]
  },
  {
   "cell_type": "markdown",
   "id": "21b0b9c6-7e99-4efc-b6a0-a29a2907a0d2",
   "metadata": {
    "tags": []
   },
   "source": [
    "#### Organizing the relationships between Groups X and Y\n",
    "\n",
    "In general, the reason for assigning country-sovereignty ratios instead of that between similar countries is based on the argument in [**Bertram (World Development, 2003)**](https://www.sciencedirect.com/science/article/abs/pii/S0305750X03002134) that territories (or island economies in the paper, to be more specific) seem to converge to trend with their metropolitan patrons more so than similar territory (island) economies.\n",
    "\n",
    "Following relationships in `GROUPS_X_Y` are considered."
   ]
  },
  {
   "cell_type": "code",
   "execution_count": 72,
   "id": "4a2d8a04-e071-4283-b52d-a9d02d65d24b",
   "metadata": {},
   "outputs": [],
   "source": [
    "GROUPS_X_Y = ypk_fn.GROUPS_X_Y"
   ]
  },
  {
   "cell_type": "markdown",
   "id": "bddd808b-054b-4fbd-9c2a-bb477ded2ba1",
   "metadata": {},
   "source": [
    "#### Cleaning Mainland France and 5 Overseas Departments\n",
    "\n",
    "We have previously recognized that major sources like PWT 10.0, WB WDI, and Fariss et al. (2022) have the information of France as Mainland France plus the 5 overseas departments; we will separate them here.\n",
    "\n",
    "Based on our investigation, there seems to be a conversion rate between the PWT 10.0 `rgdpna_pc` values and OECD `oecd_rgdpna_pc` values for Mainland France + 5 overseas departments. We find that rate by minimizing the SSE and apply those so that OECD GDP values can be turned into PWT `rgdpna`-equivalents."
   ]
  },
  {
   "cell_type": "code",
   "execution_count": 73,
   "id": "87346373-4eda-4df9-a458-5f39c2e50c62",
   "metadata": {},
   "outputs": [],
   "source": [
    "# getting the entire stream of FRA + Overseas Dept.s (FRA+OV)\n",
    "fra_ov = gdp_pop_df.loc[\n",
    "    (sset.FRA_OVERSEAS_DEPT, range(1950, 2021)), [\"rgdpna_pc\", \"pop\", \"rgdpna\"]\n",
    "]\n",
    "\n",
    "# population of 2020 for FRA+OV is extrapolated simply using WB population\n",
    "fra_ov.loc[(sset.FRA_OVERSEAS_DEPT, 2020), \"pop\"] = (\n",
    "    fra_ov.loc[(sset.FRA_OVERSEAS_DEPT, 2019), \"pop\"]\n",
    "    * gdp_pop_df.loc[(sset.FRA_OVERSEAS_DEPT, 2020), \"wb_pop\"]\n",
    "    / gdp_pop_df.loc[(sset.FRA_OVERSEAS_DEPT, 2019), \"wb_pop\"]\n",
    ")\n",
    "\n",
    "# take the FRA+OV 2020 GDPpc that we calculated above\n",
    "fra_ov.loc[(sset.FRA_OVERSEAS_DEPT, 2020), \"rgdpna_pc\"] = y_df.loc[\n",
    "    (sset.FRA_OVERSEAS_DEPT, 2020), \"rgdpna_pc\"\n",
    "].item()\n",
    "\n",
    "# imputing 2020 rgdpna of FRA+OV via rgdpna_pc * pop\n",
    "fra_ov.loc[(sset.FRA_OVERSEAS_DEPT, 2020), \"rgdpna\"] = (\n",
    "    fra_ov.loc[(sset.FRA_OVERSEAS_DEPT, 2020), \"rgdpna_pc\"]\n",
    "    * fra_ov.loc[(sset.FRA_OVERSEAS_DEPT, 2020), \"pop\"]\n",
    ")\n",
    "fra_ov[\"gdppc_source\"] = \"PWT\"\n",
    "fra_ov.loc[(sset.FRA_OVERSEAS_DEPT, 2020), \"gdppc_source\"] = \"PWT + WB_gr\"\n",
    "\n",
    "# set up dataset for regression\n",
    "oecd_fra_ov = gdp_pop_df[[\"oecd_rgdpna_pc\", \"oecd_rgdpna\", \"oecd_pop\"]].dropna(\n",
    "    how=\"all\"\n",
    ")\n",
    "reg_df = oecd_fra_ov.loc[sset.FRA_OVERSEAS_DEPT].join(\n",
    "    fra_ov.droplevel(\"ccode\"), how=\"inner\"\n",
    ")\n",
    "\n",
    "# get coefficient for x-walk\n",
    "coef = ols(\"rgdpna_pc ~ oecd_rgdpna_pc - 1\", data=reg_df).fit().params[\"oecd_rgdpna_pc\"]\n",
    "\n",
    "# predict PWT-consistent GDP pc\n",
    "ov_dept = (\n",
    "    (\n",
    "        oecd_fra_ov.drop(sset.FRA_OVERSEAS_DEPT, level=\"ccode\").oecd_rgdpna_pc.dropna()\n",
    "        * coef\n",
    "    )\n",
    "    .rename(\"rgdpna_pc\")\n",
    "    .to_frame()\n",
    "    .assign(gdppc_source=\"OECD + PWT-OECD_ratio\")\n",
    ")\n",
    "\n",
    "# smooth-fill with france growth rates\n",
    "ov_da = ov_dept.rgdpna_pc.to_xarray().reindex(year=sset.HISTORICAL_YEARS)\n",
    "src_da = (\n",
    "    gdp_pop_df.loc[sset.FRA_OVERSEAS_DEPT, \"rgdpna_pc\"]\n",
    "    .to_xarray()\n",
    "    .reindex(year=sset.HISTORICAL_YEARS)\n",
    "    .expand_dims(ccode=ov_da.ccode)\n",
    ")\n",
    "ov_gdppc = (\n",
    "    ypk_fn.smooth_fill(ov_da, src_da, time_dim=\"year\", other_dim=\"ccode\")\n",
    "    .to_series()\n",
    "    .to_frame()\n",
    "    .join(ov_dept.gdppc_source, how=\"outer\")\n",
    "    .fillna({\"gdppc_source\": \"OECD + PWT-OECD_ratio + FRA-interp\"})\n",
    ")\n",
    "\n",
    "# filling in 1980-2020 values of mainland France in `gdp_pop_df` for convenience\n",
    "fra_gdppc = (\n",
    "    gdp_pop_df.loc[\"FRA\", \"imf_rgdpna_pc\"]\n",
    "    .loc[sset.HISTORICAL_YEARS]\n",
    "    .rename(\"rgdpna_pc\")\n",
    "    .reset_index()\n",
    "    .assign(ccode=\"FRA\", gdppc_source=\"IMF\")\n",
    "    .set_index([\"ccode\", \"year\"])\n",
    ")\n",
    "gdp_pop_df[\"rgdpna_pc\"] = gdp_pop_df[\"rgdpna_pc\"].fillna(fra_gdppc.rgdpna_pc)\n",
    "\n",
    "fra_all_y = pd.concat([fra_ov[[\"rgdpna_pc\", \"gdppc_source\"]], fra_gdppc, ov_gdppc])"
   ]
  },
  {
   "cell_type": "code",
   "execution_count": 74,
   "id": "639c2379-1d1f-4327-9afa-4971d1824905",
   "metadata": {},
   "outputs": [],
   "source": [
    "y_df = y_df.fillna(ov_gdppc)"
   ]
  },
  {
   "cell_type": "markdown",
   "id": "3ef7d5f9-5987-428f-b70e-156a02f9e10d",
   "metadata": {},
   "source": [
    "#### Åland (`ALA`) from Åland Statistics\n",
    "\n",
    "We use the ratio of Åland to Finland GDPpc (from Åland Statistics) with Finland constant PPP GDPpc to get `ALA` constant PPP GDPpc."
   ]
  },
  {
   "cell_type": "code",
   "execution_count": 75,
   "id": "42a0b9ac-b193-4866-b7e5-0624d154f705",
   "metadata": {},
   "outputs": [],
   "source": [
    "# retrieving 1995-2019 ALA-to-FIN ratio\n",
    "aland = gdp_pop_df.loc[\"ALA\", \"aland_cgdpo_pc\"].dropna()\n",
    "aland_val, aland_yrs = aland.values, aland.reset_index().year.values\n",
    "fin_val = gdp_pop_df.loc[\"FIN\", \"aland_cgdpo_pc\"].dropna().values\n",
    "assert len(aland_yrs) == len(fin_val)\n",
    "\n",
    "# attaching FIN rgdpna_pc values to get ALA rgdpna_pc values\n",
    "aland_fin = (\n",
    "    pd.DataFrame(\n",
    "        data={\n",
    "            \"ccode\": [\"ALA\"] * len(fin_val),\n",
    "            \"ratio\": aland_val / fin_val,\n",
    "            \"year\": aland_yrs,\n",
    "        }\n",
    "    )\n",
    "    .set_index([\"ccode\", \"year\"])\n",
    "    .join(gdp_pop_df.loc[\"FIN\", [\"rgdpna\", \"pop\"]], how=\"left\")\n",
    ")\n",
    "aland_fin[\"x_rgdpna_pc\"] = aland_fin[\"rgdpna\"].div(aland_fin[\"pop\"])\n",
    "aland_fin[\"rgdpna_pc\"] = aland_fin[[\"x_rgdpna_pc\", \"ratio\"]].prod(axis=1)\n",
    "aland_fin[\"x_ccode\"] = \"FIN\"\n",
    "aland_fin[\"gdppc_source\"] = \"Aland-GOV:ALA/FIN_ratio + PWT:FIN_prod\"\n",
    "terr_columns = [\"x_ccode\", \"x_rgdpna_pc\", \"rgdpna_pc\", \"ratio\", \"gdppc_source\"]\n",
    "aland_fin = aland_fin[terr_columns]"
   ]
  },
  {
   "cell_type": "markdown",
   "id": "c81c13a9-0124-4524-be32-292f2c51f4dc",
   "metadata": {},
   "source": [
    "#### `BES` from Statistics Netherlands\n",
    "\n",
    "We use the ratio of BES islands (from Statistics Netherlands) to `NLD` (from UN AMA) current, non-PPP GDPpc to get `BES` constant PPP GDPpc."
   ]
  },
  {
   "cell_type": "code",
   "execution_count": 76,
   "id": "63ab903a-4603-47e0-9e27-2ccbb40e5436",
   "metadata": {},
   "outputs": [],
   "source": [
    "bes = (\n",
    "    gdp_pop_df.loc[[\"BES\"], [\"bes_gov_gdp_nom\"]]\n",
    "    .dropna()\n",
    "    .join(gdp_pop_df.loc[\"NLD\", \"un_gdppc_nom\"])\n",
    "    .join(pop_cleaned.loc[\"BES\", \"pop\"])\n",
    ")\n",
    "bes[\"ratio\"] = bes[\"bes_gov_gdp_nom\"].div(bes[[\"un_gdppc_nom\", \"pop\"]].prod(axis=1))\n",
    "bes[\"x_ccode\"] = \"NLD\"\n",
    "bes = bes.join(gdp_pop_df.loc[\"NLD\", \"rgdpna_pc\"].rename(\"x_rgdpna_pc\"))\n",
    "bes[\"rgdpna_pc\"] = bes[[\"x_rgdpna_pc\", \"ratio\"]].prod(axis=1)\n",
    "bes[\"gdppc_source\"] = \"(NLD-GOV:BES + UN(not_PPP):NLD_ratio) + PWT:NLD_prod\"\n",
    "bes = bes[terr_columns]\n",
    "\n",
    "# merging\n",
    "group_y = pd.concat([aland_fin, bes])"
   ]
  },
  {
   "cell_type": "markdown",
   "id": "47937fee-ab36-4134-b68e-1db2601b34be",
   "metadata": {},
   "source": [
    "#### Saint Barthélemy from CEROM (current, non-PPP GDPpc)\n",
    "\n",
    "We use the ratio of `BLM` (from CEROM) to `FRA` with 5 Overseas Department (not PPP, from WB WDI), then multiply this with PWT 10.0 values of `FRA` with 5 Overseas Department."
   ]
  },
  {
   "cell_type": "code",
   "execution_count": 77,
   "id": "712a6c3b-03e5-4d46-832f-263c87e46260",
   "metadata": {},
   "outputs": [],
   "source": [
    "# turn these values to constant 2017, non-PPP USD\n",
    "blm = (\n",
    "    gdp_pop_df.loc[([\"BLM\"], slice(None)), [\"cerom_gdppc_nom\"]]\n",
    "    .dropna()\n",
    "    .join(defla, how=\"left\")\n",
    ")\n",
    "blm[\"cerom_const_gdppc\"] = blm[\"cerom_gdppc_nom\"].div(blm[\"pl_gdpo\"])\n",
    "\n",
    "# creating ratios between BLM and FRA+, among constant 2017 non-PPP USD values\n",
    "blm = blm.join(\n",
    "    gdp_pop_df.loc[\n",
    "        (sset.FRA_OVERSEAS_DEPT, blm.reset_index()[\"year\"].values),\n",
    "        [\"wb_gdppc_nom\", \"rgdpna\", \"pop\"],\n",
    "    ]\n",
    "    .reset_index()\n",
    "    .drop([\"ccode\"], axis=1)\n",
    "    .set_index([\"year\"])\n",
    ")\n",
    "blm[\"ratio\"] = blm[\"cerom_const_gdppc\"].div(blm[\"wb_gdppc_nom\"])\n",
    "\n",
    "# multiplying the ratio to PPP values for FRA+ to get PPP equivalent for BLM\n",
    "blm[\"x_rgdpna_pc\"] = blm[\"rgdpna\"].div(blm[\"pop\"])\n",
    "blm[\"x_ccode\"] = sset.FRA_OVERSEAS_DEPT\n",
    "blm[\"rgdpna_pc\"] = blm[[\"x_rgdpna_pc\", \"ratio\"]].prod(axis=1)\n",
    "blm[\"gdppc_source\"] = \"(CEROM:BLM + WB(not_PPP):FRA+OV)_ratio + PWT:FRA+OV_prod\"\n",
    "blm = blm[terr_columns]\n",
    "\n",
    "# merging\n",
    "group_y = pd.concat([group_y, blm])"
   ]
  },
  {
   "cell_type": "markdown",
   "id": "fd5eadcd-3f2a-4246-b011-f1d3a6e6fa3a",
   "metadata": {},
   "source": [
    "#### Cocos (Keeling) Islands (`CCK`) and Christmas Island (`CXR`) from Australian Parliament (2010 current, non-PPP GDP)\n",
    "\n",
    "Similarly, we use the ratio of `CCK` or `CXR` (from Australian Parliament) to `AUS` (not PPP, from WB WDI), then multiply this with PWT 10.0 values of `AUS`."
   ]
  },
  {
   "cell_type": "code",
   "execution_count": 78,
   "id": "ea37e1eb-0d40-414f-aef6-56e732a8987e",
   "metadata": {},
   "outputs": [],
   "source": [
    "# changing from 2010 US dollars to 2017 US dollars\n",
    "cck_cxr = gdp_pop_df.loc[([\"CCK\", \"CXR\"], [2010]), [\"aus_parl_gdp_nom\"]].join(\n",
    "    pop_cleaned[\"pop\"], how=\"left\"\n",
    ")\n",
    "cck_cxr[\"aus_parl_gdppc_nom\"] = (\n",
    "    cck_cxr[\"aus_parl_gdp_nom\"].div(cck_cxr[\"pop\"]) / defla.loc[2010, \"pl_gdpo\"]\n",
    ")\n",
    "cck_cxr.drop([\"pop\"], inplace=True, axis=1)\n",
    "\n",
    "# attaching AUS values\n",
    "cck_cxr = cck_cxr.join(y_df.loc[\"AUS\", \"rgdpna_pc\"].rename(\"x_rgdpna_pc\")).join(\n",
    "    gdp_pop_df.loc[\"AUS\", \"wb_gdppc_nom\"]\n",
    ")\n",
    "cck_cxr[\"ratio\"] = cck_cxr[\"aus_parl_gdppc_nom\"] / cck_cxr[\"wb_gdppc_nom\"]\n",
    "cck_cxr[\"rgdpna_pc\"] = cck_cxr[[\"x_rgdpna_pc\", \"ratio\"]].prod(axis=1)\n",
    "cck_cxr[\"x_ccode\"] = \"AUS\"\n",
    "cck_source = \"(AUS-GOV:CCK + WB(not_PPP):AUS)_ratio + PWT:AUS_prod\"\n",
    "cck_cxr[\"gdppc_source\"] = cck_source\n",
    "cck_cxr.loc[\"CXR\", \"gdppc_source\"] = cck_source.replace(\"CCK\", \"CXR\")\n",
    "cck_cxr = cck_cxr[terr_columns]\n",
    "\n",
    "# merging\n",
    "group_y = pd.concat([group_y, cck_cxr])"
   ]
  },
  {
   "cell_type": "markdown",
   "id": "09192bc5-2976-4170-b9fc-6408c162c258",
   "metadata": {},
   "source": [
    "#### Cook Island (`COK`) and Niue (`NIU`) from Asian Development Bank (current, non-PPP GDP)\n",
    "\n",
    "We use the ratio of `COK` or `NIU` to `NZL` (both from ADB and current, non-PPP GDP), then multiply this with PWT 10.0 + WB WDI values of `NZL`."
   ]
  },
  {
   "cell_type": "code",
   "execution_count": 79,
   "id": "30c4ac83-cfeb-453c-a3ef-587fe7ca995f",
   "metadata": {},
   "outputs": [],
   "source": [
    "info = pd.concat(\n",
    "    [\n",
    "        pd.read_excel(\n",
    "            sset.PATH_ADB_RAW,\n",
    "            sheet_name=v,\n",
    "            na_values=[\"...\", \"…\"],\n",
    "            skiprows=list(range(0, 6)),\n",
    "            usecols=\"B:W\",\n",
    "            index_col=0,\n",
    "        )\n",
    "        .filter(like=\"Per capita GDP\", axis=0)\n",
    "        .T.rename(columns=lambda x: \"gdppc\")\n",
    "        .rename_axis(\"year\")\n",
    "        .reset_index()\n",
    "        .assign(ccode=k)\n",
    "        .set_index([\"ccode\", \"year\"])\n",
    "        .gdppc\n",
    "        for k, v in [(\"COK\", \"coo\"), (\"NIU\", \"niu\"), (\"NZL\", \"nzl\")]\n",
    "    ]\n",
    ")\n",
    "ratios = (info.drop(\"NZL\") / info.loc[\"NZL\"]).ffill()\n",
    "cok_niu_adb = (\n",
    "    (ratios * y_df.loc[\"NZL\", \"rgdpna_pc\"])\n",
    "    .to_frame(\"rgdpna_pc\")\n",
    "    .assign(gdppc_source=\"ADB+NZL_ratio + PWT:NZL_prod\", x_ccode=\"NZL\")\n",
    ")"
   ]
  },
  {
   "cell_type": "code",
   "execution_count": 80,
   "id": "3e1cbbfe-04a9-4b7d-bf98-69599698ced8",
   "metadata": {},
   "outputs": [],
   "source": [
    "group_y = pd.concat([group_y, cok_niu_adb])"
   ]
  },
  {
   "cell_type": "markdown",
   "id": "729181d5-e5b8-4f5d-a8c7-0a7afa02e29c",
   "metadata": {
    "tags": []
   },
   "source": [
    "#### Falkland (`FLK`), Gibraltar (`GIB`), Guernsey (`GGY`), and Jersey (`JEY`) from their government reports (all non-PPP)"
   ]
  },
  {
   "cell_type": "code",
   "execution_count": 81,
   "id": "571d3844-3775-475b-b893-bbd681a8006b",
   "metadata": {},
   "outputs": [],
   "source": [
    "# GBR rgdpna_pc for multiplying with ratio\n",
    "gbr_info = y_df.loc[\"GBR\", \"rgdpna_pc\"].rename(\"x_rgdpna_pc\")\n",
    "gbr_nom_curr = gdp_pop_df.loc[\"GBR\", \"un_gdppc_nom\"]\n",
    "\n",
    "# FLK, GIB, and GGY\n",
    "flk = gdp_pop_df.loc[([\"FLK\"], slice(None)), [\"flk_gov_gdp_curr\"]].join(\n",
    "    pop_cleaned[\"pop\"]\n",
    ")\n",
    "flk[\"gdppc_curr\"] = flk[\"flk_gov_gdp_curr\"].div(flk[\"pop\"])\n",
    "gib = gdp_pop_df.loc[[\"GIB\"], \"gib_gov_gdppc_curr\"].rename(\"gdppc_curr\").to_frame()\n",
    "\n",
    "# GGY requires smooth_fill\n",
    "ggy_co = [\"ggy_gov_gdp_curr\", \"ggy_gov_gdp_alt\"]\n",
    "ggy = gdp_pop_df.loc[[\"GGY\"], ggy_co].dropna(how=\"all\").join(pop_cleaned[\"pop\"])\n",
    "for i in ggy_co:\n",
    "    ggy[i.replace(\"ggy_gov_\", \"\").replace(\"gdp\", \"gdppc\")] = ggy[i].div(ggy[\"pop\"])\n",
    "ggy = xr.Dataset.from_dataframe(ggy[[\"gdppc_curr\", \"gdppc_alt\"]])\n",
    "ggy = ypk_fn.smooth_fill(\n",
    "    ggy[\"gdppc_curr\"], ggy[\"gdppc_alt\"], other_dim=\"ccode\", time_dim=\"year\"\n",
    ").to_dataframe()\n",
    "\n",
    "# cleaning with UN nominal, current GDPpc\n",
    "flk_gib_ggy, fggj = [], [\"FLK\", \"GIB\", \"GGY\", \"JEY\"]\n",
    "fggj_source = \"({}-GOV + UN(not_PPP):GBR)_ratio + PWT:GBR\"\n",
    "for k, i in enumerate([flk, gib, ggy]):\n",
    "    i = i[[\"gdppc_curr\"]].dropna().join(gbr_nom_curr).join(gbr_info)\n",
    "    i[\"ratio\"] = i[\"gdppc_curr\"].div(i[\"un_gdppc_nom\"])\n",
    "    i[\"rgdpna_pc\"] = i[[\"x_rgdpna_pc\", \"ratio\"]].prod(axis=1)\n",
    "    sor = fggj_source.format(fggj[k])\n",
    "    i[\"gdppc_source\"], i[\"x_ccode\"] = sor, \"GBR\"\n",
    "    if 2020 in i.reset_index()[\"year\"].unique():\n",
    "        i.loc[(fggj[k], 2020), \"gdppc_source\"] = sor.replace(\"PWT:\", \"PWT+WB_gr:\")\n",
    "    flk_gib_ggy.append(i)\n",
    "flk_gib_ggy = pd.concat(flk_gib_ggy)[terr_columns]"
   ]
  },
  {
   "cell_type": "code",
   "execution_count": 82,
   "id": "658a88b5-0ffa-434a-8221-4963e26a6177",
   "metadata": {},
   "outputs": [],
   "source": [
    "# JEY\n",
    "jey = gdp_pop_df.loc[[\"JEY\"], [\"jey_gov_gdp_const\"]].dropna().join(pop_cleaned[\"pop\"])\n",
    "jey[\"gdppc_const\"] = jey[\"jey_gov_gdp_const\"].div(jey[\"pop\"])\n",
    "jey = jey.join(y_df.loc[\"GBR\", \"rgdpna_pc\"].rename(\"x_rgdpna_pc\")).join(\n",
    "    gdp_pop_df.loc[\"GBR\", \"wb_gdppc_nom\"]\n",
    ")\n",
    "jey[\"ratio\"], jey[\"x_ccode\"] = jey[\"gdppc_const\"].div(jey[\"wb_gdppc_nom\"]), \"GBR\"\n",
    "jey[\"rgdpna_pc\"] = jey[[\"x_rgdpna_pc\", \"ratio\"]].prod(axis=1)\n",
    "jey[\"gdppc_source\"] = fggj_source.format(\"JEY\")\n",
    "jey.loc[(\"JEY\", 2020), \"gdppc_source\"] = fggj_source.format(\"JEY\").replace(\n",
    "    \"PWT:\", \"PWT+WB_gr:\"\n",
    ")\n",
    "\n",
    "# merging with the rest\n",
    "fggj = pd.concat([flk_gib_ggy, jey[terr_columns]])\n",
    "\n",
    "# merging\n",
    "group_y = pd.concat([group_y, fggj])"
   ]
  },
  {
   "cell_type": "markdown",
   "id": "bf24ecd9-1bad-43e6-a281-421c5021473d",
   "metadata": {},
   "source": [
    "#### Norfolk Island (`NFK`) information from Treadgold reports\n",
    "\n",
    "Ratios from Treadgold reports have already been cleaned with Australia `rgdpna_pc` values from PWT."
   ]
  },
  {
   "cell_type": "code",
   "execution_count": 83,
   "id": "bec1c0ed-2057-4dce-ab64-82a794ff8b85",
   "metadata": {},
   "outputs": [],
   "source": [
    "nfk = (\n",
    "    gdp_pop_df.loc[[\"NFK\"], [\"treadgold_rgdpna_pc\"]]\n",
    "    .dropna()\n",
    "    .join(gdp_pop_df.loc[\"AUS\", \"rgdpna_pc\"])\n",
    ")\n",
    "nfk.rename(\n",
    "    columns={\"rgdpna_pc\": \"x_rgdpna_pc\", \"treadgold_rgdpna_pc\": \"rgdpna_pc\"},\n",
    "    inplace=True,\n",
    ")\n",
    "nfk[\"ratio\"], nfk[\"x_ccode\"] = nfk[\"rgdpna_pc\"].div(nfk[\"x_rgdpna_pc\"]), \"AUS\"\n",
    "nfk[\"gdppc_source\"] = \"Treadgold_ratio + PWT:AUS_prod\"\n",
    "nfk = nfk[terr_columns]\n",
    "\n",
    "# merging\n",
    "group_y = pd.concat([group_y, nfk])"
   ]
  },
  {
   "cell_type": "markdown",
   "id": "3ea478be-f5fa-4671-8132-7d8b32132dbf",
   "metadata": {},
   "source": [
    "#### Pitcairn (`PCN`) and St. Helena (`SHN`) information from their respective Governments"
   ]
  },
  {
   "cell_type": "code",
   "execution_count": 84,
   "id": "c1c67fb6-8ab4-4534-b785-1180233ead95",
   "metadata": {},
   "outputs": [],
   "source": [
    "gbr_info = gdp_pop_df.loc[\"GBR\", [\"un_gdppc_nom\", \"rgdpna_pc\"]]\n",
    "\n",
    "# PCN\n",
    "pcn = (\n",
    "    gdp_pop_df.loc[[\"PCN\"], [\"pcn_gov_gdp_nom\"]]\n",
    "    .dropna()\n",
    "    .join(gbr_info)\n",
    "    .join(pop_cleaned.loc[\"PCN\", \"pop\"])\n",
    "    .rename(columns={\"rgdpna_pc\": \"x_rgdpna_pc\"})\n",
    ")\n",
    "pcn[\"gdppc_nom\"], pcn[\"x_ccode\"] = pcn[\"pcn_gov_gdp_nom\"].div(pcn[\"pop\"]), \"GBR\"\n",
    "pcn[\"ratio\"] = pcn[\"gdppc_nom\"].div(pcn[\"un_gdppc_nom\"])\n",
    "pcn[\"rgdpna_pc\"] = pcn[[\"x_rgdpna_pc\", \"ratio\"]].prod(axis=1)\n",
    "pcn[\"gdppc_source\"] = \"(PCN-GOV + UN(not_PPP):GBR)_ratio + PWT:GBR\"\n",
    "pcn = pcn[terr_columns]\n",
    "\n",
    "# SHN\n",
    "shn = gdp_pop_df.loc[[\"SHN\"], [\"st_helena_gov_gdppc_nom\"]].dropna().join(gbr_info)\n",
    "shn.rename(columns={\"rgdpna_pc\": \"x_rgdpna_pc\"}, inplace=True)\n",
    "shn[\"ratio\"] = shn[\"st_helena_gov_gdppc_nom\"].div(shn[\"un_gdppc_nom\"])\n",
    "shn[\"rgdpna_pc\"], shn[\"x_ccode\"] = shn[[\"x_rgdpna_pc\", \"ratio\"]].prod(axis=1), \"GBR\"\n",
    "shn[\"gdppc_source\"] = \"(SHN-GOV + UN(not_PPP):GBR)_ratio + PWT:GBR\"\n",
    "shn = shn[terr_columns]\n",
    "\n",
    "pcn_shn = pd.concat([pcn, shn], axis=0)\n",
    "\n",
    "# merging\n",
    "group_y = pd.concat([group_y, pcn_shn])"
   ]
  },
  {
   "cell_type": "markdown",
   "id": "182fedc7-103c-4f0d-a8e9-5168c90be28e",
   "metadata": {},
   "source": [
    "#### Vatican (`VAT`) information from Olga Kuznetsova (2002)\n",
    "\n",
    "From the Worldmark Encyclopedia of National Economies, link [here](https://www.researchgate.net/publication/313448599_Vatican_City); see p.6 for nominal GDP and nominal GDPpc 21 million and 21198 (in nominal USD, in 1999)."
   ]
  },
  {
   "cell_type": "code",
   "execution_count": 85,
   "id": "60ee04c6-f1eb-417f-a718-6ed30979b431",
   "metadata": {},
   "outputs": [],
   "source": [
    "vat = pd.DataFrame(data={\"ccode\": [\"VAT\"], \"year\": [1999], \"gdppc_nom\": 21198})\n",
    "vat = (\n",
    "    vat.set_index([\"ccode\", \"year\"])\n",
    "    .join(gdp_pop_df.loc[\"ITA\", [\"un_gdppc_nom\", \"rgdpna_pc\"]])\n",
    "    .rename(columns={\"rgdpna_pc\": \"x_rgdpna_pc\"})\n",
    ")\n",
    "vat[\"ratio\"] = vat[\"gdppc_nom\"].div(vat[\"un_gdppc_nom\"])\n",
    "vat[\"rgdpna_pc\"], vat[\"x_ccode\"] = vat[[\"x_rgdpna_pc\", \"ratio\"]].prod(axis=1), \"ITA\"\n",
    "vat[\"gdppc_source\"] = \"(Kuznetsova:VAT + UN(not_PPP):ITA)_ratio + PWT:ITA\"\n",
    "vat = vat[terr_columns]\n",
    "\n",
    "# merging\n",
    "group_y = pd.concat([group_y, vat])"
   ]
  },
  {
   "cell_type": "markdown",
   "id": "430d105a-6071-4f59-aa11-8a59a34b5a07",
   "metadata": {},
   "source": [
    "#### Group Y countries having information in WB WDI (as nominal GDPpc)"
   ]
  },
  {
   "cell_type": "code",
   "execution_count": 86,
   "id": "16f787e8-8f67-4197-863e-84bbadcdc4b6",
   "metadata": {},
   "outputs": [],
   "source": [
    "# we clean group X countries due to France representing FRA+Overseas Dept in WB WDI\n",
    "wb_group_y_ctries = np.intersect1d(\n",
    "    GROUPS_X_Y.reset_index().ccode.unique(),\n",
    "    gdp_pop_df[\"wb_gdppc_nom\"].dropna().reset_index().ccode.unique(),\n",
    ")\n",
    "wb_group_x_ctries = [\n",
    "    GROUPS_X_Y.loc[x, \"x_ccode\"]\n",
    "    if (GROUPS_X_Y.loc[x, \"x_ccode\"] != \"FRA\")\n",
    "    else sset.FRA_OVERSEAS_DEPT\n",
    "    for x in wb_group_y_ctries\n",
    "]\n",
    "\n",
    "wb_yiso_df = ypk_fn.fill_ratio_nominal_gdppc(\n",
    "    wb_group_y_ctries, wb_group_x_ctries, gdp_pop_df, y_df\n",
    ")"
   ]
  },
  {
   "cell_type": "markdown",
   "id": "5334ba90-6791-4677-92d0-75630f120149",
   "metadata": {},
   "source": [
    "#### Group Y countries having information in UN AMA (as nominal GDPpc)"
   ]
  },
  {
   "cell_type": "code",
   "execution_count": 87,
   "id": "ce94b4cc-618e-4514-b74b-a01060ca9158",
   "metadata": {},
   "outputs": [],
   "source": [
    "# we clean group X countries due to France representing FRA+Overseas Dept in UN AMA\n",
    "un_group_y_ctries = np.intersect1d(\n",
    "    GROUPS_X_Y.reset_index().ccode.unique(),\n",
    "    gdp_pop_df[\"un_gdppc_nom\"].dropna().reset_index().ccode.unique(),\n",
    ")\n",
    "un_group_x_ctries = [\n",
    "    GROUPS_X_Y.loc[x, \"x_ccode\"]\n",
    "    if (GROUPS_X_Y.loc[x, \"x_ccode\"] != \"FRA\")\n",
    "    else sset.FRA_OVERSEAS_DEPT\n",
    "    for x in un_group_y_ctries\n",
    "]\n",
    "un_yiso_df = ypk_fn.fill_ratio_nominal_gdppc(\n",
    "    un_group_y_ctries, un_group_x_ctries, gdp_pop_df, y_df, \"un_gdppc_nom\"\n",
    ")"
   ]
  },
  {
   "cell_type": "markdown",
   "id": "7b0d07eb-34fe-4fc0-b9f3-86ae86a3d5c4",
   "metadata": {},
   "source": [
    "#### Group Y countries having information in CIA WFB\n",
    "\n",
    "CIA WFB is sometimes unreliable, so further manual inspection was done before working with the below countries."
   ]
  },
  {
   "cell_type": "code",
   "execution_count": 88,
   "id": "5bb807c2-b0c2-49bc-a618-999bca083cd5",
   "metadata": {},
   "outputs": [],
   "source": [
    "cia_group_y_ctries = np.intersect1d(\n",
    "    GROUPS_X_Y.reset_index().ccode.unique(),\n",
    "    gdp_pop_df[\"cia_rgdpna_pc\"].dropna().reset_index().ccode.unique(),\n",
    ")\n",
    "cia_group_x_ctries = [GROUPS_X_Y.loc[x, \"x_ccode\"] for x in cia_group_y_ctries]\n",
    "cia_yiso_df = ypk_fn.fill_ratio_nominal_gdppc(\n",
    "    cia_group_y_ctries, cia_group_x_ctries, gdp_pop_df, y_df, \"cia_rgdpna_pc\"\n",
    ")"
   ]
  },
  {
   "cell_type": "markdown",
   "id": "3700e749-1d54-4969-a882-8336c0b2f45b",
   "metadata": {},
   "source": [
    "Let us gather `wb_yiso_df`, `un_yiso_df`, and `cia_yiso_df` together."
   ]
  },
  {
   "cell_type": "code",
   "execution_count": 89,
   "id": "bcaf4e46-958a-4c8a-9f8c-a11f3ab86ed2",
   "metadata": {},
   "outputs": [],
   "source": [
    "wuc_cols = [\"rgdpna_pc\", \"x_rgdpna_pc\", \"gdppc_source\", \"x_ccode\"]\n",
    "wuc_cols_un = {x: x + \"_un\" for x in wuc_cols}\n",
    "wuc_cols_cia = {x: x + \"_cia\" for x in wuc_cols}\n",
    "wuc_yiso_df = wb_yiso_df.join(\n",
    "    un_yiso_df[wuc_cols].rename(columns=wuc_cols_un), how=\"outer\"\n",
    ").join(cia_yiso_df[wuc_cols].rename(columns=wuc_cols_cia), how=\"outer\")\n",
    "\n",
    "# filling with UN nominal ratios\n",
    "for k, v in wuc_cols_un.items():\n",
    "    wuc_yiso_df.loc[pd.isnull(wuc_yiso_df[k]), k] = wuc_yiso_df.loc[\n",
    "        pd.isnull(wuc_yiso_df[k]), v\n",
    "    ]\n",
    "\n",
    "# filling with CIA ratios\n",
    "for k, v in wuc_cols_cia.items():\n",
    "    wuc_yiso_df.loc[pd.isnull(wuc_yiso_df[k]), k] = wuc_yiso_df.loc[\n",
    "        pd.isnull(wuc_yiso_df[k]), v\n",
    "    ]\n",
    "\n",
    "# dropping unnecessary columns\n",
    "wuc_yiso_df.drop(\n",
    "    list(wuc_cols_un.values()) + list(wuc_cols_cia.values()), axis=1, inplace=True\n",
    ")"
   ]
  },
  {
   "cell_type": "markdown",
   "id": "21b1aa36-fff0-4af8-a531-baefdca1d649",
   "metadata": {},
   "source": [
    "#### Gathering all information on Group Y countries"
   ]
  },
  {
   "cell_type": "code",
   "execution_count": 90,
   "id": "60a304e3-f731-410f-a736-8fd9e6db13ef",
   "metadata": {},
   "outputs": [],
   "source": [
    "wuc_cols_df = {x: x + \"_wuc\" for x in wuc_cols}\n",
    "group_y = pd.concat(\n",
    "    (\n",
    "        group_y,\n",
    "        # add france overseas departments\n",
    "        fra_all_y.loc[sset.FRA_OVERSEAS_DEPT.split(\"+\")[1:], :].assign(x_ccode=\"FRA\"),\n",
    "    )\n",
    ").join(wuc_yiso_df[wuc_cols].rename(columns=wuc_cols_df), how=\"outer\")\n",
    "for k, v in wuc_cols_df.items():\n",
    "    group_y.loc[pd.isnull(group_y[k]), k] = group_y.loc[pd.isnull(group_y[k]), v]\n",
    "group_y.drop(list(wuc_cols_df.values()), axis=1, inplace=True)\n",
    "\n",
    "# ensure no missing\n",
    "assert group_y[[\"x_ccode\", \"rgdpna_pc\"]].notnull().all().all()"
   ]
  },
  {
   "cell_type": "markdown",
   "id": "2cf57560-0f18-40da-a9da-3e551179bc35",
   "metadata": {},
   "source": [
    "Since many of the country-years in `group_y` actually have PPP GDPpc information elsewhere, let us try to gather these."
   ]
  },
  {
   "cell_type": "code",
   "execution_count": 91,
   "id": "ccee1707-d1c6-4350-8639-f836354194bf",
   "metadata": {},
   "outputs": [],
   "source": [
    "st = sset.HISTORICAL_YEARS[0]\n",
    "end = sset.HISTORICAL_YEARS[-1]\n",
    "\n",
    "ppp_y_codes = np.intersect1d(\n",
    "    GROUPS_X_Y.reset_index().ccode.unique(),\n",
    "    y_df[\"rgdpna_pc\"].dropna().reset_index().ccode.unique(),\n",
    ")\n",
    "group_y_ppp = []\n",
    "for i in ppp_y_codes:\n",
    "    cnd = y_df.loc[(i, [st, end]), \"rgdpna_pc\"].isnull()\n",
    "\n",
    "    if cnd[0]:\n",
    "        i_df = y_df.loc[[i], :].copy()\n",
    "    else:\n",
    "        i_source = y_df.loc[i, \"gdppc_source\"].dropna().unique()\n",
    "        if \"WB\" in i_source:\n",
    "            i_df = gdp_pop_df.loc[[i], \"wb_rgdpna_pc\"].rename(\"rgdpna_pc\").to_frame()\n",
    "            i_df[\"gdppc_source\"] = \"WB\"\n",
    "        elif \"FAMB\" in i_source:\n",
    "            i_df = (\n",
    "                gdp_pop_df.loc[[i], \"fariss_rgdpna_pc\"].rename(\"rgdpna_pc\").to_frame()\n",
    "            )\n",
    "            i_df[\"gdppc_source\"] = \"FAMB\"\n",
    "        else:\n",
    "            i_df = gdp_pop_df.loc[[i], \"rgdpna_pc\"].to_frame()\n",
    "            i_df[\"gdppc_source\"] = \"PWT\"\n",
    "    xiso = GROUPS_X_Y.loc[i, \"x_ccode\"]\n",
    "    i_df[\"x_ccode\"] = xiso\n",
    "\n",
    "    if (not cnd[1]) and (not cnd[0]):\n",
    "        i_df.loc[(i, end), \"rgdpna_pc\"] = y_df.loc[(i, end), \"rgdpna_pc\"]\n",
    "        i_df.loc[(i, end), \"gdppc_source\"] = y_df.loc[(i, end), \"gdppc_source\"]\n",
    "\n",
    "    i_df = i_df.join(gdp_pop_df.loc[xiso, \"rgdpna_pc\"].rename(\"x_rgdpna_pc\"))\n",
    "    if not cnd[1]:\n",
    "        i_df.loc[(i, end), \"x_rgdpna_pc\"] = y_df.loc[(xiso, end), \"rgdpna_pc\"]\n",
    "\n",
    "    group_y_ppp.append(i_df)\n",
    "\n",
    "group_y_ppp = pd.concat(group_y_ppp).dropna()\n",
    "\n",
    "# merging with the rest\n",
    "wuc_dict = {x: x + \"_wuc\" for x in wuc_cols}\n",
    "group_y_all = group_y_ppp.join(group_y.rename(columns=wuc_dict), how=\"outer\")\n",
    "for k, v in wuc_dict.items():\n",
    "    group_y_all.loc[pd.isnull(group_y_all[k]), k] = group_y_all.loc[\n",
    "        pd.isnull(group_y_all[k]), v\n",
    "    ]\n",
    "group_y_all.drop(list(wuc_dict.values()), axis=1, inplace=True)"
   ]
  },
  {
   "cell_type": "code",
   "execution_count": 92,
   "id": "fd924a48-430c-45e7-b9b8-8bbcf7474639",
   "metadata": {},
   "outputs": [],
   "source": [
    "# for consistency, will attach FRA instead of FRA+overseas depts\n",
    "group_y_not_fraov = group_y_all.loc[\n",
    "    ~group_y_all.x_ccode.isin([sset.FRA_OVERSEAS_DEPT, \"FRA\"]), :\n",
    "].copy()\n",
    "group_y_fraov = group_y_all.loc[\n",
    "    group_y_all.x_ccode.isin([sset.FRA_OVERSEAS_DEPT, \"FRA\"]), :\n",
    "].copy()\n",
    "group_y_fraov.drop([\"x_rgdpna_pc\"], axis=1, inplace=True)\n",
    "group_y_fraov = group_y_fraov.join(\n",
    "    fra_all_y.loc[\"FRA\", \"rgdpna_pc\"].rename(\"x_rgdpna_pc\"), how=\"left\"\n",
    ")\n",
    "group_y_fraov[\"x_ccode\"] = \"FRA\"\n",
    "\n",
    "# post-France cleaning\n",
    "group_y_postfra = pd.concat([group_y_not_fraov, group_y_fraov])\n",
    "group_y_postfra = group_y_postfra.loc[\n",
    "    ~group_y_postfra[[\"x_rgdpna_pc\", \"rgdpna_pc\"]].isnull().any(axis=1), :\n",
    "].copy()\n",
    "group_y_postfra[\"ratio\"] = group_y_postfra[\"rgdpna_pc\"].div(\n",
    "    group_y_postfra[\"x_rgdpna_pc\"]\n",
    ")"
   ]
  },
  {
   "cell_type": "markdown",
   "id": "837a8abb-88f1-4cf3-bfde-c25741636f0d",
   "metadata": {},
   "source": [
    "#### Regression method from [Bertram (2004, World Development)](https://www.researchgate.net/publication/222432177_On_the_Convergence_of_Small_Island_Economies_with_Their_Metropolitan_Patrons)\n",
    "\n",
    "We first organize the dataset for fitting the regression (as `bertram_prep` below)."
   ]
  },
  {
   "cell_type": "code",
   "execution_count": 93,
   "id": "95de697f-e50c-4472-8b88-290ae0375cc5",
   "metadata": {},
   "outputs": [],
   "source": [
    "# organizing the regression dataset\n",
    "bertram_prep = group_y_postfra.join(GROUPS_X_Y[[\"disputed\", \"indep_yr\"]], how=\"left\")\n",
    "bertram_prep = bertram_prep.reset_index().drop([\"ratio\"], axis=1)\n",
    "bertram_prep[\"indep\"] = (bertram_prep[\"indep_yr\"] <= bertram_prep[\"year\"]).astype(\n",
    "    \"int64\"\n",
    ")\n",
    "bertram_prep[\"grpx_x_indep\"] = bertram_prep[\"indep\"].mul(bertram_prep[\"x_rgdpna_pc\"])"
   ]
  },
  {
   "cell_type": "markdown",
   "id": "cd7e5392-9452-4532-9d56-88478fabce7d",
   "metadata": {},
   "source": [
    "We use $k$-folds cross-validation (with $k=10$ in our case) to test which of the following specifications would be best.\n",
    "\n",
    "Baseline specification that we test is (from Table 2 of Bertram 2004):\n",
    "$$ y_{i, t} = \\alpha + \\beta_1 y_{sov(i), t} + \\beta_2 IND_{i, t} + \\varepsilon_{i, t} $$\n",
    "where\n",
    "- $y$: GDPpc in constant 2017 PPP USD terms\n",
    "- $sov(i)$: former or current sovereignty of $i$ or country having territory disputes with $i$\n",
    "- $IND_{i, t}$: whether $i$ is independent at time $t$\n",
    "- $i$, $t$: country $i$ in Group Y and year $t$\n",
    "\n",
    "Alternative specifications are combinations of doing the following:\n",
    "1. Adding Group Y country fixed effects $\\alpha_i$\n",
    "2. Adding Group X country fixed effects $\\gamma_{sov(i)}$\n",
    "3. Adding decade fixed effects $\\phi_{decade(t)}$ where $decade(t)$ is 10-year range that year $t$ belongs to (i.e., 1950-1959, 1960-1969, ..., 2000-2009, and 2010-2020)\n",
    "4. Adding $DIS_{i}$ as a variable for whether $i$ has territorial disputes\n",
    "5. Adding the interaction term $y_{sov(i), t}\\times IND_{i, t}$"
   ]
  },
  {
   "cell_type": "code",
   "execution_count": 94,
   "id": "dd29fdf6-8146-458d-871e-3b2b7b98a1e9",
   "metadata": {},
   "outputs": [],
   "source": [
    "# creating decade variables\n",
    "bertram_prep[\"decade\"] = (bertram_prep[\"year\"] - 1950) // 10\n",
    "bertram_prep.loc[bertram_prep.year == 2020, \"decade\"] = 6\n",
    "\n",
    "# creating dummies\n",
    "deca_dum = pd.get_dummies(bertram_prep.decade, \"dec_fe\", drop_first=True)\n",
    "x_dum = pd.get_dummies(bertram_prep.x_ccode, \"x_fe\", drop_first=True)\n",
    "y_dum = pd.get_dummies(bertram_prep.ccode, \"y_fe\", drop_first=True)\n",
    "bertram_regdf = pd.concat([bertram_prep, deca_dum, x_dum, y_dum], axis=1)\n",
    "\n",
    "# we will export the Bertram regression dataset for potential future uses\n",
    "bertram_regdf.reset_index(drop=True, inplace=True)\n",
    "save(bertram_regdf, sset.DIR_YPK_INT / \"bertram_regression_data.parquet\")"
   ]
  },
  {
   "cell_type": "code",
   "execution_count": 95,
   "id": "96df3bea-ea35-4156-b7ec-fa8a724fbc6e",
   "metadata": {},
   "outputs": [],
   "source": [
    "# gathering different specifications\n",
    "bertram_baseline = [\"x_rgdpna_pc\", \"indep\"]\n",
    "bertram_y_fe = [c for c in bertram_regdf.columns if \"y_fe\" in c]\n",
    "bertram_x_fe = [c for c in bertram_regdf.columns if \"x_fe\" in c]\n",
    "bertram_dec_fe = [c for c in bertram_regdf.columns if \"dec_fe\" in c]\n",
    "\n",
    "bertram_specs = []\n",
    "for i in list(lstprod(*([[0, 1]] * 5))):\n",
    "    spec = bertram_baseline.copy()\n",
    "    if i[0] == 1:\n",
    "        spec += bertram_y_fe\n",
    "    if i[1] == 1:\n",
    "        spec += bertram_x_fe\n",
    "    if i[2] == 1:\n",
    "        spec += bertram_dec_fe\n",
    "    if i[3] == 1:\n",
    "        spec.append(\"disputed\")\n",
    "    if i[4] == 1:\n",
    "        spec.append(\"grpx_x_indep\")\n",
    "    bertram_specs.append(spec)"
   ]
  },
  {
   "cell_type": "code",
   "execution_count": 96,
   "id": "bce431a1-431e-407f-90aa-087bbc3cd9c5",
   "metadata": {
    "tags": []
   },
   "outputs": [
    {
     "data": {
      "application/vnd.jupyter.widget-view+json": {
       "model_id": "f8759be7658841149abdbd1b46682b46",
       "version_major": 2,
       "version_minor": 0
      },
      "text/plain": [
       "  0%|          | 0/32 [00:00<?, ?it/s]"
      ]
     },
     "metadata": {},
     "output_type": "display_data"
    }
   ],
   "source": [
    "# finding the best specification out of the ones in `bertram_specs`\n",
    "best_spec = ypk_fn.bertram_k_fold(bertram_regdf, bertram_specs)"
   ]
  },
  {
   "cell_type": "markdown",
   "id": "5d729eb7-9b64-4785-b58d-428ac2f0a4ad",
   "metadata": {},
   "source": [
    "We now use the best specification (in terms of minimized $k$-folds SSE) to fill in the missing values."
   ]
  },
  {
   "cell_type": "code",
   "execution_count": 97,
   "id": "f5b53d96-7663-4c98-b25a-8cb6e9ccacfa",
   "metadata": {},
   "outputs": [],
   "source": [
    "# fitting with the best specification\n",
    "best_model = sm.OLS(\n",
    "    bertram_regdf[\"rgdpna_pc\"], sm.add_constant(bertram_regdf[best_spec])\n",
    ").fit()\n",
    "\n",
    "# creating the RHS dataframe for prediction\n",
    "bertram_predict = []\n",
    "for iso in GROUPS_X_Y.reset_index().ccode.unique():\n",
    "    xiso = GROUPS_X_Y.loc[iso, \"x_ccode\"]\n",
    "    indep = GROUPS_X_Y.loc[iso, \"indep_yr\"]\n",
    "    iso_df = (\n",
    "        y_df.loc[[xiso], [\"rgdpna_pc\"]]\n",
    "        .reset_index()\n",
    "        .rename(columns={\"rgdpna_pc\": \"x_rgdpna_pc\", \"ccode\": \"x_ccode\"})\n",
    "    )\n",
    "    iso_df[\"ccode\"] = iso\n",
    "    iso_df[\"indep\"] = 0\n",
    "    iso_df = iso_df.join(GROUPS_X_Y.disputed, how=\"left\", on=\"ccode\")\n",
    "    if not pd.isnull(indep):\n",
    "        iso_df.loc[iso_df.year >= indep, \"indep\"] = 1\n",
    "    iso_df[\"grpx_x_indep\"] = iso_df[[\"x_rgdpna_pc\", \"indep\"]].prod(axis=1)\n",
    "    bertram_predict.append(iso_df)\n",
    "bertram_predict = pd.concat(bertram_predict, axis=0)\n",
    "bertram_predict[\"decade\"] = 6\n",
    "bertram_predict.loc[bertram_predict.year <= 2009, \"decade\"] = 5\n",
    "pred_deca_dum = pd.get_dummies(bertram_predict.decade, \"dec_fe\", drop_first=False)\n",
    "pred_x_dum = pd.get_dummies(bertram_predict.x_ccode, \"x_fe\", drop_first=True)\n",
    "pred_y_dum = pd.get_dummies(bertram_predict.ccode, \"y_fe\", drop_first=True)\n",
    "for i in range(1, 5):\n",
    "    bertram_predict[f\"dec_fe_{i}\"] = 0\n",
    "bertram_predict = pd.concat(\n",
    "    [bertram_predict, pred_deca_dum, pred_x_dum, pred_y_dum], axis=1\n",
    ")\n",
    "\n",
    "# predicting with the above model\n",
    "pred_Y_rgdpna_pc = best_model.predict(sm.add_constant(bertram_predict[best_spec]))\n",
    "bertram_predict[\"rgdpna_pc_predicted\"] = pred_Y_rgdpna_pc\n",
    "bertram_predict.set_index([\"ccode\", \"year\"], inplace=True)\n",
    "bertram_predict = bertram_predict.join(\n",
    "    group_y_postfra[[\"rgdpna_pc\", \"gdppc_source\"]], how=\"left\"\n",
    ")\n",
    "\n",
    "# filling in missing values with predicted values\n",
    "bertram_predict.loc[\n",
    "    pd.isnull(bertram_predict.rgdpna_pc), \"gdppc_source\"\n",
    "] = \"bertram_regression\"\n",
    "bertram_predict.loc[\n",
    "    pd.isnull(bertram_predict.rgdpna_pc), \"rgdpna_pc\"\n",
    "] = bertram_predict.loc[\n",
    "    pd.isnull(bertram_predict.rgdpna_pc), \"rgdpna_pc_predicted\"\n",
    "].values"
   ]
  },
  {
   "cell_type": "markdown",
   "id": "cea42848-749f-40af-9aa2-71c54f1ebbf9",
   "metadata": {},
   "source": [
    "Unfortunately, there are some countries with negative values in their predicted GDPpc (most likely due to little information to begin with). For these countries, we will have to use the average GDPpc ratio between that country and corresponding Group X country."
   ]
  },
  {
   "cell_type": "code",
   "execution_count": 98,
   "id": "e79ab54d-4c21-474f-b6f4-fd409757cef1",
   "metadata": {},
   "outputs": [
    {
     "name": "stdout",
     "output_type": "stream",
     "text": [
      "Countries with negative predicted values from Bertram regression:\n",
      "['PCN' 'TKL' 'SSD']\n"
     ]
    }
   ],
   "source": [
    "pred_negative = (\n",
    "    bertram_predict.loc[bertram_predict.rgdpna_pc_predicted < 0, :]\n",
    "    .reset_index()\n",
    "    .ccode.unique()\n",
    ")\n",
    "print(\"Countries with negative predicted values from Bertram regression:\")\n",
    "print(pred_negative)\n",
    "\n",
    "ratio_iso_df = []\n",
    "for i in pred_negative:\n",
    "    iso_df = group_y_postfra.loc[i, :].copy()\n",
    "    xiso = GROUPS_X_Y.loc[i, \"x_ccode\"]\n",
    "    mean_ratio = np.mean(iso_df[\"rgdpna_pc\"].div(iso_df[\"x_rgdpna_pc\"]))\n",
    "    iso_y = bertram_predict.loc[i, \"x_rgdpna_pc\"].values * mean_ratio\n",
    "    iso_df = pd.DataFrame(\n",
    "        data={\"year\": sset.HISTORICAL_YEARS, \"rgdpna_pc_ratio\": iso_y}\n",
    "    )\n",
    "    iso_df[\"ccode\"], iso_df[\"gdppc_source_ratio\"] = i, f\"{i}+{xiso}_existing_avg_ratio\"\n",
    "    ratio_iso_df.append(iso_df.set_index([\"ccode\", \"year\"]))\n",
    "ratio_iso_df = pd.concat(ratio_iso_df, axis=0)"
   ]
  },
  {
   "cell_type": "code",
   "execution_count": 99,
   "id": "7ab8392a-e7c1-4e64-ad4c-681ef2ca011a",
   "metadata": {},
   "outputs": [],
   "source": [
    "bertram_predict.loc[\n",
    "    bertram_predict.index.get_level_values(\"ccode\").isin(pred_negative)\n",
    "    & (bertram_predict.gdppc_source == \"bertram_regression\"),\n",
    "    [\"gdppc_source\", \"rgdpna_pc\"],\n",
    "] = np.nan\n",
    "\n",
    "bertram_predict = bertram_predict.join(ratio_iso_df, how=\"left\")\n",
    "for col in [\"gdppc_source\", \"rgdpna_pc\"]:\n",
    "    bertram_predict.loc[\n",
    "        bertram_predict.index.get_level_values(\"ccode\").isin(pred_negative)\n",
    "        & pd.isnull(bertram_predict[col]),\n",
    "        col,\n",
    "    ] = bertram_predict.loc[\n",
    "        bertram_predict.index.get_level_values(\"ccode\").isin(pred_negative)\n",
    "        & pd.isnull(bertram_predict[col]),\n",
    "        (col + \"_ratio\"),\n",
    "    ].values"
   ]
  },
  {
   "cell_type": "markdown",
   "id": "7eebfb6c-53c6-4bbd-9347-96cce417c473",
   "metadata": {},
   "source": [
    "Let us merge these results with the rest of the `y_df`."
   ]
  },
  {
   "cell_type": "code",
   "execution_count": 100,
   "id": "74adba0c-6b33-466b-a367-54c997c8a455",
   "metadata": {},
   "outputs": [],
   "source": [
    "cols = [\"gdppc_source\", \"rgdpna_pc\"]\n",
    "bertram_results = bertram_predict[cols].rename(columns={x: x + \"_bert\" for x in cols})\n",
    "y_df = y_df.join(bertram_results, how=\"outer\")\n",
    "for i in cols:\n",
    "    y_df.loc[pd.isnull(y_df[i]), i] = y_df.loc[pd.isnull(y_df[i]), i + \"_bert\"].values\n",
    "y_df.drop([x + \"_bert\" for x in cols], axis=1, inplace=True)"
   ]
  },
  {
   "cell_type": "markdown",
   "id": "1eb40e85-4ef2-416b-8c78-d37c65605619",
   "metadata": {},
   "source": [
    "### Other individual countries still missing information"
   ]
  },
  {
   "cell_type": "markdown",
   "id": "0add4e67-5a02-4c88-af20-b7fa053271f5",
   "metadata": {
    "tags": []
   },
   "source": [
    "#### Copy `NMP` to fill in `UMI`, only for the year 2000"
   ]
  },
  {
   "cell_type": "code",
   "execution_count": 101,
   "id": "764f2a61-a16f-4802-b409-56c0b4eaf7fb",
   "metadata": {},
   "outputs": [],
   "source": [
    "y_df.loc[(\"UMI\", 2000), \"rgdpna_pc\"] = y_df.loc[(\"MNP\", 2000), \"rgdpna_pc\"].item()\n",
    "y_df.loc[(\"UMI\", 2000), \"gdppc_source\"] = \"copy_MNP\""
   ]
  },
  {
   "cell_type": "markdown",
   "id": "9a67c487-a254-476a-8c68-5a3981546446",
   "metadata": {},
   "source": [
    "### Finalizing `rgdpna_pc` series (`y_df`), merging with population, and creating `rgdpna` series"
   ]
  },
  {
   "cell_type": "code",
   "execution_count": 102,
   "id": "ae4b814c-249e-41e2-9abb-ef3aad7213fd",
   "metadata": {},
   "outputs": [],
   "source": [
    "y_df = y_df.loc[ALL_ISOS, :].dropna()\n",
    "assert y_df.to_xarray().notnull().to_array().all()\n",
    "yp_df = y_df.join(pop_cleaned, how=\"left\")\n",
    "yp_df[\"rgdpna\"] = yp_df[[\"rgdpna_pc\", \"pop\"]].prod(axis=1)"
   ]
  },
  {
   "cell_type": "markdown",
   "id": "7241626c-43ff-4b0a-af6e-515d80c58f16",
   "metadata": {},
   "source": [
    "## Filling in the missing values for the `cgdpo` (current PPP 2017 USD) series"
   ]
  },
  {
   "cell_type": "markdown",
   "id": "6bf4e643-5b3d-4689-910e-347675415cca",
   "metadata": {},
   "source": [
    "### Transforming the `rgdpna_pc` series to `cgdpo_pc` equivalents via PPP conversion rates"
   ]
  },
  {
   "cell_type": "code",
   "execution_count": 103,
   "id": "faeb6e83-bede-4409-ac23-442d90c5e3cd",
   "metadata": {},
   "outputs": [],
   "source": [
    "yp_df = yp_df.join(ppp_to_2017.conv, how=\"left\")\n",
    "yp_df.loc[pd.isnull(yp_df.conv), \"conv\"] = 1\n",
    "\n",
    "# copying the 2019 conversion to 2020 conversion\n",
    "yp_df.loc[(slice(None), 2020), \"conv\"] = yp_df.loc[(slice(None), 2019), \"conv\"].values\n",
    "yp_df[\"cgdpo_pc_equiv\"] = yp_df[\"rgdpna_pc\"].div(yp_df[\"conv\"])"
   ]
  },
  {
   "cell_type": "markdown",
   "id": "ea9c6aa3-adf5-40d3-91a5-141de81210e9",
   "metadata": {},
   "source": [
    "### Attaching the actual `cgdpo_pc`\n",
    "\n",
    "We accomplish this by creating ratio between `cgdpo_pc` and `rgdpna_pc` (`c_to_r`); for 2020, we copy `c_to_r` of 2019. In doing so, we will again try to clean up for the issue with French mainland.\n",
    "\n",
    "For countries that are not in PWT 10.0 but have Fariss et al. (2022) information, create `c_to_r` by using the ratio between `fariss_cgdpe` and `fariss_rgdpna` (note that `cgdpe` is slightly different from `cgdpo` as it does not take import/export prices into account, but is the closest thing)."
   ]
  },
  {
   "cell_type": "code",
   "execution_count": 104,
   "id": "be2053c3-4834-4a90-87ee-245fc9448189",
   "metadata": {},
   "outputs": [],
   "source": [
    "# creating mainland France cgdpo_pc from FRA+OV cgdpo-to-rgdpna ratio\n",
    "gdp_pop_df[\"cgdpo_pc\"] = gdp_pop_df[\"cgdpo\"].div(gdp_pop_df[\"pop\"])\n",
    "gdp_pop_df[\"c_to_r\"] = gdp_pop_df[\"cgdpo_pc\"].div(gdp_pop_df[\"rgdpna_pc\"])\n",
    "fra_main = fra_all_y.loc[[\"FRA\"], [\"rgdpna_pc\"]]\n",
    "fra_main_yrs = fra_main.reset_index()[\"year\"]\n",
    "fra_main_ratio = gdp_pop_df.loc[([sset.FRA_OVERSEAS_DEPT], fra_main_yrs), [\"c_to_r\"]]\n",
    "fra_main_ratio.loc[(sset.FRA_OVERSEAS_DEPT, 2020), \"c_to_r\"] = fra_main_ratio.loc[\n",
    "    (sset.FRA_OVERSEAS_DEPT, 2019), \"c_to_r\"\n",
    "]\n",
    "fra_main = fra_main.join(fra_main_ratio.loc[sset.FRA_OVERSEAS_DEPT, \"c_to_r\"])\n",
    "fra_main[\"cgdpo_pc\"] = fra_main[[\"rgdpna_pc\", \"c_to_r\"]].prod(axis=1)\n",
    "fra_main[\"c_to_r_source\"] = \"PWT\"\n",
    "\n",
    "# creating the rest of the cgdpo_pc\n",
    "c_to_r = gdp_pop_df.loc[\n",
    "    ~gdp_pop_df.index.get_level_values(\"ccode\").isin([\"FRA\", sset.FRA_OVERSEAS_DEPT]),\n",
    "    [\"c_to_r\"],\n",
    "].dropna()\n",
    "c_to_r[\"c_to_r_source\"] = \"PWT\"\n",
    "famb_c_to_r = gdp_pop_df.loc[\n",
    "    gdp_pop_df.index.get_level_values(\"ccode\") != sset.FRA_OVERSEAS_DEPT,\n",
    "    [\"fariss_rgdpna\", \"fariss_cgdpo\", \"fariss_pop\"],\n",
    "].dropna()\n",
    "famb_c_to_r[\"c_to_r\"] = famb_c_to_r[\"fariss_cgdpo\"].div(famb_c_to_r[\"fariss_rgdpna\"])\n",
    "famb_c_to_r = famb_c_to_r.loc[\n",
    "    ~famb_c_to_r.index.get_level_values(\"ccode\").isin(\n",
    "        c_to_r.reset_index().ccode.unique()\n",
    "    )\n",
    "    & famb_c_to_r.index.get_level_values(\"year\").isin(sset.HISTORICAL_YEARS),\n",
    "    [\"c_to_r\"],\n",
    "]\n",
    "famb_c_to_r[\"c_to_r_source\"] = \"FAMB\"\n",
    "c_to_r = pd.concat([c_to_r, famb_c_to_r], axis=0).sort_index()\n",
    "\n",
    "c_to_r_2020 = c_to_r.loc[(slice(None), [2019]), :].reset_index()\n",
    "c_to_r_2020[\"year\"] = 2020\n",
    "c_to_r_2020.set_index([\"ccode\", \"year\"], inplace=True)\n",
    "c_to_r = pd.concat([c_to_r, c_to_r_2020, fra_main[[\"c_to_r\", \"c_to_r_source\"]]])\n",
    "\n",
    "# merging the c_to_r ratios with yp_df, creating cgdpo_pc\n",
    "yp_df = yp_df.join(c_to_r)\n",
    "yp_df[\"cgdpo_pc\"] = yp_df[[\"rgdpna_pc\", \"c_to_r\"]].prod(axis=1, skipna=False)\n",
    "yp_df.loc[pd.isnull(yp_df.c_to_r_source), \"cgdpo_pc\"] = yp_df.loc[\n",
    "    pd.isnull(yp_df.c_to_r_source), \"cgdpo_pc_equiv\"\n",
    "].values\n",
    "yp_df.loc[pd.isnull(yp_df.c_to_r_source), \"c_to_r_source\"] = \"conv_rgdpna_pc\"\n",
    "yp_df[\"cgdpo\"] = yp_df[[\"cgdpo_pc\", \"pop\"]].prod(axis=1)\n",
    "yp_df.drop([\"c_to_r\", \"conv\", \"cgdpo_pc_equiv\"], axis=1, inplace=True)"
   ]
  },
  {
   "cell_type": "markdown",
   "id": "e9c66764-75f7-4cfe-a869-0e9c954add61",
   "metadata": {},
   "source": [
    "## Creating the current PPP-2019 USD `cgdpo` and constant 2019 PPP USD `rgdpna`"
   ]
  },
  {
   "cell_type": "markdown",
   "id": "6320a549-32cd-48d0-aaad-a15291e4f7b8",
   "metadata": {},
   "source": [
    "### Creating `cgdpo_19` and `cgdpo_pc_19`"
   ]
  },
  {
   "cell_type": "code",
   "execution_count": 105,
   "id": "c33d1fd3-310a-427f-b826-8d4970faf3fd",
   "metadata": {},
   "outputs": [],
   "source": [
    "yp_df.rename(\n",
    "    columns={x: x + \"_17\" for x in [\"rgdpna_pc\", \"rgdpna\", \"cgdpo_pc\", \"cgdpo\"]},\n",
    "    inplace=True,\n",
    ")\n",
    "infla_1719 = defla.loc[2019, \"pl_gdpo\"] / defla.loc[2017, \"pl_gdpo\"]\n",
    "\n",
    "yp_df[\"cgdpo_19\"] = yp_df[\"cgdpo_17\"] * infla_1719\n",
    "yp_df[\"cgdpo_pc_19\"] = yp_df[\"cgdpo_19\"] / yp_df[\"pop\"]"
   ]
  },
  {
   "cell_type": "markdown",
   "id": "1a4ed720-b223-4590-af99-a7a9a7c50b3b",
   "metadata": {},
   "source": [
    "### Creating `rgdpna_19` and `rgdpna_pc_19`"
   ]
  },
  {
   "cell_type": "code",
   "execution_count": 106,
   "id": "7bb591d2-51ba-4427-8eff-a6b635a29fb3",
   "metadata": {},
   "outputs": [],
   "source": [
    "# growth rate (or ratio) of rgdpna_17, based in 2019\n",
    "yp_df = yp_df.join(\n",
    "    yp_df.loc[(slice(None), 2019), \"rgdpna_17\"]\n",
    "    .rename(\"r_2019\")\n",
    "    .reset_index()\n",
    "    .drop([\"year\"], axis=1)\n",
    "    .set_index([\"ccode\"])\n",
    ")\n",
    "yp_df[\"r_gr\"] = yp_df[\"rgdpna_17\"].div(yp_df[\"r_2019\"])\n",
    "\n",
    "# multiply this with 2019 value of cgdpo_19\n",
    "yp_df = yp_df.join(\n",
    "    yp_df.loc[(slice(None), 2019), \"cgdpo_19\"]\n",
    "    .rename(\"c_2019\")\n",
    "    .reset_index()\n",
    "    .drop([\"year\"], axis=1)\n",
    "    .set_index([\"ccode\"])\n",
    ")\n",
    "yp_df[\"rgdpna_19\"] = yp_df[[\"r_gr\", \"c_2019\"]].prod(axis=1)\n",
    "\n",
    "# clean up and rgdpna_pc_19\n",
    "yp_df.drop([\"r_gr\", \"r_2019\", \"c_2019\"], axis=1, inplace=True)\n",
    "yp_df[\"rgdpna_pc_19\"] = yp_df[\"rgdpna_19\"].div(yp_df[\"pop\"])\n",
    "\n",
    "# Filling the `nan`s in with zeros (which are from zero population)\n",
    "for i in [\"rgdpna_pc_19\", \"cgdpo_pc_19\"]:\n",
    "    yp_df.loc[pd.isnull(yp_df[i]), i] = 0\n",
    "\n",
    "# cleaning up UMI, year 2000, due to its peculiarity\n",
    "for i in [\"rgdpna_19\", \"rgdpna_pc_19\"]:\n",
    "    yp_df.loc[(\"UMI\", 2000), i] = yp_df.loc[(\"UMI\", 2000), i.replace(\"rgdpna\", \"cgdpo\")]"
   ]
  },
  {
   "cell_type": "markdown",
   "id": "e78308d8-249b-457c-9a77-70472c8b7563",
   "metadata": {},
   "source": [
    "## Exporting"
   ]
  },
  {
   "cell_type": "code",
   "execution_count": 107,
   "id": "9754405a-04f2-4c1f-abe9-5bf1f8ab1688",
   "metadata": {},
   "outputs": [],
   "source": [
    "# reorganizing the columns\n",
    "gp_columns = [\n",
    "    \"pop_source\",\n",
    "    \"gdppc_source\",\n",
    "    \"c_to_r_source\",\n",
    "    \"pop\",\n",
    "    \"rgdpna_pc_17\",\n",
    "    \"rgdpna_17\",\n",
    "    \"rgdpna_pc_19\",\n",
    "    \"rgdpna_19\",\n",
    "    \"cgdpo_pc_17\",\n",
    "    \"cgdpo_17\",\n",
    "    \"cgdpo_pc_19\",\n",
    "    \"cgdpo_19\",\n",
    "]\n",
    "yp_df = yp_df[gp_columns]\n",
    "\n",
    "# Exporting\n",
    "save(yp_df, sset.PATH_INC_POP_CLEANED)"
   ]
  }
 ],
 "metadata": {
  "kernelspec": {
   "display_name": "Python 3 (ipykernel)",
   "language": "python",
   "name": "python3"
  },
  "language_info": {
   "codemirror_mode": {
    "name": "ipython",
    "version": 3
   },
   "file_extension": ".py",
   "mimetype": "text/x-python",
   "name": "python",
   "nbconvert_exporter": "python",
   "pygments_lexer": "ipython3",
   "version": "3.9.10"
  },
  "widgets": {
   "application/vnd.jupyter.widget-state+json": {
    "state": {},
    "version_major": 2,
    "version_minor": 0
   }
  }
 },
 "nbformat": 4,
 "nbformat_minor": 5
}
